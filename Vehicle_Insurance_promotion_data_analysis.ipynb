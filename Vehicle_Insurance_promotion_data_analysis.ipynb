{
  "nbformat": 4,
  "nbformat_minor": 0,
  "metadata": {
    "colab": {
      "name": "Copy of Untitled5.ipynb",
      "provenance": [],
      "collapsed_sections": [],
      "toc_visible": true
    },
    "kernelspec": {
      "name": "python3",
      "display_name": "Python 3"
    }
  },
  "cells": [
    {
      "cell_type": "markdown",
      "metadata": {
        "id": "zVQqcchC0F2R",
        "colab_type": "text"
      },
      "source": [
        "# Capstone Project - The Battle of the Neighborhoods (Week 2)\n",
        "\n",
        "Applied Data Science Capstone by IBM/Coursera\n",
        "\n",
        "# Title - Data Analysis for Promotion of Vehicle Insurance in each borough of Munich city\n"
      ]
    },
    {
      "cell_type": "markdown",
      "metadata": {
        "id": "_BPEKQY40rUa",
        "colab_type": "text"
      },
      "source": [
        "# Business Problem\n",
        "One of the vehicle insurance company wants to increase number of people having cars or motorbikes to use their company's vehicle insurances. They want to do so by providing cutomized offers and promotions to the people of Munich having cars. They have tie-up with automotive manufacturers, petroleum stations, car/motor-bike repair shops etc and also have contact with many common apps owners.\n",
        "\n",
        "The vehicle insurance company can know when people are near the venues like automotive repair shops, gas/petroleum stations etc and wanted to send customized offers/promotions when people are near the venues where they have tie-up with.\n",
        "\n",
        "Now they want to segregate the people having similar characteristics into clusters so that they can send customized offers/promotions to increase their insurances count thereby increasing their revenue.\n",
        "\n",
        "In the notebook we will help the insurance company by analysing the number_of_venues they have tie-up with in each region, number of working professionals, number of new cars registered in each region of munich in a year to segment the whole munich region into different segments."
      ]
    },
    {
      "cell_type": "markdown",
      "metadata": {
        "id": "aXLjIqAUqgaN",
        "colab_type": "text"
      },
      "source": [
        "# Import libraries"
      ]
    },
    {
      "cell_type": "code",
      "metadata": {
        "id": "SMvyor4Aqekw",
        "colab_type": "code",
        "colab": {}
      },
      "source": [
        "import pandas as pd\n",
        "import numpy as np\n",
        "import matplotlib.pyplot as plt\n",
        "import seaborn as sns\n",
        "from geopy.geocoders import Nominatim\n",
        "import requests\n",
        "import folium\n",
        "from sklearn.preprocessing import StandardScaler\n",
        "from sklearn.cluster import KMeans\n",
        "from sklearn import metrics\n",
        "from scipy.spatial.distance import cdist\n",
        "import matplotlib.cm as cm\n",
        "from matplotlib import colors\n"
      ],
      "execution_count": null,
      "outputs": []
    },
    {
      "cell_type": "code",
      "metadata": {
        "id": "vez6Y7ueqjNC",
        "colab_type": "code",
        "colab": {}
      },
      "source": [
        "folder_path='/content/drive/My Drive/Accident/'"
      ],
      "execution_count": null,
      "outputs": []
    },
    {
      "cell_type": "markdown",
      "metadata": {
        "id": "dxBWSuvYRfDz",
        "colab_type": "text"
      },
      "source": [
        "# Read Dataset"
      ]
    },
    {
      "cell_type": "code",
      "metadata": {
        "id": "i-dIQN7VRl13",
        "colab_type": "code",
        "colab": {}
      },
      "source": [
        "df_borough=pd.read_csv(folder_path+'Borough-Population.csv')"
      ],
      "execution_count": null,
      "outputs": []
    },
    {
      "cell_type": "markdown",
      "metadata": {
        "id": "ALI5NeziRpsc",
        "colab_type": "text"
      },
      "source": [
        "# Data Processing"
      ]
    },
    {
      "cell_type": "code",
      "metadata": {
        "colab_type": "code",
        "id": "lMslrQGTM6SS",
        "colab": {
          "base_uri": "https://localhost:8080/",
          "height": 204
        },
        "outputId": "848b70de-67e0-4bd5-a05a-d2ffea6e8ce7"
      },
      "source": [
        "df_borough.head()"
      ],
      "execution_count": null,
      "outputs": [
        {
          "output_type": "execute_result",
          "data": {
            "text/html": [
              "<div>\n",
              "<style scoped>\n",
              "    .dataframe tbody tr th:only-of-type {\n",
              "        vertical-align: middle;\n",
              "    }\n",
              "\n",
              "    .dataframe tbody tr th {\n",
              "        vertical-align: top;\n",
              "    }\n",
              "\n",
              "    .dataframe thead th {\n",
              "        text-align: right;\n",
              "    }\n",
              "</style>\n",
              "<table border=\"1\" class=\"dataframe\">\n",
              "  <thead>\n",
              "    <tr style=\"text-align: right;\">\n",
              "      <th></th>\n",
              "      <th>stadtbezirk</th>\n",
              "      <th>einwohner</th>\n",
              "      <th>flaeche</th>\n",
              "      <th>einwohnerdichte</th>\n",
              "      <th>anteil_an_gesamtbevoelkerung</th>\n",
              "    </tr>\n",
              "  </thead>\n",
              "  <tbody>\n",
              "    <tr>\n",
              "      <th>0</th>\n",
              "      <td>1 Altstadt - Lehel</td>\n",
              "      <td>20422</td>\n",
              "      <td>314.57</td>\n",
              "      <td>65.0</td>\n",
              "      <td>1.39</td>\n",
              "    </tr>\n",
              "    <tr>\n",
              "      <th>1</th>\n",
              "      <td>2 Ludwigsvorstadt - Isarvorstadt</td>\n",
              "      <td>50620</td>\n",
              "      <td>440.14</td>\n",
              "      <td>115.0</td>\n",
              "      <td>3.46</td>\n",
              "    </tr>\n",
              "    <tr>\n",
              "      <th>2</th>\n",
              "      <td>3 Maxvorstadt</td>\n",
              "      <td>51642</td>\n",
              "      <td>429.79</td>\n",
              "      <td>120.0</td>\n",
              "      <td>3.53</td>\n",
              "    </tr>\n",
              "    <tr>\n",
              "      <th>3</th>\n",
              "      <td>4 Schwabing West</td>\n",
              "      <td>65892</td>\n",
              "      <td>436.30</td>\n",
              "      <td>151.0</td>\n",
              "      <td>4.50</td>\n",
              "    </tr>\n",
              "    <tr>\n",
              "      <th>4</th>\n",
              "      <td>5 Au - Haidhausen</td>\n",
              "      <td>59752</td>\n",
              "      <td>421.96</td>\n",
              "      <td>142.0</td>\n",
              "      <td>4.08</td>\n",
              "    </tr>\n",
              "  </tbody>\n",
              "</table>\n",
              "</div>"
            ],
            "text/plain": [
              "                           stadtbezirk  ...  anteil_an_gesamtbevoelkerung\n",
              "0                   1 Altstadt - Lehel  ...                          1.39\n",
              "1    2 Ludwigsvorstadt - Isarvorstadt   ...                          3.46\n",
              "2                        3 Maxvorstadt  ...                          3.53\n",
              "3                     4 Schwabing West  ...                          4.50\n",
              "4                    5 Au - Haidhausen  ...                          4.08\n",
              "\n",
              "[5 rows x 5 columns]"
            ]
          },
          "metadata": {
            "tags": []
          },
          "execution_count": 85
        }
      ]
    },
    {
      "cell_type": "code",
      "metadata": {
        "id": "bYq65rCxTTsd",
        "colab_type": "code",
        "colab": {}
      },
      "source": [
        "columns=['borough','residents','surface','population density','share_total_population']"
      ],
      "execution_count": null,
      "outputs": []
    },
    {
      "cell_type": "code",
      "metadata": {
        "id": "7JV0kgieTwjw",
        "colab_type": "code",
        "colab": {}
      },
      "source": [
        "df_borough.columns=columns"
      ],
      "execution_count": null,
      "outputs": []
    },
    {
      "cell_type": "code",
      "metadata": {
        "colab_type": "code",
        "id": "GtSb6gi8NHgG",
        "colab": {
          "base_uri": "https://localhost:8080/",
          "height": 855
        },
        "outputId": "ad3a1922-bfd7-4494-ead0-5b2684a147d5"
      },
      "source": [
        "df_borough.head(26)"
      ],
      "execution_count": null,
      "outputs": [
        {
          "output_type": "execute_result",
          "data": {
            "text/html": [
              "<div>\n",
              "<style scoped>\n",
              "    .dataframe tbody tr th:only-of-type {\n",
              "        vertical-align: middle;\n",
              "    }\n",
              "\n",
              "    .dataframe tbody tr th {\n",
              "        vertical-align: top;\n",
              "    }\n",
              "\n",
              "    .dataframe thead th {\n",
              "        text-align: right;\n",
              "    }\n",
              "</style>\n",
              "<table border=\"1\" class=\"dataframe\">\n",
              "  <thead>\n",
              "    <tr style=\"text-align: right;\">\n",
              "      <th></th>\n",
              "      <th>borough</th>\n",
              "      <th>residents</th>\n",
              "      <th>surface</th>\n",
              "      <th>population density</th>\n",
              "      <th>share_total_population</th>\n",
              "    </tr>\n",
              "  </thead>\n",
              "  <tbody>\n",
              "    <tr>\n",
              "      <th>0</th>\n",
              "      <td>1 Altstadt - Lehel</td>\n",
              "      <td>20422</td>\n",
              "      <td>314.57</td>\n",
              "      <td>65.0</td>\n",
              "      <td>1.39</td>\n",
              "    </tr>\n",
              "    <tr>\n",
              "      <th>1</th>\n",
              "      <td>2 Ludwigsvorstadt - Isarvorstadt</td>\n",
              "      <td>50620</td>\n",
              "      <td>440.14</td>\n",
              "      <td>115.0</td>\n",
              "      <td>3.46</td>\n",
              "    </tr>\n",
              "    <tr>\n",
              "      <th>2</th>\n",
              "      <td>3 Maxvorstadt</td>\n",
              "      <td>51642</td>\n",
              "      <td>429.79</td>\n",
              "      <td>120.0</td>\n",
              "      <td>3.53</td>\n",
              "    </tr>\n",
              "    <tr>\n",
              "      <th>3</th>\n",
              "      <td>4 Schwabing West</td>\n",
              "      <td>65892</td>\n",
              "      <td>436.30</td>\n",
              "      <td>151.0</td>\n",
              "      <td>4.50</td>\n",
              "    </tr>\n",
              "    <tr>\n",
              "      <th>4</th>\n",
              "      <td>5 Au - Haidhausen</td>\n",
              "      <td>59752</td>\n",
              "      <td>421.96</td>\n",
              "      <td>142.0</td>\n",
              "      <td>4.08</td>\n",
              "    </tr>\n",
              "    <tr>\n",
              "      <th>5</th>\n",
              "      <td>6 Sendling</td>\n",
              "      <td>39953</td>\n",
              "      <td>393.87</td>\n",
              "      <td>101.0</td>\n",
              "      <td>2.73</td>\n",
              "    </tr>\n",
              "    <tr>\n",
              "      <th>6</th>\n",
              "      <td>7 Sendling - Westpark</td>\n",
              "      <td>55405</td>\n",
              "      <td>781.45</td>\n",
              "      <td>71.0</td>\n",
              "      <td>3.78</td>\n",
              "    </tr>\n",
              "    <tr>\n",
              "      <th>7</th>\n",
              "      <td>8 Schwanthalerhöhe</td>\n",
              "      <td>29663</td>\n",
              "      <td>207.02</td>\n",
              "      <td>143.0</td>\n",
              "      <td>2.02</td>\n",
              "    </tr>\n",
              "    <tr>\n",
              "      <th>8</th>\n",
              "      <td>9 Neuhausen - Nymphenburg</td>\n",
              "      <td>95906</td>\n",
              "      <td>1291.45</td>\n",
              "      <td>74.0</td>\n",
              "      <td>6.55</td>\n",
              "    </tr>\n",
              "    <tr>\n",
              "      <th>9</th>\n",
              "      <td>10 Moosach</td>\n",
              "      <td>51537</td>\n",
              "      <td>1109.36</td>\n",
              "      <td>46.0</td>\n",
              "      <td>3.52</td>\n",
              "    </tr>\n",
              "    <tr>\n",
              "      <th>10</th>\n",
              "      <td>11 Milbertshofen - Am Hart</td>\n",
              "      <td>73617</td>\n",
              "      <td>1341.64</td>\n",
              "      <td>55.0</td>\n",
              "      <td>5.03</td>\n",
              "    </tr>\n",
              "    <tr>\n",
              "      <th>11</th>\n",
              "      <td>12 Schwabing - Freimann</td>\n",
              "      <td>69676</td>\n",
              "      <td>2567.22</td>\n",
              "      <td>27.0</td>\n",
              "      <td>4.76</td>\n",
              "    </tr>\n",
              "    <tr>\n",
              "      <th>12</th>\n",
              "      <td>13 Bogenhausen</td>\n",
              "      <td>82138</td>\n",
              "      <td>2370.97</td>\n",
              "      <td>35.0</td>\n",
              "      <td>5.61</td>\n",
              "    </tr>\n",
              "    <tr>\n",
              "      <th>13</th>\n",
              "      <td>14 Berg am Laim</td>\n",
              "      <td>43068</td>\n",
              "      <td>631.46</td>\n",
              "      <td>68.0</td>\n",
              "      <td>2.94</td>\n",
              "    </tr>\n",
              "    <tr>\n",
              "      <th>14</th>\n",
              "      <td>15 Trudering - Riem</td>\n",
              "      <td>67009</td>\n",
              "      <td>2245.05</td>\n",
              "      <td>30.0</td>\n",
              "      <td>4.57</td>\n",
              "    </tr>\n",
              "    <tr>\n",
              "      <th>15</th>\n",
              "      <td>16 Ramersdorf - Perlach</td>\n",
              "      <td>108244</td>\n",
              "      <td>1989.50</td>\n",
              "      <td>54.0</td>\n",
              "      <td>7.39</td>\n",
              "    </tr>\n",
              "    <tr>\n",
              "      <th>16</th>\n",
              "      <td>17 Obergiesing - Fasangarten</td>\n",
              "      <td>51499</td>\n",
              "      <td>572.04</td>\n",
              "      <td>90.0</td>\n",
              "      <td>3.52</td>\n",
              "    </tr>\n",
              "    <tr>\n",
              "      <th>17</th>\n",
              "      <td>18 Untergiesing - Harlaching</td>\n",
              "      <td>51937</td>\n",
              "      <td>805.67</td>\n",
              "      <td>64.0</td>\n",
              "      <td>3.55</td>\n",
              "    </tr>\n",
              "    <tr>\n",
              "      <th>18</th>\n",
              "      <td>19 Thalkirchen - Obersendling - Forstenried -\\...</td>\n",
              "      <td>90790</td>\n",
              "      <td>1776.31</td>\n",
              "      <td>51.0</td>\n",
              "      <td>6.20</td>\n",
              "    </tr>\n",
              "    <tr>\n",
              "      <th>19</th>\n",
              "      <td>20 Hadern</td>\n",
              "      <td>48945</td>\n",
              "      <td>922.37</td>\n",
              "      <td>53.0</td>\n",
              "      <td>3.34</td>\n",
              "    </tr>\n",
              "    <tr>\n",
              "      <th>20</th>\n",
              "      <td>21 Pasing - Obermenzing</td>\n",
              "      <td>70783</td>\n",
              "      <td>1649.78</td>\n",
              "      <td>43.0</td>\n",
              "      <td>4.83</td>\n",
              "    </tr>\n",
              "    <tr>\n",
              "      <th>21</th>\n",
              "      <td>22 Aubing - Lochhausen - Langwied</td>\n",
              "      <td>42305</td>\n",
              "      <td>3406.02</td>\n",
              "      <td>12.0</td>\n",
              "      <td>2.89</td>\n",
              "    </tr>\n",
              "    <tr>\n",
              "      <th>22</th>\n",
              "      <td>23 Allach - Untermenzing</td>\n",
              "      <td>30737</td>\n",
              "      <td>1545.17</td>\n",
              "      <td>20.0</td>\n",
              "      <td>2.10</td>\n",
              "    </tr>\n",
              "    <tr>\n",
              "      <th>23</th>\n",
              "      <td>24 Feldmoching - Hasenbergl</td>\n",
              "      <td>59391</td>\n",
              "      <td>2893.78</td>\n",
              "      <td>21.0</td>\n",
              "      <td>4.05</td>\n",
              "    </tr>\n",
              "    <tr>\n",
              "      <th>24</th>\n",
              "      <td>25 Laim</td>\n",
              "      <td>54030</td>\n",
              "      <td>528.59</td>\n",
              "      <td>102.0</td>\n",
              "      <td>3.69</td>\n",
              "    </tr>\n",
              "    <tr>\n",
              "      <th>25</th>\n",
              "      <td>nicht zuzuordnen</td>\n",
              "      <td>1</td>\n",
              "      <td>NaN</td>\n",
              "      <td>NaN</td>\n",
              "      <td>NaN</td>\n",
              "    </tr>\n",
              "  </tbody>\n",
              "</table>\n",
              "</div>"
            ],
            "text/plain": [
              "                                              borough  ...  share_total_population\n",
              "0                                  1 Altstadt - Lehel  ...                    1.39\n",
              "1                   2 Ludwigsvorstadt - Isarvorstadt   ...                    3.46\n",
              "2                                       3 Maxvorstadt  ...                    3.53\n",
              "3                                    4 Schwabing West  ...                    4.50\n",
              "4                                   5 Au - Haidhausen  ...                    4.08\n",
              "5                                         6 Sendling   ...                    2.73\n",
              "6                               7 Sendling - Westpark  ...                    3.78\n",
              "7                                  8 Schwanthalerhöhe  ...                    2.02\n",
              "8                           9 Neuhausen - Nymphenburg  ...                    6.55\n",
              "9                                          10 Moosach  ...                    3.52\n",
              "10                         11 Milbertshofen - Am Hart  ...                    5.03\n",
              "11                            12 Schwabing - Freimann  ...                    4.76\n",
              "12                                     13 Bogenhausen  ...                    5.61\n",
              "13                                   14 Berg am Laim   ...                    2.94\n",
              "14                                15 Trudering - Riem  ...                    4.57\n",
              "15                           16 Ramersdorf - Perlach   ...                    7.39\n",
              "16                       17 Obergiesing - Fasangarten  ...                    3.52\n",
              "17                      18 Untergiesing - Harlaching   ...                    3.55\n",
              "18  19 Thalkirchen - Obersendling - Forstenried -\\...  ...                    6.20\n",
              "19                                         20 Hadern   ...                    3.34\n",
              "20                            21 Pasing - Obermenzing  ...                    4.83\n",
              "21                  22 Aubing - Lochhausen - Langwied  ...                    2.89\n",
              "22                           23 Allach - Untermenzing  ...                    2.10\n",
              "23                       24 Feldmoching - Hasenbergl   ...                    4.05\n",
              "24                                            25 Laim  ...                    3.69\n",
              "25                                   nicht zuzuordnen  ...                     NaN\n",
              "\n",
              "[26 rows x 5 columns]"
            ]
          },
          "metadata": {
            "tags": []
          },
          "execution_count": 88
        }
      ]
    },
    {
      "cell_type": "markdown",
      "metadata": {
        "id": "L5xT-DXMY8Uz",
        "colab_type": "text"
      },
      "source": [
        "# Remove last row as the data is not correct"
      ]
    },
    {
      "cell_type": "code",
      "metadata": {
        "id": "rf_nNlmqTzNq",
        "colab_type": "code",
        "colab": {}
      },
      "source": [
        "df_borough=df_borough[0:len(df_borough)-1].copy()"
      ],
      "execution_count": null,
      "outputs": []
    },
    {
      "cell_type": "markdown",
      "metadata": {
        "id": "_M2TMyrzVeyU",
        "colab_type": "text"
      },
      "source": [
        "# Remove numbers from borough column at the beginning of each value"
      ]
    },
    {
      "cell_type": "code",
      "metadata": {
        "id": "u9WW8uYIT08-",
        "colab_type": "code",
        "colab": {}
      },
      "source": [
        "df_borough['borough']=df_borough['borough'].apply(lambda x:x[3:]).copy()"
      ],
      "execution_count": null,
      "outputs": []
    },
    {
      "cell_type": "markdown",
      "metadata": {
        "id": "LVCx2lbTQ680",
        "colab_type": "text"
      },
      "source": [
        "# Remove leading whitespace from some of the strings in borough column"
      ]
    },
    {
      "cell_type": "code",
      "metadata": {
        "id": "9UbRMIhfOc9F",
        "colab_type": "code",
        "colab": {}
      },
      "source": [
        "df_borough['borough']=df_borough['borough'].apply(lambda x:x.lstrip()).copy()\n"
      ],
      "execution_count": null,
      "outputs": []
    },
    {
      "cell_type": "code",
      "metadata": {
        "id": "twdojEICORcR",
        "colab_type": "code",
        "colab": {}
      },
      "source": [
        "df_borough.sort_values(by='borough',inplace=True,ignore_index=True)"
      ],
      "execution_count": null,
      "outputs": []
    },
    {
      "cell_type": "code",
      "metadata": {
        "id": "LCcgCjsfQYlR",
        "colab_type": "code",
        "colab": {
          "base_uri": "https://localhost:8080/",
          "height": 824
        },
        "outputId": "93d4925f-039d-4b48-e39c-ec1dac2f4b38"
      },
      "source": [
        "df_borough.head(26)"
      ],
      "execution_count": null,
      "outputs": [
        {
          "output_type": "execute_result",
          "data": {
            "text/html": [
              "<div>\n",
              "<style scoped>\n",
              "    .dataframe tbody tr th:only-of-type {\n",
              "        vertical-align: middle;\n",
              "    }\n",
              "\n",
              "    .dataframe tbody tr th {\n",
              "        vertical-align: top;\n",
              "    }\n",
              "\n",
              "    .dataframe thead th {\n",
              "        text-align: right;\n",
              "    }\n",
              "</style>\n",
              "<table border=\"1\" class=\"dataframe\">\n",
              "  <thead>\n",
              "    <tr style=\"text-align: right;\">\n",
              "      <th></th>\n",
              "      <th>borough</th>\n",
              "      <th>residents</th>\n",
              "      <th>surface</th>\n",
              "      <th>population density</th>\n",
              "      <th>share_total_population</th>\n",
              "    </tr>\n",
              "  </thead>\n",
              "  <tbody>\n",
              "    <tr>\n",
              "      <th>0</th>\n",
              "      <td>Allach - Untermenzing</td>\n",
              "      <td>30737</td>\n",
              "      <td>1545.17</td>\n",
              "      <td>20.0</td>\n",
              "      <td>2.10</td>\n",
              "    </tr>\n",
              "    <tr>\n",
              "      <th>1</th>\n",
              "      <td>Altstadt - Lehel</td>\n",
              "      <td>20422</td>\n",
              "      <td>314.57</td>\n",
              "      <td>65.0</td>\n",
              "      <td>1.39</td>\n",
              "    </tr>\n",
              "    <tr>\n",
              "      <th>2</th>\n",
              "      <td>Au - Haidhausen</td>\n",
              "      <td>59752</td>\n",
              "      <td>421.96</td>\n",
              "      <td>142.0</td>\n",
              "      <td>4.08</td>\n",
              "    </tr>\n",
              "    <tr>\n",
              "      <th>3</th>\n",
              "      <td>Aubing - Lochhausen - Langwied</td>\n",
              "      <td>42305</td>\n",
              "      <td>3406.02</td>\n",
              "      <td>12.0</td>\n",
              "      <td>2.89</td>\n",
              "    </tr>\n",
              "    <tr>\n",
              "      <th>4</th>\n",
              "      <td>Berg am Laim</td>\n",
              "      <td>43068</td>\n",
              "      <td>631.46</td>\n",
              "      <td>68.0</td>\n",
              "      <td>2.94</td>\n",
              "    </tr>\n",
              "    <tr>\n",
              "      <th>5</th>\n",
              "      <td>Bogenhausen</td>\n",
              "      <td>82138</td>\n",
              "      <td>2370.97</td>\n",
              "      <td>35.0</td>\n",
              "      <td>5.61</td>\n",
              "    </tr>\n",
              "    <tr>\n",
              "      <th>6</th>\n",
              "      <td>Feldmoching - Hasenbergl</td>\n",
              "      <td>59391</td>\n",
              "      <td>2893.78</td>\n",
              "      <td>21.0</td>\n",
              "      <td>4.05</td>\n",
              "    </tr>\n",
              "    <tr>\n",
              "      <th>7</th>\n",
              "      <td>Hadern</td>\n",
              "      <td>48945</td>\n",
              "      <td>922.37</td>\n",
              "      <td>53.0</td>\n",
              "      <td>3.34</td>\n",
              "    </tr>\n",
              "    <tr>\n",
              "      <th>8</th>\n",
              "      <td>Laim</td>\n",
              "      <td>54030</td>\n",
              "      <td>528.59</td>\n",
              "      <td>102.0</td>\n",
              "      <td>3.69</td>\n",
              "    </tr>\n",
              "    <tr>\n",
              "      <th>9</th>\n",
              "      <td>Ludwigsvorstadt - Isarvorstadt</td>\n",
              "      <td>50620</td>\n",
              "      <td>440.14</td>\n",
              "      <td>115.0</td>\n",
              "      <td>3.46</td>\n",
              "    </tr>\n",
              "    <tr>\n",
              "      <th>10</th>\n",
              "      <td>Maxvorstadt</td>\n",
              "      <td>51642</td>\n",
              "      <td>429.79</td>\n",
              "      <td>120.0</td>\n",
              "      <td>3.53</td>\n",
              "    </tr>\n",
              "    <tr>\n",
              "      <th>11</th>\n",
              "      <td>Milbertshofen - Am Hart</td>\n",
              "      <td>73617</td>\n",
              "      <td>1341.64</td>\n",
              "      <td>55.0</td>\n",
              "      <td>5.03</td>\n",
              "    </tr>\n",
              "    <tr>\n",
              "      <th>12</th>\n",
              "      <td>Moosach</td>\n",
              "      <td>51537</td>\n",
              "      <td>1109.36</td>\n",
              "      <td>46.0</td>\n",
              "      <td>3.52</td>\n",
              "    </tr>\n",
              "    <tr>\n",
              "      <th>13</th>\n",
              "      <td>Neuhausen - Nymphenburg</td>\n",
              "      <td>95906</td>\n",
              "      <td>1291.45</td>\n",
              "      <td>74.0</td>\n",
              "      <td>6.55</td>\n",
              "    </tr>\n",
              "    <tr>\n",
              "      <th>14</th>\n",
              "      <td>Obergiesing - Fasangarten</td>\n",
              "      <td>51499</td>\n",
              "      <td>572.04</td>\n",
              "      <td>90.0</td>\n",
              "      <td>3.52</td>\n",
              "    </tr>\n",
              "    <tr>\n",
              "      <th>15</th>\n",
              "      <td>Pasing - Obermenzing</td>\n",
              "      <td>70783</td>\n",
              "      <td>1649.78</td>\n",
              "      <td>43.0</td>\n",
              "      <td>4.83</td>\n",
              "    </tr>\n",
              "    <tr>\n",
              "      <th>16</th>\n",
              "      <td>Ramersdorf - Perlach</td>\n",
              "      <td>108244</td>\n",
              "      <td>1989.50</td>\n",
              "      <td>54.0</td>\n",
              "      <td>7.39</td>\n",
              "    </tr>\n",
              "    <tr>\n",
              "      <th>17</th>\n",
              "      <td>Schwabing - Freimann</td>\n",
              "      <td>69676</td>\n",
              "      <td>2567.22</td>\n",
              "      <td>27.0</td>\n",
              "      <td>4.76</td>\n",
              "    </tr>\n",
              "    <tr>\n",
              "      <th>18</th>\n",
              "      <td>Schwabing West</td>\n",
              "      <td>65892</td>\n",
              "      <td>436.30</td>\n",
              "      <td>151.0</td>\n",
              "      <td>4.50</td>\n",
              "    </tr>\n",
              "    <tr>\n",
              "      <th>19</th>\n",
              "      <td>Schwanthalerhöhe</td>\n",
              "      <td>29663</td>\n",
              "      <td>207.02</td>\n",
              "      <td>143.0</td>\n",
              "      <td>2.02</td>\n",
              "    </tr>\n",
              "    <tr>\n",
              "      <th>20</th>\n",
              "      <td>Sendling</td>\n",
              "      <td>39953</td>\n",
              "      <td>393.87</td>\n",
              "      <td>101.0</td>\n",
              "      <td>2.73</td>\n",
              "    </tr>\n",
              "    <tr>\n",
              "      <th>21</th>\n",
              "      <td>Sendling - Westpark</td>\n",
              "      <td>55405</td>\n",
              "      <td>781.45</td>\n",
              "      <td>71.0</td>\n",
              "      <td>3.78</td>\n",
              "    </tr>\n",
              "    <tr>\n",
              "      <th>22</th>\n",
              "      <td>Thalkirchen - Obersendling - Forstenried -\\n  ...</td>\n",
              "      <td>90790</td>\n",
              "      <td>1776.31</td>\n",
              "      <td>51.0</td>\n",
              "      <td>6.20</td>\n",
              "    </tr>\n",
              "    <tr>\n",
              "      <th>23</th>\n",
              "      <td>Trudering - Riem</td>\n",
              "      <td>67009</td>\n",
              "      <td>2245.05</td>\n",
              "      <td>30.0</td>\n",
              "      <td>4.57</td>\n",
              "    </tr>\n",
              "    <tr>\n",
              "      <th>24</th>\n",
              "      <td>Untergiesing - Harlaching</td>\n",
              "      <td>51937</td>\n",
              "      <td>805.67</td>\n",
              "      <td>64.0</td>\n",
              "      <td>3.55</td>\n",
              "    </tr>\n",
              "  </tbody>\n",
              "</table>\n",
              "</div>"
            ],
            "text/plain": [
              "                                              borough  ...  share_total_population\n",
              "0                               Allach - Untermenzing  ...                    2.10\n",
              "1                                    Altstadt - Lehel  ...                    1.39\n",
              "2                                     Au - Haidhausen  ...                    4.08\n",
              "3                      Aubing - Lochhausen - Langwied  ...                    2.89\n",
              "4                                       Berg am Laim   ...                    2.94\n",
              "5                                         Bogenhausen  ...                    5.61\n",
              "6                           Feldmoching - Hasenbergl   ...                    4.05\n",
              "7                                             Hadern   ...                    3.34\n",
              "8                                                Laim  ...                    3.69\n",
              "9                     Ludwigsvorstadt - Isarvorstadt   ...                    3.46\n",
              "10                                        Maxvorstadt  ...                    3.53\n",
              "11                            Milbertshofen - Am Hart  ...                    5.03\n",
              "12                                            Moosach  ...                    3.52\n",
              "13                            Neuhausen - Nymphenburg  ...                    6.55\n",
              "14                          Obergiesing - Fasangarten  ...                    3.52\n",
              "15                               Pasing - Obermenzing  ...                    4.83\n",
              "16                              Ramersdorf - Perlach   ...                    7.39\n",
              "17                               Schwabing - Freimann  ...                    4.76\n",
              "18                                     Schwabing West  ...                    4.50\n",
              "19                                   Schwanthalerhöhe  ...                    2.02\n",
              "20                                          Sendling   ...                    2.73\n",
              "21                                Sendling - Westpark  ...                    3.78\n",
              "22  Thalkirchen - Obersendling - Forstenried -\\n  ...  ...                    6.20\n",
              "23                                   Trudering - Riem  ...                    4.57\n",
              "24                         Untergiesing - Harlaching   ...                    3.55\n",
              "\n",
              "[25 rows x 5 columns]"
            ]
          },
          "metadata": {
            "tags": []
          },
          "execution_count": 93
        }
      ]
    },
    {
      "cell_type": "code",
      "metadata": {
        "id": "uB9OMfiYVxn2",
        "colab_type": "code",
        "colab": {}
      },
      "source": [
        "def lat_long(place_value):\n",
        "  'Function to get the latitude and longitude of a place'\n",
        "  geolocator = Nominatim(user_agent=\"first-try\")\n",
        "  location = geolocator.geocode(place_value)\n",
        "  if location==None:\n",
        "    return None,None\n",
        "  return location.latitude,location.longitude"
      ],
      "execution_count": null,
      "outputs": []
    },
    {
      "cell_type": "code",
      "metadata": {
        "id": "TPNSDz1hXJCN",
        "colab_type": "code",
        "colab": {}
      },
      "source": [
        "for i,value in enumerate(df_borough['borough']):\n",
        "  df_borough.loc[i,'latitude'],df_borough.loc[i,'longitude']=lat_long(value)"
      ],
      "execution_count": null,
      "outputs": []
    },
    {
      "cell_type": "code",
      "metadata": {
        "id": "KPFB3CjXYyL3",
        "colab_type": "code",
        "colab": {}
      },
      "source": [
        "# df_borough.shape"
      ],
      "execution_count": null,
      "outputs": []
    },
    {
      "cell_type": "code",
      "metadata": {
        "id": "MuToi3chTQiH",
        "colab_type": "code",
        "colab": {
          "base_uri": "https://localhost:8080/",
          "height": 204
        },
        "outputId": "b36af067-5d2c-4aa5-ffaf-a12161b5fc9b"
      },
      "source": [
        "df_borough.head()"
      ],
      "execution_count": null,
      "outputs": [
        {
          "output_type": "execute_result",
          "data": {
            "text/html": [
              "<div>\n",
              "<style scoped>\n",
              "    .dataframe tbody tr th:only-of-type {\n",
              "        vertical-align: middle;\n",
              "    }\n",
              "\n",
              "    .dataframe tbody tr th {\n",
              "        vertical-align: top;\n",
              "    }\n",
              "\n",
              "    .dataframe thead th {\n",
              "        text-align: right;\n",
              "    }\n",
              "</style>\n",
              "<table border=\"1\" class=\"dataframe\">\n",
              "  <thead>\n",
              "    <tr style=\"text-align: right;\">\n",
              "      <th></th>\n",
              "      <th>borough</th>\n",
              "      <th>residents</th>\n",
              "      <th>surface</th>\n",
              "      <th>population density</th>\n",
              "      <th>share_total_population</th>\n",
              "      <th>latitude</th>\n",
              "      <th>longitude</th>\n",
              "    </tr>\n",
              "  </thead>\n",
              "  <tbody>\n",
              "    <tr>\n",
              "      <th>0</th>\n",
              "      <td>Allach - Untermenzing</td>\n",
              "      <td>30737</td>\n",
              "      <td>1545.17</td>\n",
              "      <td>20.0</td>\n",
              "      <td>2.10</td>\n",
              "      <td>48.195157</td>\n",
              "      <td>11.462973</td>\n",
              "    </tr>\n",
              "    <tr>\n",
              "      <th>1</th>\n",
              "      <td>Altstadt - Lehel</td>\n",
              "      <td>20422</td>\n",
              "      <td>314.57</td>\n",
              "      <td>65.0</td>\n",
              "      <td>1.39</td>\n",
              "      <td>48.137828</td>\n",
              "      <td>11.574582</td>\n",
              "    </tr>\n",
              "    <tr>\n",
              "      <th>2</th>\n",
              "      <td>Au - Haidhausen</td>\n",
              "      <td>59752</td>\n",
              "      <td>421.96</td>\n",
              "      <td>142.0</td>\n",
              "      <td>4.08</td>\n",
              "      <td>48.128753</td>\n",
              "      <td>11.590536</td>\n",
              "    </tr>\n",
              "    <tr>\n",
              "      <th>3</th>\n",
              "      <td>Aubing - Lochhausen - Langwied</td>\n",
              "      <td>42305</td>\n",
              "      <td>3406.02</td>\n",
              "      <td>12.0</td>\n",
              "      <td>2.89</td>\n",
              "      <td>48.165059</td>\n",
              "      <td>11.400221</td>\n",
              "    </tr>\n",
              "    <tr>\n",
              "      <th>4</th>\n",
              "      <td>Berg am Laim</td>\n",
              "      <td>43068</td>\n",
              "      <td>631.46</td>\n",
              "      <td>68.0</td>\n",
              "      <td>2.94</td>\n",
              "      <td>48.123483</td>\n",
              "      <td>11.633451</td>\n",
              "    </tr>\n",
              "  </tbody>\n",
              "</table>\n",
              "</div>"
            ],
            "text/plain": [
              "                          borough  residents  ...   latitude  longitude\n",
              "0           Allach - Untermenzing      30737  ...  48.195157  11.462973\n",
              "1                Altstadt - Lehel      20422  ...  48.137828  11.574582\n",
              "2                 Au - Haidhausen      59752  ...  48.128753  11.590536\n",
              "3  Aubing - Lochhausen - Langwied      42305  ...  48.165059  11.400221\n",
              "4                   Berg am Laim       43068  ...  48.123483  11.633451\n",
              "\n",
              "[5 rows x 7 columns]"
            ]
          },
          "metadata": {
            "tags": []
          },
          "execution_count": 97
        }
      ]
    },
    {
      "cell_type": "markdown",
      "metadata": {
        "id": "LJv8b7taTBac",
        "colab_type": "text"
      },
      "source": [
        "# Lets collect the neighboorhood venues for each borough"
      ]
    },
    {
      "cell_type": "markdown",
      "metadata": {
        "id": "1A9XbF_Z5wMP",
        "colab_type": "text"
      },
      "source": [
        "Define Foursquare Credentials and Version"
      ]
    },
    {
      "cell_type": "code",
      "metadata": {
        "colab_type": "code",
        "id": "_SX6fYiw5-ot",
        "colab": {
          "base_uri": "https://localhost:8080/",
          "height": 68
        },
        "outputId": "e00baac6-7791-4e7b-b74d-c16deec8ed95"
      },
      "source": [
        "CLIENT_ID = 'SC2A0D1I2XQQ4FGDSY1FKY4K4VEGAV3XACW2WCCPCG1DSY4G'  # your Foursquare ID \n",
        "CLIENT_SECRET ='2KGMC52DBRWU4RKXCYXDB0XLWLO30MVDIYY40IC45ECML3CZ'  # your Foursquare Secret\n",
        "VERSION = '20180605' # Foursquare API version\n",
        "\n",
        "print('Your credentails:')\n",
        "print('CLIENT_ID: ' + CLIENT_ID)\n",
        "print('CLIENT_SECRET:' + CLIENT_SECRET)"
      ],
      "execution_count": null,
      "outputs": [
        {
          "output_type": "stream",
          "text": [
            "Your credentails:\n",
            "CLIENT_ID: SC2A0D1I2XQQ4FGDSY1FKY4K4VEGAV3XACW2WCCPCG1DSY4G\n",
            "CLIENT_SECRET:2KGMC52DBRWU4RKXCYXDB0XLWLO30MVDIYY40IC45ECML3CZ\n"
          ],
          "name": "stdout"
        }
      ]
    },
    {
      "cell_type": "markdown",
      "metadata": {
        "id": "qeHoJhUr6Kuk",
        "colab_type": "text"
      },
      "source": [
        "# Create a function to repeat the process of exploring the venues for all the neighborhoods in Munich"
      ]
    },
    {
      "cell_type": "code",
      "metadata": {
        "id": "tK4_9QN76Ajt",
        "colab_type": "code",
        "colab": {}
      },
      "source": [
        "def getNearbyVenues(names, latitudes, longitudes, radius=500):\n",
        "    ''' Function to return nearby venues using foursquare-api\n",
        "        Provided name of the place, its latitude and longitude values and radius with which we have to find nearby venues\n",
        "    '''    \n",
        "    venues_list=[]\n",
        "    for name, lat, lng in zip(names, latitudes, longitudes):\n",
        "        print(name)\n",
        "            \n",
        "        # create the API request URL\n",
        "        url = 'https://api.foursquare.com/v2/venues/explore?&client_id={}&client_secret={}&v={}&ll={},{}&radius={}&limit={}'.format(\n",
        "            CLIENT_ID, \n",
        "            CLIENT_SECRET, \n",
        "            VERSION, \n",
        "            lat, \n",
        "            lng, \n",
        "            radius, \n",
        "            LIMIT)\n",
        "            \n",
        "        # make the GET request\n",
        "        results = requests.get(url).json()[\"response\"]['groups'][0]['items']\n",
        "        \n",
        "        # return only relevant information for each nearby venue\n",
        "        venues_list.append([(\n",
        "            name, \n",
        "            lat, \n",
        "            lng, \n",
        "            v['venue']['name'], \n",
        "            v['venue']['location']['lat'], \n",
        "            v['venue']['location']['lng'],  \n",
        "            v['venue']['categories'][0]['name']) for v in results])\n",
        "\n",
        "    nearby_venues = pd.DataFrame([item for venue_list in venues_list for item in venue_list])\n",
        "    nearby_venues.columns = ['borough', \n",
        "                  'Borough Latitude', \n",
        "                  'Borough Longitude', \n",
        "                  'Venue', \n",
        "                  'Venue Latitude', \n",
        "                  'Venue Longitude', \n",
        "                  'Venue Category']\n",
        "    \n",
        "    return(nearby_venues)\n"
      ],
      "execution_count": null,
      "outputs": []
    },
    {
      "cell_type": "markdown",
      "metadata": {
        "id": "mPfjgAwn6am3",
        "colab_type": "text"
      },
      "source": [
        "Create a new dataframe called Munich_venues."
      ]
    },
    {
      "cell_type": "code",
      "metadata": {
        "id": "aohQs8K06SpK",
        "colab_type": "code",
        "colab": {
          "base_uri": "https://localhost:8080/",
          "height": 442
        },
        "outputId": "7b55606a-7b0a-4793-fec1-80bd1aae1989"
      },
      "source": [
        "LIMIT = 100\n",
        "radius = 1000\n",
        "Munich_venues = getNearbyVenues(names=df_borough['borough'],\n",
        "                                   latitudes=df_borough['latitude'],\n",
        "                                   longitudes=df_borough['longitude'],\n",
        "                                   radius = radius\n",
        "                                  )"
      ],
      "execution_count": null,
      "outputs": [
        {
          "output_type": "stream",
          "text": [
            "Allach - Untermenzing\n",
            "Altstadt - Lehel\n",
            "Au - Haidhausen\n",
            "Aubing - Lochhausen - Langwied\n",
            "Berg am Laim\n",
            "Bogenhausen\n",
            "Feldmoching - Hasenbergl\n",
            "Hadern\n",
            "Laim\n",
            "Ludwigsvorstadt - Isarvorstadt\n",
            "Maxvorstadt\n",
            "Milbertshofen - Am Hart\n",
            "Moosach\n",
            "Neuhausen - Nymphenburg\n",
            "Obergiesing - Fasangarten\n",
            "Pasing - Obermenzing\n",
            "Ramersdorf - Perlach\n",
            "Schwabing - Freimann\n",
            "Schwabing - West\n",
            "Schwanthalerhöhe\n",
            "Sendling\n",
            "Sendling - Westpark\n",
            "Thalkirchen - Obersendling - Forstenried - Fürstenried - Solln\n",
            "Trudering - Riem\n",
            "Untergiesing - Harlaching\n"
          ],
          "name": "stdout"
        }
      ]
    },
    {
      "cell_type": "code",
      "metadata": {
        "id": "MB4RL7sa6mZn",
        "colab_type": "code",
        "colab": {
          "base_uri": "https://localhost:8080/",
          "height": 323
        },
        "outputId": "d567ccbc-b273-41c3-f48d-2654b7c2ebd8"
      },
      "source": [
        "print(Munich_venues.shape)\n",
        "Munich_venues.head()"
      ],
      "execution_count": null,
      "outputs": [
        {
          "output_type": "stream",
          "text": [
            "(1454, 7)\n"
          ],
          "name": "stdout"
        },
        {
          "output_type": "execute_result",
          "data": {
            "text/html": [
              "<div>\n",
              "<style scoped>\n",
              "    .dataframe tbody tr th:only-of-type {\n",
              "        vertical-align: middle;\n",
              "    }\n",
              "\n",
              "    .dataframe tbody tr th {\n",
              "        vertical-align: top;\n",
              "    }\n",
              "\n",
              "    .dataframe thead th {\n",
              "        text-align: right;\n",
              "    }\n",
              "</style>\n",
              "<table border=\"1\" class=\"dataframe\">\n",
              "  <thead>\n",
              "    <tr style=\"text-align: right;\">\n",
              "      <th></th>\n",
              "      <th>borough</th>\n",
              "      <th>Borough Latitude</th>\n",
              "      <th>Borough Longitude</th>\n",
              "      <th>Venue</th>\n",
              "      <th>Venue Latitude</th>\n",
              "      <th>Venue Longitude</th>\n",
              "      <th>Venue Category</th>\n",
              "    </tr>\n",
              "  </thead>\n",
              "  <tbody>\n",
              "    <tr>\n",
              "      <th>0</th>\n",
              "      <td>Allach - Untermenzing</td>\n",
              "      <td>48.195157</td>\n",
              "      <td>11.462973</td>\n",
              "      <td>Bäckerei Schuhmair</td>\n",
              "      <td>48.197175</td>\n",
              "      <td>11.459016</td>\n",
              "      <td>Bakery</td>\n",
              "    </tr>\n",
              "    <tr>\n",
              "      <th>1</th>\n",
              "      <td>Allach - Untermenzing</td>\n",
              "      <td>48.195157</td>\n",
              "      <td>11.462973</td>\n",
              "      <td>Sport Bittl</td>\n",
              "      <td>48.191447</td>\n",
              "      <td>11.466553</td>\n",
              "      <td>Sporting Goods Shop</td>\n",
              "    </tr>\n",
              "    <tr>\n",
              "      <th>2</th>\n",
              "      <td>Allach - Untermenzing</td>\n",
              "      <td>48.195157</td>\n",
              "      <td>11.462973</td>\n",
              "      <td>Trattoria Olive</td>\n",
              "      <td>48.189905</td>\n",
              "      <td>11.466970</td>\n",
              "      <td>Trattoria/Osteria</td>\n",
              "    </tr>\n",
              "    <tr>\n",
              "      <th>3</th>\n",
              "      <td>Allach - Untermenzing</td>\n",
              "      <td>48.195157</td>\n",
              "      <td>11.462973</td>\n",
              "      <td>Zur Allacher Mühle</td>\n",
              "      <td>48.198411</td>\n",
              "      <td>11.457869</td>\n",
              "      <td>Bavarian Restaurant</td>\n",
              "    </tr>\n",
              "    <tr>\n",
              "      <th>4</th>\n",
              "      <td>Allach - Untermenzing</td>\n",
              "      <td>48.195157</td>\n",
              "      <td>11.462973</td>\n",
              "      <td>Würmtalhof</td>\n",
              "      <td>48.188834</td>\n",
              "      <td>11.460680</td>\n",
              "      <td>German Restaurant</td>\n",
              "    </tr>\n",
              "  </tbody>\n",
              "</table>\n",
              "</div>"
            ],
            "text/plain": [
              "                 borough  ...       Venue Category\n",
              "0  Allach - Untermenzing  ...               Bakery\n",
              "1  Allach - Untermenzing  ...  Sporting Goods Shop\n",
              "2  Allach - Untermenzing  ...    Trattoria/Osteria\n",
              "3  Allach - Untermenzing  ...  Bavarian Restaurant\n",
              "4  Allach - Untermenzing  ...    German Restaurant\n",
              "\n",
              "[5 rows x 7 columns]"
            ]
          },
          "metadata": {
            "tags": []
          },
          "execution_count": 252
        }
      ]
    },
    {
      "cell_type": "markdown",
      "metadata": {
        "id": "dGtIiVuP7Y67",
        "colab_type": "text"
      },
      "source": [
        "# Let's check the venues by borough"
      ]
    },
    {
      "cell_type": "code",
      "metadata": {
        "id": "MqfR-Mij7KpX",
        "colab_type": "code",
        "colab": {
          "base_uri": "https://localhost:8080/",
          "height": 889
        },
        "outputId": "d8d10c1d-ce96-4b58-be61-c13a0f28eff9"
      },
      "source": [
        "Munich_venues.groupby('borough').count()"
      ],
      "execution_count": null,
      "outputs": [
        {
          "output_type": "execute_result",
          "data": {
            "text/html": [
              "<div>\n",
              "<style scoped>\n",
              "    .dataframe tbody tr th:only-of-type {\n",
              "        vertical-align: middle;\n",
              "    }\n",
              "\n",
              "    .dataframe tbody tr th {\n",
              "        vertical-align: top;\n",
              "    }\n",
              "\n",
              "    .dataframe thead th {\n",
              "        text-align: right;\n",
              "    }\n",
              "</style>\n",
              "<table border=\"1\" class=\"dataframe\">\n",
              "  <thead>\n",
              "    <tr style=\"text-align: right;\">\n",
              "      <th></th>\n",
              "      <th>Borough Latitude</th>\n",
              "      <th>Borough Longitude</th>\n",
              "      <th>Venue</th>\n",
              "      <th>Venue Latitude</th>\n",
              "      <th>Venue Longitude</th>\n",
              "      <th>Venue Category</th>\n",
              "    </tr>\n",
              "    <tr>\n",
              "      <th>borough</th>\n",
              "      <th></th>\n",
              "      <th></th>\n",
              "      <th></th>\n",
              "      <th></th>\n",
              "      <th></th>\n",
              "      <th></th>\n",
              "    </tr>\n",
              "  </thead>\n",
              "  <tbody>\n",
              "    <tr>\n",
              "      <th>Allach - Untermenzing</th>\n",
              "      <td>21</td>\n",
              "      <td>21</td>\n",
              "      <td>21</td>\n",
              "      <td>21</td>\n",
              "      <td>21</td>\n",
              "      <td>21</td>\n",
              "    </tr>\n",
              "    <tr>\n",
              "      <th>Altstadt - Lehel</th>\n",
              "      <td>100</td>\n",
              "      <td>100</td>\n",
              "      <td>100</td>\n",
              "      <td>100</td>\n",
              "      <td>100</td>\n",
              "      <td>100</td>\n",
              "    </tr>\n",
              "    <tr>\n",
              "      <th>Au - Haidhausen</th>\n",
              "      <td>100</td>\n",
              "      <td>100</td>\n",
              "      <td>100</td>\n",
              "      <td>100</td>\n",
              "      <td>100</td>\n",
              "      <td>100</td>\n",
              "    </tr>\n",
              "    <tr>\n",
              "      <th>Aubing - Lochhausen - Langwied</th>\n",
              "      <td>4</td>\n",
              "      <td>4</td>\n",
              "      <td>4</td>\n",
              "      <td>4</td>\n",
              "      <td>4</td>\n",
              "      <td>4</td>\n",
              "    </tr>\n",
              "    <tr>\n",
              "      <th>Berg am Laim</th>\n",
              "      <td>34</td>\n",
              "      <td>34</td>\n",
              "      <td>34</td>\n",
              "      <td>34</td>\n",
              "      <td>34</td>\n",
              "      <td>34</td>\n",
              "    </tr>\n",
              "    <tr>\n",
              "      <th>Bogenhausen</th>\n",
              "      <td>27</td>\n",
              "      <td>27</td>\n",
              "      <td>27</td>\n",
              "      <td>27</td>\n",
              "      <td>27</td>\n",
              "      <td>27</td>\n",
              "    </tr>\n",
              "    <tr>\n",
              "      <th>Feldmoching - Hasenbergl</th>\n",
              "      <td>8</td>\n",
              "      <td>8</td>\n",
              "      <td>8</td>\n",
              "      <td>8</td>\n",
              "      <td>8</td>\n",
              "      <td>8</td>\n",
              "    </tr>\n",
              "    <tr>\n",
              "      <th>Hadern</th>\n",
              "      <td>38</td>\n",
              "      <td>38</td>\n",
              "      <td>38</td>\n",
              "      <td>38</td>\n",
              "      <td>38</td>\n",
              "      <td>38</td>\n",
              "    </tr>\n",
              "    <tr>\n",
              "      <th>Laim</th>\n",
              "      <td>25</td>\n",
              "      <td>25</td>\n",
              "      <td>25</td>\n",
              "      <td>25</td>\n",
              "      <td>25</td>\n",
              "      <td>25</td>\n",
              "    </tr>\n",
              "    <tr>\n",
              "      <th>Ludwigsvorstadt - Isarvorstadt</th>\n",
              "      <td>100</td>\n",
              "      <td>100</td>\n",
              "      <td>100</td>\n",
              "      <td>100</td>\n",
              "      <td>100</td>\n",
              "      <td>100</td>\n",
              "    </tr>\n",
              "    <tr>\n",
              "      <th>Maxvorstadt</th>\n",
              "      <td>100</td>\n",
              "      <td>100</td>\n",
              "      <td>100</td>\n",
              "      <td>100</td>\n",
              "      <td>100</td>\n",
              "      <td>100</td>\n",
              "    </tr>\n",
              "    <tr>\n",
              "      <th>Milbertshofen - Am Hart</th>\n",
              "      <td>66</td>\n",
              "      <td>66</td>\n",
              "      <td>66</td>\n",
              "      <td>66</td>\n",
              "      <td>66</td>\n",
              "      <td>66</td>\n",
              "    </tr>\n",
              "    <tr>\n",
              "      <th>Moosach</th>\n",
              "      <td>3</td>\n",
              "      <td>3</td>\n",
              "      <td>3</td>\n",
              "      <td>3</td>\n",
              "      <td>3</td>\n",
              "      <td>3</td>\n",
              "    </tr>\n",
              "    <tr>\n",
              "      <th>Neuhausen - Nymphenburg</th>\n",
              "      <td>98</td>\n",
              "      <td>98</td>\n",
              "      <td>98</td>\n",
              "      <td>98</td>\n",
              "      <td>98</td>\n",
              "      <td>98</td>\n",
              "    </tr>\n",
              "    <tr>\n",
              "      <th>Obergiesing - Fasangarten</th>\n",
              "      <td>84</td>\n",
              "      <td>84</td>\n",
              "      <td>84</td>\n",
              "      <td>84</td>\n",
              "      <td>84</td>\n",
              "      <td>84</td>\n",
              "    </tr>\n",
              "    <tr>\n",
              "      <th>Pasing - Obermenzing</th>\n",
              "      <td>74</td>\n",
              "      <td>74</td>\n",
              "      <td>74</td>\n",
              "      <td>74</td>\n",
              "      <td>74</td>\n",
              "      <td>74</td>\n",
              "    </tr>\n",
              "    <tr>\n",
              "      <th>Ramersdorf - Perlach</th>\n",
              "      <td>57</td>\n",
              "      <td>57</td>\n",
              "      <td>57</td>\n",
              "      <td>57</td>\n",
              "      <td>57</td>\n",
              "      <td>57</td>\n",
              "    </tr>\n",
              "    <tr>\n",
              "      <th>Schwabing - Freimann</th>\n",
              "      <td>30</td>\n",
              "      <td>30</td>\n",
              "      <td>30</td>\n",
              "      <td>30</td>\n",
              "      <td>30</td>\n",
              "      <td>30</td>\n",
              "    </tr>\n",
              "    <tr>\n",
              "      <th>Schwabing - West</th>\n",
              "      <td>100</td>\n",
              "      <td>100</td>\n",
              "      <td>100</td>\n",
              "      <td>100</td>\n",
              "      <td>100</td>\n",
              "      <td>100</td>\n",
              "    </tr>\n",
              "    <tr>\n",
              "      <th>Schwanthalerhöhe</th>\n",
              "      <td>100</td>\n",
              "      <td>100</td>\n",
              "      <td>100</td>\n",
              "      <td>100</td>\n",
              "      <td>100</td>\n",
              "      <td>100</td>\n",
              "    </tr>\n",
              "    <tr>\n",
              "      <th>Sendling</th>\n",
              "      <td>82</td>\n",
              "      <td>82</td>\n",
              "      <td>82</td>\n",
              "      <td>82</td>\n",
              "      <td>82</td>\n",
              "      <td>82</td>\n",
              "    </tr>\n",
              "    <tr>\n",
              "      <th>Sendling - Westpark</th>\n",
              "      <td>40</td>\n",
              "      <td>40</td>\n",
              "      <td>40</td>\n",
              "      <td>40</td>\n",
              "      <td>40</td>\n",
              "      <td>40</td>\n",
              "    </tr>\n",
              "    <tr>\n",
              "      <th>Thalkirchen - Obersendling - Forstenried - Fürstenried - Solln</th>\n",
              "      <td>32</td>\n",
              "      <td>32</td>\n",
              "      <td>32</td>\n",
              "      <td>32</td>\n",
              "      <td>32</td>\n",
              "      <td>32</td>\n",
              "    </tr>\n",
              "    <tr>\n",
              "      <th>Trudering - Riem</th>\n",
              "      <td>31</td>\n",
              "      <td>31</td>\n",
              "      <td>31</td>\n",
              "      <td>31</td>\n",
              "      <td>31</td>\n",
              "      <td>31</td>\n",
              "    </tr>\n",
              "    <tr>\n",
              "      <th>Untergiesing - Harlaching</th>\n",
              "      <td>100</td>\n",
              "      <td>100</td>\n",
              "      <td>100</td>\n",
              "      <td>100</td>\n",
              "      <td>100</td>\n",
              "      <td>100</td>\n",
              "    </tr>\n",
              "  </tbody>\n",
              "</table>\n",
              "</div>"
            ],
            "text/plain": [
              "                                                    Borough Latitude  ...  Venue Category\n",
              "borough                                                               ...                \n",
              "Allach - Untermenzing                                             21  ...              21\n",
              "Altstadt - Lehel                                                 100  ...             100\n",
              "Au - Haidhausen                                                  100  ...             100\n",
              "Aubing - Lochhausen - Langwied                                     4  ...               4\n",
              "Berg am Laim                                                      34  ...              34\n",
              "Bogenhausen                                                       27  ...              27\n",
              "Feldmoching - Hasenbergl                                           8  ...               8\n",
              "Hadern                                                            38  ...              38\n",
              "Laim                                                              25  ...              25\n",
              "Ludwigsvorstadt - Isarvorstadt                                   100  ...             100\n",
              "Maxvorstadt                                                      100  ...             100\n",
              "Milbertshofen - Am Hart                                           66  ...              66\n",
              "Moosach                                                            3  ...               3\n",
              "Neuhausen - Nymphenburg                                           98  ...              98\n",
              "Obergiesing - Fasangarten                                         84  ...              84\n",
              "Pasing - Obermenzing                                              74  ...              74\n",
              "Ramersdorf - Perlach                                              57  ...              57\n",
              "Schwabing - Freimann                                              30  ...              30\n",
              "Schwabing - West                                                 100  ...             100\n",
              "Schwanthalerhöhe                                                 100  ...             100\n",
              "Sendling                                                          82  ...              82\n",
              "Sendling - Westpark                                               40  ...              40\n",
              "Thalkirchen - Obersendling - Forstenried - Fürs...                32  ...              32\n",
              "Trudering - Riem                                                  31  ...              31\n",
              "Untergiesing - Harlaching                                        100  ...             100\n",
              "\n",
              "[25 rows x 6 columns]"
            ]
          },
          "metadata": {
            "tags": []
          },
          "execution_count": 253
        }
      ]
    },
    {
      "cell_type": "code",
      "metadata": {
        "id": "PfhLxKJb7fAz",
        "colab_type": "code",
        "colab": {
          "base_uri": "https://localhost:8080/",
          "height": 68
        },
        "outputId": "52987cda-3508-4305-a569-b246ae08f98c"
      },
      "source": [
        "Munich_venues.columns"
      ],
      "execution_count": null,
      "outputs": [
        {
          "output_type": "execute_result",
          "data": {
            "text/plain": [
              "Index(['borough', 'Borough Latitude', 'Borough Longitude', 'Venue',\n",
              "       'Venue Latitude', 'Venue Longitude', 'Venue Category'],\n",
              "      dtype='object')"
            ]
          },
          "metadata": {
            "tags": []
          },
          "execution_count": 254
        }
      ]
    },
    {
      "cell_type": "code",
      "metadata": {
        "id": "S2dst1D478sI",
        "colab_type": "code",
        "colab": {
          "base_uri": "https://localhost:8080/",
          "height": 1000
        },
        "outputId": "f74b6851-a302-45ec-cd78-638de68ad8a8"
      },
      "source": [
        "Munich_venues['Venue Category'].unique()"
      ],
      "execution_count": null,
      "outputs": [
        {
          "output_type": "execute_result",
          "data": {
            "text/plain": [
              "array(['Bakery', 'Sporting Goods Shop', 'Trattoria/Osteria',\n",
              "       'Bavarian Restaurant', 'German Restaurant', 'Hotel', 'Drugstore',\n",
              "       'Italian Restaurant', 'Supermarket', 'Tennis Court',\n",
              "       'Vietnamese Restaurant', 'Park', 'Shopping Mall', 'Plaza',\n",
              "       'Gourmet Shop', 'Fountain', 'Church', \"Men's Store\",\n",
              "       'Department Store', 'Burrito Place', 'Farmers Market', 'Irish Pub',\n",
              "       'Bookstore', 'Café', 'Coffee Shop', 'Candy Store', 'Beer Garden',\n",
              "       'Boutique', 'Clothing Store', 'Art Museum', 'Organic Grocery',\n",
              "       'Opera House', 'Electronics Store', 'Snack Place',\n",
              "       'Falafel Restaurant', 'Fish Market', 'Restaurant',\n",
              "       'Ice Cream Shop', 'Seafood Restaurant', 'Sandwich Place',\n",
              "       'Pizza Place', 'Furniture / Home Store', 'Cocktail Bar', 'Bar',\n",
              "       'Middle Eastern Restaurant', 'Cosmetics Shop',\n",
              "       'Vegetarian / Vegan Restaurant', 'Afghan Restaurant',\n",
              "       'Convenience Store', 'Cupcake Shop', 'Steakhouse', 'Historic Site',\n",
              "       'Food Court', 'Argentinian Restaurant', 'Jazz Club',\n",
              "       'Doner Restaurant', 'Modern European Restaurant', 'Concert Hall',\n",
              "       'Cultural Center', 'Indian Restaurant', 'Movie Theater',\n",
              "       'Thai Restaurant', 'Music Venue', 'Bistro', 'Pool', 'Rock Club',\n",
              "       'French Restaurant', 'Science Museum', 'Japanese Restaurant',\n",
              "       'Jewish Restaurant', 'Tapas Restaurant', 'Wine Bar',\n",
              "       'Turkish Restaurant', 'Beach', 'Beach Bar', 'Nightclub',\n",
              "       'Planetarium', 'Fair', 'Burger Joint', 'Beer Bar', 'Museum',\n",
              "       'Gift Shop', 'Pub', 'Bathing Area', 'Mexican Restaurant',\n",
              "       'Yoga Studio', 'Comedy Club', 'Hobby Shop', 'Sushi Restaurant',\n",
              "       'Parking', 'Lake', 'Asian Restaurant', 'Gastropub',\n",
              "       'Big Box Store', 'Bank', 'Grocery Store', 'Tram Station',\n",
              "       'Fast Food Restaurant', 'Smoke Shop', 'Metro Station', 'Bus Stop',\n",
              "       'Gym / Fitness Center', 'Miscellaneous Shop', 'Greek Restaurant',\n",
              "       'Water Park', 'Chinese Restaurant', 'Pharmacy', 'Tunnel',\n",
              "       'Pastry Shop', 'Residential Building (Apartment / Condo)',\n",
              "       'Food & Drink Shop', 'Bus Line', 'Post Office',\n",
              "       'Athletics & Sports', 'Internet Cafe', 'American Restaurant',\n",
              "       'Discount Store', 'Construction & Landscaping', 'Gas Station',\n",
              "       'Food', 'Shoe Store', 'Bowling Alley', 'History Museum',\n",
              "       'Tea Room', 'Comic Shop', 'Manti Place', 'Theater',\n",
              "       'Currywurst Joint', 'Beer Store', 'Record Shop', 'Wine Shop',\n",
              "       'Dim Sum Restaurant', 'Board Shop', 'Community Center',\n",
              "       'Breakfast Spot', 'Spanish Restaurant', 'English Restaurant',\n",
              "       'Monument / Landmark', 'Juice Bar', 'Grilled Meat Restaurant',\n",
              "       'Ramen Restaurant', 'Martial Arts School', 'Arcade',\n",
              "       'Israeli Restaurant', 'Sports Bar', 'Event Space', 'Roof Deck',\n",
              "       'Taverna', 'Salad Place', 'Indie Movie Theater', 'Brewery',\n",
              "       'Diner', 'Bagel Shop', 'Kebab Restaurant', 'Motorcycle Shop',\n",
              "       'Outlet Store', 'Soccer Field', 'Storage Facility',\n",
              "       'Eastern European Restaurant', 'Rental Car Location',\n",
              "       'Automotive Shop', 'Gym', 'Camera Store', 'Austrian Restaurant',\n",
              "       'Hawaiian Restaurant', 'Soup Place', 'Salon / Barbershop',\n",
              "       'Dessert Shop', 'Liquor Store', 'Tibetan Restaurant',\n",
              "       'Fruit & Vegetable Store', 'Shipping Store', 'Office',\n",
              "       'Light Rail Station', 'Cafeteria', 'Playground', 'Pie Shop',\n",
              "       'Cheese Shop', 'Hookah Bar', 'Spa', 'Mobile Phone Shop',\n",
              "       'Boarding House', 'Hotel Bar', 'Dry Cleaner', 'Pilates Studio',\n",
              "       'Theme Restaurant', 'Toy / Game Store', 'Donut Shop',\n",
              "       'Fried Chicken Joint', 'Pet Store', 'Gym Pool', 'Dance Studio',\n",
              "       'Paper / Office Supplies Store', 'Market', 'Intersection',\n",
              "       'Train Station', 'Hill', 'Ethiopian Restaurant', 'Escape Room',\n",
              "       'Mediterranean Restaurant', 'Coworking Space', 'BBQ Joint',\n",
              "       'Outdoor Sculpture', 'Modern Greek Restaurant', 'Lounge',\n",
              "       'Art Gallery', 'Deli / Bodega', 'Bosnian Restaurant',\n",
              "       'Laundry Service', 'Garden', 'Performing Arts Venue',\n",
              "       'Basketball Stadium', 'Scenic Lookout', 'IT Services',\n",
              "       'Garden Center', 'Auto Dealership', 'Trail', 'Motel',\n",
              "       'Soccer Stadium', 'Track', 'Pool Hall', 'Rest Area'], dtype=object)"
            ]
          },
          "metadata": {
            "tags": []
          },
          "execution_count": 255
        }
      ]
    },
    {
      "cell_type": "markdown",
      "metadata": {
        "id": "Oo9Ei5dMTRcT",
        "colab_type": "text"
      },
      "source": [
        "# Let's just select the below columns from the venues\n",
        "'Motorcycle Shop'\n",
        " 'Automotive Shop'\n",
        " 'Rental Car Location'\n",
        " 'Auto Dealership'\n",
        " 'Gas Station'\n",
        " 'Parking'\n",
        " 'Hotel'\n",
        " 'Motel'"
      ]
    },
    {
      "cell_type": "code",
      "metadata": {
        "id": "sWnUZ7VM8ETP",
        "colab_type": "code",
        "colab": {
          "base_uri": "https://localhost:8080/",
          "height": 153
        },
        "outputId": "998f9975-1bb2-4077-f731-40471373e489"
      },
      "source": [
        "Munich_venues[(Munich_venues['Venue Category'].str.contains('Motorcycle Shop', regex=False)) |\n",
        "              (Munich_venues['Venue Category'].str.contains('Automotive Shop', regex=False)) |\n",
        "              (Munich_venues['Venue Category'].str.contains('Rental Car Location', regex=False)) |\n",
        "              (Munich_venues['Venue Category'].str.contains('Auto Dealership', regex=False)) |\n",
        "              (Munich_venues['Venue Category'].str.contains('Gas Station', regex=False)) |\n",
        "              (Munich_venues['Venue Category'].str.contains('Parking', regex=False)) |\n",
        "              (Munich_venues['Venue Category'].str.contains('Shopping Mall', regex=False)) |\n",
        "              (Munich_venues['Venue Category'].str.contains('Hotel', regex=False)) |\n",
        "              (Munich_venues['Venue Category'].str.contains('Motel',regex=False))\n",
        "               ].count()"
      ],
      "execution_count": null,
      "outputs": [
        {
          "output_type": "execute_result",
          "data": {
            "text/plain": [
              "borough              79\n",
              "Borough Latitude     79\n",
              "Borough Longitude    79\n",
              "Venue                79\n",
              "Venue Latitude       79\n",
              "Venue Longitude      79\n",
              "Venue Category       79\n",
              "dtype: int64"
            ]
          },
          "metadata": {
            "tags": []
          },
          "execution_count": 256
        }
      ]
    },
    {
      "cell_type": "markdown",
      "metadata": {
        "id": "I-NykTPDEaY6",
        "colab_type": "text"
      },
      "source": [
        "# Places which can be used to advertise insurance claim"
      ]
    },
    {
      "cell_type": "markdown",
      "metadata": {
        "colab_type": "text",
        "id": "dqh6bGHfG77w"
      },
      "source": [
        "# Let's just select the below columns from the venues\n",
        "'Motorcycle Shop'\n",
        " 'Automotive Shop'\n",
        " 'Rental Car Location'\n",
        " 'Auto Dealership'\n",
        " 'Gas Station'\n",
        " 'Parking'\n",
        " 'Hotel'\n",
        " 'Motel'"
      ]
    },
    {
      "cell_type": "code",
      "metadata": {
        "id": "HsSFGGd6HsDe",
        "colab_type": "code",
        "colab": {}
      },
      "source": [
        "valuable_cols_advertisement=['Motorcycle Shop','Automotive Shop','Rental Car Location','Auto Dealership','Gas Station','Parking','Hotel','Motel']"
      ],
      "execution_count": null,
      "outputs": []
    },
    {
      "cell_type": "code",
      "metadata": {
        "id": "M38H9635GQT9",
        "colab_type": "code",
        "colab": {
          "base_uri": "https://localhost:8080/",
          "height": 425
        },
        "outputId": "085a1c71-c5de-4c05-908e-42535984c103"
      },
      "source": [
        "for val in valuable_cols_advertisement:\n",
        "  Munich_venues[val]=Munich_venues['Venue Category'].apply(lambda x: 1.0 if x==val else 0.0)\n",
        "  print(Munich_venues[val].value_counts())"
      ],
      "execution_count": null,
      "outputs": [
        {
          "output_type": "stream",
          "text": [
            "0.0    1453\n",
            "1.0       1\n",
            "Name: Motorcycle Shop, dtype: int64\n",
            "0.0    1451\n",
            "1.0       3\n",
            "Name: Automotive Shop, dtype: int64\n",
            "0.0    1449\n",
            "1.0       5\n",
            "Name: Rental Car Location, dtype: int64\n",
            "0.0    1453\n",
            "1.0       1\n",
            "Name: Auto Dealership, dtype: int64\n",
            "0.0    1452\n",
            "1.0       2\n",
            "Name: Gas Station, dtype: int64\n",
            "0.0    1453\n",
            "1.0       1\n",
            "Name: Parking, dtype: int64\n",
            "0.0    1395\n",
            "1.0      59\n",
            "Name: Hotel, dtype: int64\n",
            "0.0    1453\n",
            "1.0       1\n",
            "Name: Motel, dtype: int64\n"
          ],
          "name": "stdout"
        }
      ]
    },
    {
      "cell_type": "code",
      "metadata": {
        "id": "zQXc6BMtDQf5",
        "colab_type": "code",
        "colab": {}
      },
      "source": [
        "Munich_places=Munich_venues[(Munich_venues['Venue Category'].str.contains('Motorcycle Shop', regex=False)) |\n",
        "              (Munich_venues['Venue Category'].str.contains('Automotive Shop', regex=False)) |\n",
        "              (Munich_venues['Venue Category'].str.contains('Rental Car Location', regex=False)) |\n",
        "              (Munich_venues['Venue Category'].str.contains('Auto Dealership', regex=False)) |\n",
        "              (Munich_venues['Venue Category'].str.contains('Gas Station', regex=False)) |\n",
        "              (Munich_venues['Venue Category'].str.contains('Parking', regex=False)) |\n",
        "              (Munich_venues['Venue Category'].str.contains('Shopping Mall', regex=False)) |\n",
        "              (Munich_venues['Venue Category'].str.contains('Hotel', regex=False)) |\n",
        "              (Munich_venues['Venue Category'].str.contains('Motel',regex=False))\n",
        "               ].groupby(['borough']).count()\n"
      ],
      "execution_count": null,
      "outputs": []
    },
    {
      "cell_type": "code",
      "metadata": {
        "id": "KFh8KKoKGtVH",
        "colab_type": "code",
        "colab": {
          "base_uri": "https://localhost:8080/",
          "height": 827
        },
        "outputId": "20661d0c-d372-4964-94b1-4cd95c03a6a2"
      },
      "source": [
        "Munich_places.head(25)"
      ],
      "execution_count": null,
      "outputs": [
        {
          "output_type": "execute_result",
          "data": {
            "text/html": [
              "<div>\n",
              "<style scoped>\n",
              "    .dataframe tbody tr th:only-of-type {\n",
              "        vertical-align: middle;\n",
              "    }\n",
              "\n",
              "    .dataframe tbody tr th {\n",
              "        vertical-align: top;\n",
              "    }\n",
              "\n",
              "    .dataframe thead th {\n",
              "        text-align: right;\n",
              "    }\n",
              "</style>\n",
              "<table border=\"1\" class=\"dataframe\">\n",
              "  <thead>\n",
              "    <tr style=\"text-align: right;\">\n",
              "      <th></th>\n",
              "      <th>Borough Latitude</th>\n",
              "      <th>Borough Longitude</th>\n",
              "      <th>Venue</th>\n",
              "      <th>Venue Latitude</th>\n",
              "      <th>Venue Longitude</th>\n",
              "      <th>Venue Category</th>\n",
              "    </tr>\n",
              "    <tr>\n",
              "      <th>borough</th>\n",
              "      <th></th>\n",
              "      <th></th>\n",
              "      <th></th>\n",
              "      <th></th>\n",
              "      <th></th>\n",
              "      <th></th>\n",
              "    </tr>\n",
              "  </thead>\n",
              "  <tbody>\n",
              "    <tr>\n",
              "      <th>Allach - Untermenzing</th>\n",
              "      <td>3</td>\n",
              "      <td>3</td>\n",
              "      <td>3</td>\n",
              "      <td>3</td>\n",
              "      <td>3</td>\n",
              "      <td>3</td>\n",
              "    </tr>\n",
              "    <tr>\n",
              "      <th>Altstadt - Lehel</th>\n",
              "      <td>5</td>\n",
              "      <td>5</td>\n",
              "      <td>5</td>\n",
              "      <td>5</td>\n",
              "      <td>5</td>\n",
              "      <td>5</td>\n",
              "    </tr>\n",
              "    <tr>\n",
              "      <th>Au - Haidhausen</th>\n",
              "      <td>2</td>\n",
              "      <td>2</td>\n",
              "      <td>2</td>\n",
              "      <td>2</td>\n",
              "      <td>2</td>\n",
              "      <td>2</td>\n",
              "    </tr>\n",
              "    <tr>\n",
              "      <th>Aubing - Lochhausen - Langwied</th>\n",
              "      <td>1</td>\n",
              "      <td>1</td>\n",
              "      <td>1</td>\n",
              "      <td>1</td>\n",
              "      <td>1</td>\n",
              "      <td>1</td>\n",
              "    </tr>\n",
              "    <tr>\n",
              "      <th>Berg am Laim</th>\n",
              "      <td>3</td>\n",
              "      <td>3</td>\n",
              "      <td>3</td>\n",
              "      <td>3</td>\n",
              "      <td>3</td>\n",
              "      <td>3</td>\n",
              "    </tr>\n",
              "    <tr>\n",
              "      <th>Bogenhausen</th>\n",
              "      <td>2</td>\n",
              "      <td>2</td>\n",
              "      <td>2</td>\n",
              "      <td>2</td>\n",
              "      <td>2</td>\n",
              "      <td>2</td>\n",
              "    </tr>\n",
              "    <tr>\n",
              "      <th>Hadern</th>\n",
              "      <td>1</td>\n",
              "      <td>1</td>\n",
              "      <td>1</td>\n",
              "      <td>1</td>\n",
              "      <td>1</td>\n",
              "      <td>1</td>\n",
              "    </tr>\n",
              "    <tr>\n",
              "      <th>Laim</th>\n",
              "      <td>2</td>\n",
              "      <td>2</td>\n",
              "      <td>2</td>\n",
              "      <td>2</td>\n",
              "      <td>2</td>\n",
              "      <td>2</td>\n",
              "    </tr>\n",
              "    <tr>\n",
              "      <th>Ludwigsvorstadt - Isarvorstadt</th>\n",
              "      <td>1</td>\n",
              "      <td>1</td>\n",
              "      <td>1</td>\n",
              "      <td>1</td>\n",
              "      <td>1</td>\n",
              "      <td>1</td>\n",
              "    </tr>\n",
              "    <tr>\n",
              "      <th>Maxvorstadt</th>\n",
              "      <td>3</td>\n",
              "      <td>3</td>\n",
              "      <td>3</td>\n",
              "      <td>3</td>\n",
              "      <td>3</td>\n",
              "      <td>3</td>\n",
              "    </tr>\n",
              "    <tr>\n",
              "      <th>Milbertshofen - Am Hart</th>\n",
              "      <td>7</td>\n",
              "      <td>7</td>\n",
              "      <td>7</td>\n",
              "      <td>7</td>\n",
              "      <td>7</td>\n",
              "      <td>7</td>\n",
              "    </tr>\n",
              "    <tr>\n",
              "      <th>Neuhausen - Nymphenburg</th>\n",
              "      <td>1</td>\n",
              "      <td>1</td>\n",
              "      <td>1</td>\n",
              "      <td>1</td>\n",
              "      <td>1</td>\n",
              "      <td>1</td>\n",
              "    </tr>\n",
              "    <tr>\n",
              "      <th>Obergiesing - Fasangarten</th>\n",
              "      <td>6</td>\n",
              "      <td>6</td>\n",
              "      <td>6</td>\n",
              "      <td>6</td>\n",
              "      <td>6</td>\n",
              "      <td>6</td>\n",
              "    </tr>\n",
              "    <tr>\n",
              "      <th>Pasing - Obermenzing</th>\n",
              "      <td>4</td>\n",
              "      <td>4</td>\n",
              "      <td>4</td>\n",
              "      <td>4</td>\n",
              "      <td>4</td>\n",
              "      <td>4</td>\n",
              "    </tr>\n",
              "    <tr>\n",
              "      <th>Ramersdorf - Perlach</th>\n",
              "      <td>5</td>\n",
              "      <td>5</td>\n",
              "      <td>5</td>\n",
              "      <td>5</td>\n",
              "      <td>5</td>\n",
              "      <td>5</td>\n",
              "    </tr>\n",
              "    <tr>\n",
              "      <th>Schwabing - Freimann</th>\n",
              "      <td>2</td>\n",
              "      <td>2</td>\n",
              "      <td>2</td>\n",
              "      <td>2</td>\n",
              "      <td>2</td>\n",
              "      <td>2</td>\n",
              "    </tr>\n",
              "    <tr>\n",
              "      <th>Schwabing - West</th>\n",
              "      <td>1</td>\n",
              "      <td>1</td>\n",
              "      <td>1</td>\n",
              "      <td>1</td>\n",
              "      <td>1</td>\n",
              "      <td>1</td>\n",
              "    </tr>\n",
              "    <tr>\n",
              "      <th>Schwanthalerhöhe</th>\n",
              "      <td>12</td>\n",
              "      <td>12</td>\n",
              "      <td>12</td>\n",
              "      <td>12</td>\n",
              "      <td>12</td>\n",
              "      <td>12</td>\n",
              "    </tr>\n",
              "    <tr>\n",
              "      <th>Sendling</th>\n",
              "      <td>6</td>\n",
              "      <td>6</td>\n",
              "      <td>6</td>\n",
              "      <td>6</td>\n",
              "      <td>6</td>\n",
              "      <td>6</td>\n",
              "    </tr>\n",
              "    <tr>\n",
              "      <th>Sendling - Westpark</th>\n",
              "      <td>1</td>\n",
              "      <td>1</td>\n",
              "      <td>1</td>\n",
              "      <td>1</td>\n",
              "      <td>1</td>\n",
              "      <td>1</td>\n",
              "    </tr>\n",
              "    <tr>\n",
              "      <th>Thalkirchen - Obersendling - Forstenried - Fürstenried - Solln</th>\n",
              "      <td>3</td>\n",
              "      <td>3</td>\n",
              "      <td>3</td>\n",
              "      <td>3</td>\n",
              "      <td>3</td>\n",
              "      <td>3</td>\n",
              "    </tr>\n",
              "    <tr>\n",
              "      <th>Trudering - Riem</th>\n",
              "      <td>3</td>\n",
              "      <td>3</td>\n",
              "      <td>3</td>\n",
              "      <td>3</td>\n",
              "      <td>3</td>\n",
              "      <td>3</td>\n",
              "    </tr>\n",
              "    <tr>\n",
              "      <th>Untergiesing - Harlaching</th>\n",
              "      <td>5</td>\n",
              "      <td>5</td>\n",
              "      <td>5</td>\n",
              "      <td>5</td>\n",
              "      <td>5</td>\n",
              "      <td>5</td>\n",
              "    </tr>\n",
              "  </tbody>\n",
              "</table>\n",
              "</div>"
            ],
            "text/plain": [
              "                                                    Borough Latitude  ...  Venue Category\n",
              "borough                                                               ...                \n",
              "Allach - Untermenzing                                              3  ...               3\n",
              "Altstadt - Lehel                                                   5  ...               5\n",
              "Au - Haidhausen                                                    2  ...               2\n",
              "Aubing - Lochhausen - Langwied                                     1  ...               1\n",
              "Berg am Laim                                                       3  ...               3\n",
              "Bogenhausen                                                        2  ...               2\n",
              "Hadern                                                             1  ...               1\n",
              "Laim                                                               2  ...               2\n",
              "Ludwigsvorstadt - Isarvorstadt                                     1  ...               1\n",
              "Maxvorstadt                                                        3  ...               3\n",
              "Milbertshofen - Am Hart                                            7  ...               7\n",
              "Neuhausen - Nymphenburg                                            1  ...               1\n",
              "Obergiesing - Fasangarten                                          6  ...               6\n",
              "Pasing - Obermenzing                                               4  ...               4\n",
              "Ramersdorf - Perlach                                               5  ...               5\n",
              "Schwabing - Freimann                                               2  ...               2\n",
              "Schwabing - West                                                   1  ...               1\n",
              "Schwanthalerhöhe                                                  12  ...              12\n",
              "Sendling                                                           6  ...               6\n",
              "Sendling - Westpark                                                1  ...               1\n",
              "Thalkirchen - Obersendling - Forstenried - Fürs...                 3  ...               3\n",
              "Trudering - Riem                                                   3  ...               3\n",
              "Untergiesing - Harlaching                                          5  ...               5\n",
              "\n",
              "[23 rows x 6 columns]"
            ]
          },
          "metadata": {
            "tags": []
          },
          "execution_count": 259
        }
      ]
    },
    {
      "cell_type": "code",
      "metadata": {
        "id": "Nt7cUn6UneZ1",
        "colab_type": "code",
        "colab": {
          "base_uri": "https://localhost:8080/",
          "height": 221
        },
        "outputId": "b4d3e043-f2e2-4efa-868b-1781110259cb"
      },
      "source": [
        "Munich_venues['Venue Category']"
      ],
      "execution_count": null,
      "outputs": [
        {
          "output_type": "execute_result",
          "data": {
            "text/plain": [
              "0                    Bakery\n",
              "1       Sporting Goods Shop\n",
              "2         Trattoria/Osteria\n",
              "3       Bavarian Restaurant\n",
              "4         German Restaurant\n",
              "               ...         \n",
              "1449       Department Store\n",
              "1450               Bus Stop\n",
              "1451                 Bakery\n",
              "1452              Rest Area\n",
              "1453    Rental Car Location\n",
              "Name: Venue Category, Length: 1454, dtype: object"
            ]
          },
          "metadata": {
            "tags": []
          },
          "execution_count": 261
        }
      ]
    },
    {
      "cell_type": "code",
      "metadata": {
        "id": "XMU9K45SnVMb",
        "colab_type": "code",
        "colab": {
          "base_uri": "https://localhost:8080/",
          "height": 827
        },
        "outputId": "76d0d5cc-6f4a-40d3-bbb6-2f48280ebb37"
      },
      "source": [
        "Munich_places.head(25)"
      ],
      "execution_count": null,
      "outputs": [
        {
          "output_type": "execute_result",
          "data": {
            "text/html": [
              "<div>\n",
              "<style scoped>\n",
              "    .dataframe tbody tr th:only-of-type {\n",
              "        vertical-align: middle;\n",
              "    }\n",
              "\n",
              "    .dataframe tbody tr th {\n",
              "        vertical-align: top;\n",
              "    }\n",
              "\n",
              "    .dataframe thead th {\n",
              "        text-align: right;\n",
              "    }\n",
              "</style>\n",
              "<table border=\"1\" class=\"dataframe\">\n",
              "  <thead>\n",
              "    <tr style=\"text-align: right;\">\n",
              "      <th></th>\n",
              "      <th>Borough Latitude</th>\n",
              "      <th>Borough Longitude</th>\n",
              "      <th>Venue</th>\n",
              "      <th>Venue Latitude</th>\n",
              "      <th>Venue Longitude</th>\n",
              "      <th>Venue Category</th>\n",
              "    </tr>\n",
              "    <tr>\n",
              "      <th>borough</th>\n",
              "      <th></th>\n",
              "      <th></th>\n",
              "      <th></th>\n",
              "      <th></th>\n",
              "      <th></th>\n",
              "      <th></th>\n",
              "    </tr>\n",
              "  </thead>\n",
              "  <tbody>\n",
              "    <tr>\n",
              "      <th>Allach - Untermenzing</th>\n",
              "      <td>3</td>\n",
              "      <td>3</td>\n",
              "      <td>3</td>\n",
              "      <td>3</td>\n",
              "      <td>3</td>\n",
              "      <td>3</td>\n",
              "    </tr>\n",
              "    <tr>\n",
              "      <th>Altstadt - Lehel</th>\n",
              "      <td>5</td>\n",
              "      <td>5</td>\n",
              "      <td>5</td>\n",
              "      <td>5</td>\n",
              "      <td>5</td>\n",
              "      <td>5</td>\n",
              "    </tr>\n",
              "    <tr>\n",
              "      <th>Au - Haidhausen</th>\n",
              "      <td>2</td>\n",
              "      <td>2</td>\n",
              "      <td>2</td>\n",
              "      <td>2</td>\n",
              "      <td>2</td>\n",
              "      <td>2</td>\n",
              "    </tr>\n",
              "    <tr>\n",
              "      <th>Aubing - Lochhausen - Langwied</th>\n",
              "      <td>1</td>\n",
              "      <td>1</td>\n",
              "      <td>1</td>\n",
              "      <td>1</td>\n",
              "      <td>1</td>\n",
              "      <td>1</td>\n",
              "    </tr>\n",
              "    <tr>\n",
              "      <th>Berg am Laim</th>\n",
              "      <td>3</td>\n",
              "      <td>3</td>\n",
              "      <td>3</td>\n",
              "      <td>3</td>\n",
              "      <td>3</td>\n",
              "      <td>3</td>\n",
              "    </tr>\n",
              "    <tr>\n",
              "      <th>Bogenhausen</th>\n",
              "      <td>2</td>\n",
              "      <td>2</td>\n",
              "      <td>2</td>\n",
              "      <td>2</td>\n",
              "      <td>2</td>\n",
              "      <td>2</td>\n",
              "    </tr>\n",
              "    <tr>\n",
              "      <th>Hadern</th>\n",
              "      <td>1</td>\n",
              "      <td>1</td>\n",
              "      <td>1</td>\n",
              "      <td>1</td>\n",
              "      <td>1</td>\n",
              "      <td>1</td>\n",
              "    </tr>\n",
              "    <tr>\n",
              "      <th>Laim</th>\n",
              "      <td>2</td>\n",
              "      <td>2</td>\n",
              "      <td>2</td>\n",
              "      <td>2</td>\n",
              "      <td>2</td>\n",
              "      <td>2</td>\n",
              "    </tr>\n",
              "    <tr>\n",
              "      <th>Ludwigsvorstadt - Isarvorstadt</th>\n",
              "      <td>1</td>\n",
              "      <td>1</td>\n",
              "      <td>1</td>\n",
              "      <td>1</td>\n",
              "      <td>1</td>\n",
              "      <td>1</td>\n",
              "    </tr>\n",
              "    <tr>\n",
              "      <th>Maxvorstadt</th>\n",
              "      <td>3</td>\n",
              "      <td>3</td>\n",
              "      <td>3</td>\n",
              "      <td>3</td>\n",
              "      <td>3</td>\n",
              "      <td>3</td>\n",
              "    </tr>\n",
              "    <tr>\n",
              "      <th>Milbertshofen - Am Hart</th>\n",
              "      <td>7</td>\n",
              "      <td>7</td>\n",
              "      <td>7</td>\n",
              "      <td>7</td>\n",
              "      <td>7</td>\n",
              "      <td>7</td>\n",
              "    </tr>\n",
              "    <tr>\n",
              "      <th>Neuhausen - Nymphenburg</th>\n",
              "      <td>1</td>\n",
              "      <td>1</td>\n",
              "      <td>1</td>\n",
              "      <td>1</td>\n",
              "      <td>1</td>\n",
              "      <td>1</td>\n",
              "    </tr>\n",
              "    <tr>\n",
              "      <th>Obergiesing - Fasangarten</th>\n",
              "      <td>6</td>\n",
              "      <td>6</td>\n",
              "      <td>6</td>\n",
              "      <td>6</td>\n",
              "      <td>6</td>\n",
              "      <td>6</td>\n",
              "    </tr>\n",
              "    <tr>\n",
              "      <th>Pasing - Obermenzing</th>\n",
              "      <td>4</td>\n",
              "      <td>4</td>\n",
              "      <td>4</td>\n",
              "      <td>4</td>\n",
              "      <td>4</td>\n",
              "      <td>4</td>\n",
              "    </tr>\n",
              "    <tr>\n",
              "      <th>Ramersdorf - Perlach</th>\n",
              "      <td>5</td>\n",
              "      <td>5</td>\n",
              "      <td>5</td>\n",
              "      <td>5</td>\n",
              "      <td>5</td>\n",
              "      <td>5</td>\n",
              "    </tr>\n",
              "    <tr>\n",
              "      <th>Schwabing - Freimann</th>\n",
              "      <td>2</td>\n",
              "      <td>2</td>\n",
              "      <td>2</td>\n",
              "      <td>2</td>\n",
              "      <td>2</td>\n",
              "      <td>2</td>\n",
              "    </tr>\n",
              "    <tr>\n",
              "      <th>Schwabing - West</th>\n",
              "      <td>1</td>\n",
              "      <td>1</td>\n",
              "      <td>1</td>\n",
              "      <td>1</td>\n",
              "      <td>1</td>\n",
              "      <td>1</td>\n",
              "    </tr>\n",
              "    <tr>\n",
              "      <th>Schwanthalerhöhe</th>\n",
              "      <td>12</td>\n",
              "      <td>12</td>\n",
              "      <td>12</td>\n",
              "      <td>12</td>\n",
              "      <td>12</td>\n",
              "      <td>12</td>\n",
              "    </tr>\n",
              "    <tr>\n",
              "      <th>Sendling</th>\n",
              "      <td>6</td>\n",
              "      <td>6</td>\n",
              "      <td>6</td>\n",
              "      <td>6</td>\n",
              "      <td>6</td>\n",
              "      <td>6</td>\n",
              "    </tr>\n",
              "    <tr>\n",
              "      <th>Sendling - Westpark</th>\n",
              "      <td>1</td>\n",
              "      <td>1</td>\n",
              "      <td>1</td>\n",
              "      <td>1</td>\n",
              "      <td>1</td>\n",
              "      <td>1</td>\n",
              "    </tr>\n",
              "    <tr>\n",
              "      <th>Thalkirchen - Obersendling - Forstenried - Fürstenried - Solln</th>\n",
              "      <td>3</td>\n",
              "      <td>3</td>\n",
              "      <td>3</td>\n",
              "      <td>3</td>\n",
              "      <td>3</td>\n",
              "      <td>3</td>\n",
              "    </tr>\n",
              "    <tr>\n",
              "      <th>Trudering - Riem</th>\n",
              "      <td>3</td>\n",
              "      <td>3</td>\n",
              "      <td>3</td>\n",
              "      <td>3</td>\n",
              "      <td>3</td>\n",
              "      <td>3</td>\n",
              "    </tr>\n",
              "    <tr>\n",
              "      <th>Untergiesing - Harlaching</th>\n",
              "      <td>5</td>\n",
              "      <td>5</td>\n",
              "      <td>5</td>\n",
              "      <td>5</td>\n",
              "      <td>5</td>\n",
              "      <td>5</td>\n",
              "    </tr>\n",
              "  </tbody>\n",
              "</table>\n",
              "</div>"
            ],
            "text/plain": [
              "                                                    Borough Latitude  ...  Venue Category\n",
              "borough                                                               ...                \n",
              "Allach - Untermenzing                                              3  ...               3\n",
              "Altstadt - Lehel                                                   5  ...               5\n",
              "Au - Haidhausen                                                    2  ...               2\n",
              "Aubing - Lochhausen - Langwied                                     1  ...               1\n",
              "Berg am Laim                                                       3  ...               3\n",
              "Bogenhausen                                                        2  ...               2\n",
              "Hadern                                                             1  ...               1\n",
              "Laim                                                               2  ...               2\n",
              "Ludwigsvorstadt - Isarvorstadt                                     1  ...               1\n",
              "Maxvorstadt                                                        3  ...               3\n",
              "Milbertshofen - Am Hart                                            7  ...               7\n",
              "Neuhausen - Nymphenburg                                            1  ...               1\n",
              "Obergiesing - Fasangarten                                          6  ...               6\n",
              "Pasing - Obermenzing                                               4  ...               4\n",
              "Ramersdorf - Perlach                                               5  ...               5\n",
              "Schwabing - Freimann                                               2  ...               2\n",
              "Schwabing - West                                                   1  ...               1\n",
              "Schwanthalerhöhe                                                  12  ...              12\n",
              "Sendling                                                           6  ...               6\n",
              "Sendling - Westpark                                                1  ...               1\n",
              "Thalkirchen - Obersendling - Forstenried - Fürs...                 3  ...               3\n",
              "Trudering - Riem                                                   3  ...               3\n",
              "Untergiesing - Harlaching                                          5  ...               5\n",
              "\n",
              "[23 rows x 6 columns]"
            ]
          },
          "metadata": {
            "tags": []
          },
          "execution_count": 262
        }
      ]
    },
    {
      "cell_type": "code",
      "metadata": {
        "id": "YWh5ZmzjOiRX",
        "colab_type": "code",
        "colab": {}
      },
      "source": [
        "Munich_places.drop(['Borough Latitude', 'Borough Longitude', 'Venue Longitude', 'Venue', 'Venue Latitude'], axis = 1, inplace = True)\n",
        "Munich_places.rename(columns = {'Venue Category':'Number of places'}, inplace=True)\n"
      ],
      "execution_count": null,
      "outputs": []
    },
    {
      "cell_type": "code",
      "metadata": {
        "id": "E64UxpWsPAPm",
        "colab_type": "code",
        "colab": {}
      },
      "source": [
        "Munich_places.reset_index(inplace=True)"
      ],
      "execution_count": null,
      "outputs": []
    },
    {
      "cell_type": "markdown",
      "metadata": {
        "id": "Mxl7Go7Nzqgr",
        "colab_type": "text"
      },
      "source": [
        "# Next Dataset contains the percentage of old-not-working-people (above 65 years) and totoal people combining working professional (18-65) years population  and old-not-working-people in each borough. I couldn't get the net-income data for each borough, so we can use the working professional information for our data analysis later"
      ]
    },
    {
      "cell_type": "code",
      "metadata": {
        "id": "gVknF7t7R1MI",
        "colab_type": "code",
        "colab": {}
      },
      "source": [
        "df_borough.to_csv(folder_path+'borough-population-final.csv',index=False)"
      ],
      "execution_count": null,
      "outputs": []
    },
    {
      "cell_type": "code",
      "metadata": {
        "id": "Q2tYVvTIlJG9",
        "colab_type": "code",
        "colab": {}
      },
      "source": [
        "df_working_professional=pd.read_csv(folder_path+'Old-Age-people-data.csv')"
      ],
      "execution_count": null,
      "outputs": []
    },
    {
      "cell_type": "code",
      "metadata": {
        "id": "SEsiEKkQ0Xge",
        "colab_type": "code",
        "colab": {
          "base_uri": "https://localhost:8080/",
          "height": 598
        },
        "outputId": "a2ba4aa7-3ddd-4b1d-dc69-8b18531d0e72"
      },
      "source": [
        "df_working_professional.head()"
      ],
      "execution_count": null,
      "outputs": [
        {
          "output_type": "execute_result",
          "data": {
            "text/html": [
              "<div>\n",
              "<style scoped>\n",
              "    .dataframe tbody tr th:only-of-type {\n",
              "        vertical-align: middle;\n",
              "    }\n",
              "\n",
              "    .dataframe tbody tr th {\n",
              "        vertical-align: top;\n",
              "    }\n",
              "\n",
              "    .dataframe thead th {\n",
              "        text-align: right;\n",
              "    }\n",
              "</style>\n",
              "<table border=\"1\" class=\"dataframe\">\n",
              "  <thead>\n",
              "    <tr style=\"text-align: right;\">\n",
              "      <th></th>\n",
              "      <th>Indikator</th>\n",
              "      <th>Ausprägung</th>\n",
              "      <th>Jahr</th>\n",
              "      <th>Räumliche Gliederung</th>\n",
              "      <th>Indikatorwert</th>\n",
              "      <th>Basiswert 1</th>\n",
              "      <th>Basiswert 2</th>\n",
              "      <th>Basiswert 3</th>\n",
              "      <th>Basiswert 4</th>\n",
              "      <th>Basiswert 5</th>\n",
              "      <th>Name Basiswert 1</th>\n",
              "      <th>Name Basiswert 2</th>\n",
              "      <th>Name Basiswert 3</th>\n",
              "      <th>Name Basiswert 4</th>\n",
              "      <th>Name Basiswert 5</th>\n",
              "    </tr>\n",
              "  </thead>\n",
              "  <tbody>\n",
              "    <tr>\n",
              "      <th>0</th>\n",
              "      <td>Altenquotient</td>\n",
              "      <td>Ausländer_innen</td>\n",
              "      <td>2017</td>\n",
              "      <td>Stadt München</td>\n",
              "      <td>12.9</td>\n",
              "      <td>44352</td>\n",
              "      <td>343545</td>\n",
              "      <td>NaN</td>\n",
              "      <td>NaN</td>\n",
              "      <td>NaN</td>\n",
              "      <td>Einwohner 65 Jahre und älter (Ausländer)</td>\n",
              "      <td>Einwohner im Alter von 15 bis unter 65 (Auslän...</td>\n",
              "      <td>NaN</td>\n",
              "      <td>NaN</td>\n",
              "      <td>NaN</td>\n",
              "    </tr>\n",
              "    <tr>\n",
              "      <th>1</th>\n",
              "      <td>Altenquotient</td>\n",
              "      <td>Ausländer_innen</td>\n",
              "      <td>2017</td>\n",
              "      <td>01 Altstadt - Lehel</td>\n",
              "      <td>14.3</td>\n",
              "      <td>646</td>\n",
              "      <td>4502</td>\n",
              "      <td>NaN</td>\n",
              "      <td>NaN</td>\n",
              "      <td>NaN</td>\n",
              "      <td>Einwohner 65 Jahre und älter (Ausländer)</td>\n",
              "      <td>Einwohner im Alter von 15 bis unter 65 (Auslän...</td>\n",
              "      <td>NaN</td>\n",
              "      <td>NaN</td>\n",
              "      <td>NaN</td>\n",
              "    </tr>\n",
              "    <tr>\n",
              "      <th>2</th>\n",
              "      <td>Altenquotient</td>\n",
              "      <td>Ausländer_innen</td>\n",
              "      <td>2017</td>\n",
              "      <td>02 Ludwigsvorstadt - Isarvorstadt</td>\n",
              "      <td>12.9</td>\n",
              "      <td>1593</td>\n",
              "      <td>12363</td>\n",
              "      <td>NaN</td>\n",
              "      <td>NaN</td>\n",
              "      <td>NaN</td>\n",
              "      <td>Einwohner 65 Jahre und älter (Ausländer)</td>\n",
              "      <td>Einwohner im Alter von 15 bis unter 65 (Auslän...</td>\n",
              "      <td>NaN</td>\n",
              "      <td>NaN</td>\n",
              "      <td>NaN</td>\n",
              "    </tr>\n",
              "    <tr>\n",
              "      <th>3</th>\n",
              "      <td>Altenquotient</td>\n",
              "      <td>Ausländer_innen</td>\n",
              "      <td>2017</td>\n",
              "      <td>03 Maxvorstadt</td>\n",
              "      <td>10.5</td>\n",
              "      <td>1178</td>\n",
              "      <td>11243</td>\n",
              "      <td>NaN</td>\n",
              "      <td>NaN</td>\n",
              "      <td>NaN</td>\n",
              "      <td>Einwohner 65 Jahre und älter (Ausländer)</td>\n",
              "      <td>Einwohner im Alter von 15 bis unter 65 (Auslän...</td>\n",
              "      <td>NaN</td>\n",
              "      <td>NaN</td>\n",
              "      <td>NaN</td>\n",
              "    </tr>\n",
              "    <tr>\n",
              "      <th>4</th>\n",
              "      <td>Altenquotient</td>\n",
              "      <td>Ausländer_innen</td>\n",
              "      <td>2017</td>\n",
              "      <td>04 Schwabing - West</td>\n",
              "      <td>13.3</td>\n",
              "      <td>1689</td>\n",
              "      <td>12703</td>\n",
              "      <td>NaN</td>\n",
              "      <td>NaN</td>\n",
              "      <td>NaN</td>\n",
              "      <td>Einwohner 65 Jahre und älter (Ausländer)</td>\n",
              "      <td>Einwohner im Alter von 15 bis unter 65 (Auslän...</td>\n",
              "      <td>NaN</td>\n",
              "      <td>NaN</td>\n",
              "      <td>NaN</td>\n",
              "    </tr>\n",
              "  </tbody>\n",
              "</table>\n",
              "</div>"
            ],
            "text/plain": [
              "       Indikator       Ausprägung  ...  Name Basiswert 4 Name Basiswert 5\n",
              "0  Altenquotient  Ausländer_innen  ...               NaN              NaN\n",
              "1  Altenquotient  Ausländer_innen  ...               NaN              NaN\n",
              "2  Altenquotient  Ausländer_innen  ...               NaN              NaN\n",
              "3  Altenquotient  Ausländer_innen  ...               NaN              NaN\n",
              "4  Altenquotient  Ausländer_innen  ...               NaN              NaN\n",
              "\n",
              "[5 rows x 15 columns]"
            ]
          },
          "metadata": {
            "tags": []
          },
          "execution_count": 115
        }
      ]
    },
    {
      "cell_type": "markdown",
      "metadata": {
        "id": "b11H-BCI1XRk",
        "colab_type": "text"
      },
      "source": [
        "# Here the important columns are\n",
        "\n",
        "Jahr - year\n",
        "\n",
        "Ausprägung - Citizenship (Foreigner or Germans)\n",
        "\n",
        "Räumliche Gliederung - Borough\n",
        "\n",
        "Indikatorwert - old-not-working-professionals-percentage in each borough\n",
        "\n",
        "Basiswert 1  - Total number of not old-working-professionals in each borough\n",
        "\n",
        "Basiswert 2  - Total number of working professionals(18-65 years) in each borough\n",
        "\n"
      ]
    },
    {
      "cell_type": "code",
      "metadata": {
        "id": "hFOLLUZ22yvu",
        "colab_type": "code",
        "colab": {}
      },
      "source": [
        "important_cols=['Jahr','Ausprägung','Räumliche Gliederung','Indikatorwert','Basiswert 1','Basiswert 2']"
      ],
      "execution_count": null,
      "outputs": []
    },
    {
      "cell_type": "code",
      "metadata": {
        "id": "RQ7pKkGx0agj",
        "colab_type": "code",
        "colab": {}
      },
      "source": [
        "df_working_professional=df_working_professional[important_cols].copy()"
      ],
      "execution_count": null,
      "outputs": []
    },
    {
      "cell_type": "code",
      "metadata": {
        "id": "I2Td3F0o3Hew",
        "colab_type": "code",
        "colab": {
          "base_uri": "https://localhost:8080/",
          "height": 204
        },
        "outputId": "201806e6-8f85-4dea-b48b-c6d2c8375b18"
      },
      "source": [
        "df_working_professional.head()"
      ],
      "execution_count": null,
      "outputs": [
        {
          "output_type": "execute_result",
          "data": {
            "text/html": [
              "<div>\n",
              "<style scoped>\n",
              "    .dataframe tbody tr th:only-of-type {\n",
              "        vertical-align: middle;\n",
              "    }\n",
              "\n",
              "    .dataframe tbody tr th {\n",
              "        vertical-align: top;\n",
              "    }\n",
              "\n",
              "    .dataframe thead th {\n",
              "        text-align: right;\n",
              "    }\n",
              "</style>\n",
              "<table border=\"1\" class=\"dataframe\">\n",
              "  <thead>\n",
              "    <tr style=\"text-align: right;\">\n",
              "      <th></th>\n",
              "      <th>Jahr</th>\n",
              "      <th>Ausprägung</th>\n",
              "      <th>Räumliche Gliederung</th>\n",
              "      <th>Indikatorwert</th>\n",
              "      <th>Basiswert 1</th>\n",
              "      <th>Basiswert 2</th>\n",
              "    </tr>\n",
              "  </thead>\n",
              "  <tbody>\n",
              "    <tr>\n",
              "      <th>0</th>\n",
              "      <td>2017</td>\n",
              "      <td>Ausländer_innen</td>\n",
              "      <td>Stadt München</td>\n",
              "      <td>12.9</td>\n",
              "      <td>44352</td>\n",
              "      <td>343545</td>\n",
              "    </tr>\n",
              "    <tr>\n",
              "      <th>1</th>\n",
              "      <td>2017</td>\n",
              "      <td>Ausländer_innen</td>\n",
              "      <td>01 Altstadt - Lehel</td>\n",
              "      <td>14.3</td>\n",
              "      <td>646</td>\n",
              "      <td>4502</td>\n",
              "    </tr>\n",
              "    <tr>\n",
              "      <th>2</th>\n",
              "      <td>2017</td>\n",
              "      <td>Ausländer_innen</td>\n",
              "      <td>02 Ludwigsvorstadt - Isarvorstadt</td>\n",
              "      <td>12.9</td>\n",
              "      <td>1593</td>\n",
              "      <td>12363</td>\n",
              "    </tr>\n",
              "    <tr>\n",
              "      <th>3</th>\n",
              "      <td>2017</td>\n",
              "      <td>Ausländer_innen</td>\n",
              "      <td>03 Maxvorstadt</td>\n",
              "      <td>10.5</td>\n",
              "      <td>1178</td>\n",
              "      <td>11243</td>\n",
              "    </tr>\n",
              "    <tr>\n",
              "      <th>4</th>\n",
              "      <td>2017</td>\n",
              "      <td>Ausländer_innen</td>\n",
              "      <td>04 Schwabing - West</td>\n",
              "      <td>13.3</td>\n",
              "      <td>1689</td>\n",
              "      <td>12703</td>\n",
              "    </tr>\n",
              "  </tbody>\n",
              "</table>\n",
              "</div>"
            ],
            "text/plain": [
              "   Jahr       Ausprägung  ... Basiswert 1  Basiswert 2\n",
              "0  2017  Ausländer_innen  ...       44352       343545\n",
              "1  2017  Ausländer_innen  ...         646         4502\n",
              "2  2017  Ausländer_innen  ...        1593        12363\n",
              "3  2017  Ausländer_innen  ...        1178        11243\n",
              "4  2017  Ausländer_innen  ...        1689        12703\n",
              "\n",
              "[5 rows x 6 columns]"
            ]
          },
          "metadata": {
            "tags": []
          },
          "execution_count": 118
        }
      ]
    },
    {
      "cell_type": "code",
      "metadata": {
        "id": "aPBwkKUw3Jj_",
        "colab_type": "code",
        "colab": {}
      },
      "source": [
        "cols_name =['year','citizenship','borough','old-not-working-percentage','no_old_not_working_professionals','total_residents(above 18years)']"
      ],
      "execution_count": null,
      "outputs": []
    },
    {
      "cell_type": "code",
      "metadata": {
        "id": "CaogiUqT3enU",
        "colab_type": "code",
        "colab": {}
      },
      "source": [
        "df_working_professional.columns=cols_name"
      ],
      "execution_count": null,
      "outputs": []
    },
    {
      "cell_type": "code",
      "metadata": {
        "id": "1PX3icXq3h7q",
        "colab_type": "code",
        "colab": {
          "base_uri": "https://localhost:8080/",
          "height": 238
        },
        "outputId": "932021cd-615b-477c-b5b9-982be58dc267"
      },
      "source": [
        "df_working_professional.head()"
      ],
      "execution_count": null,
      "outputs": [
        {
          "output_type": "execute_result",
          "data": {
            "text/html": [
              "<div>\n",
              "<style scoped>\n",
              "    .dataframe tbody tr th:only-of-type {\n",
              "        vertical-align: middle;\n",
              "    }\n",
              "\n",
              "    .dataframe tbody tr th {\n",
              "        vertical-align: top;\n",
              "    }\n",
              "\n",
              "    .dataframe thead th {\n",
              "        text-align: right;\n",
              "    }\n",
              "</style>\n",
              "<table border=\"1\" class=\"dataframe\">\n",
              "  <thead>\n",
              "    <tr style=\"text-align: right;\">\n",
              "      <th></th>\n",
              "      <th>year</th>\n",
              "      <th>citizenship</th>\n",
              "      <th>borough</th>\n",
              "      <th>old-not-working-percentage</th>\n",
              "      <th>no_old_not_working_professionals</th>\n",
              "      <th>total_residents(above 18years)</th>\n",
              "    </tr>\n",
              "  </thead>\n",
              "  <tbody>\n",
              "    <tr>\n",
              "      <th>0</th>\n",
              "      <td>2017</td>\n",
              "      <td>Ausländer_innen</td>\n",
              "      <td>Stadt München</td>\n",
              "      <td>12.9</td>\n",
              "      <td>44352</td>\n",
              "      <td>343545</td>\n",
              "    </tr>\n",
              "    <tr>\n",
              "      <th>1</th>\n",
              "      <td>2017</td>\n",
              "      <td>Ausländer_innen</td>\n",
              "      <td>01 Altstadt - Lehel</td>\n",
              "      <td>14.3</td>\n",
              "      <td>646</td>\n",
              "      <td>4502</td>\n",
              "    </tr>\n",
              "    <tr>\n",
              "      <th>2</th>\n",
              "      <td>2017</td>\n",
              "      <td>Ausländer_innen</td>\n",
              "      <td>02 Ludwigsvorstadt - Isarvorstadt</td>\n",
              "      <td>12.9</td>\n",
              "      <td>1593</td>\n",
              "      <td>12363</td>\n",
              "    </tr>\n",
              "    <tr>\n",
              "      <th>3</th>\n",
              "      <td>2017</td>\n",
              "      <td>Ausländer_innen</td>\n",
              "      <td>03 Maxvorstadt</td>\n",
              "      <td>10.5</td>\n",
              "      <td>1178</td>\n",
              "      <td>11243</td>\n",
              "    </tr>\n",
              "    <tr>\n",
              "      <th>4</th>\n",
              "      <td>2017</td>\n",
              "      <td>Ausländer_innen</td>\n",
              "      <td>04 Schwabing - West</td>\n",
              "      <td>13.3</td>\n",
              "      <td>1689</td>\n",
              "      <td>12703</td>\n",
              "    </tr>\n",
              "  </tbody>\n",
              "</table>\n",
              "</div>"
            ],
            "text/plain": [
              "   year  ... total_residents(above 18years)\n",
              "0  2017  ...                         343545\n",
              "1  2017  ...                           4502\n",
              "2  2017  ...                          12363\n",
              "3  2017  ...                          11243\n",
              "4  2017  ...                          12703\n",
              "\n",
              "[5 rows x 6 columns]"
            ]
          },
          "metadata": {
            "tags": []
          },
          "execution_count": 121
        }
      ]
    },
    {
      "cell_type": "code",
      "metadata": {
        "id": "5EMJim_E6Nzn",
        "colab_type": "code",
        "colab": {
          "base_uri": "https://localhost:8080/",
          "height": 85
        },
        "outputId": "7bcddcee-55c9-4b2f-8601-1df7df1d7da1"
      },
      "source": [
        "df_working_professional['citizenship'].value_counts()"
      ],
      "execution_count": null,
      "outputs": [
        {
          "output_type": "execute_result",
          "data": {
            "text/plain": [
              "Ausländer_innen    468\n",
              "Deutsche           468\n",
              "gesamt             468\n",
              "Name: citizenship, dtype: int64"
            ]
          },
          "metadata": {
            "tags": []
          },
          "execution_count": 122
        }
      ]
    },
    {
      "cell_type": "code",
      "metadata": {
        "id": "u-MWL9vM7Egn",
        "colab_type": "code",
        "colab": {}
      },
      "source": [
        "df_working_professional['citizenship']=df_working_professional['citizenship'].apply(lambda x:  'German' if x=='Deutsche' else 'Total' if x=='gesamt' else 'Foreigners')"
      ],
      "execution_count": null,
      "outputs": []
    },
    {
      "cell_type": "markdown",
      "metadata": {
        "id": "bkLbYidD3yea",
        "colab_type": "text"
      },
      "source": [
        "# Removing 1st row as it contains total Munich data\n",
        "\n",
        "# Take only 2017 year data (Recent data)\n",
        "\n",
        "# Remove the numbers from borough\n",
        "\n",
        "# Taking only total category from citizenship as other two catgory(German, Foreigners) comes under this"
      ]
    },
    {
      "cell_type": "code",
      "metadata": {
        "id": "FQuV0tn93wFs",
        "colab_type": "code",
        "colab": {}
      },
      "source": [
        "df_working_professional=df_working_professional.iloc[1:,:]"
      ],
      "execution_count": null,
      "outputs": []
    },
    {
      "cell_type": "code",
      "metadata": {
        "id": "ZKKo3GpJ4NVq",
        "colab_type": "code",
        "colab": {}
      },
      "source": [
        "df_working_professional=df_working_professional.loc[df_working_professional['year']==2017].copy()"
      ],
      "execution_count": null,
      "outputs": []
    },
    {
      "cell_type": "code",
      "metadata": {
        "id": "skFv6zLA4UuA",
        "colab_type": "code",
        "colab": {}
      },
      "source": [
        "df_working_professional['borough']=df_working_professional['borough'].apply(lambda x:x[3:])\n",
        "df_working_professional['borough']=df_working_professional['borough'].apply(lambda x:x.lstrip())"
      ],
      "execution_count": null,
      "outputs": []
    },
    {
      "cell_type": "code",
      "metadata": {
        "id": "fFhFfqcX8cKl",
        "colab_type": "code",
        "colab": {}
      },
      "source": [
        "df_working_professional=df_working_professional.loc[df_working_professional['citizenship']=='Total'].copy()"
      ],
      "execution_count": null,
      "outputs": []
    },
    {
      "cell_type": "code",
      "metadata": {
        "id": "X1rpB6de8sOS",
        "colab_type": "code",
        "colab": {}
      },
      "source": [
        "df_working_professional.reset_index(inplace=True,drop=True)"
      ],
      "execution_count": null,
      "outputs": []
    },
    {
      "cell_type": "code",
      "metadata": {
        "id": "XAGkh41P8uM7",
        "colab_type": "code",
        "colab": {
          "base_uri": "https://localhost:8080/",
          "height": 238
        },
        "outputId": "ba74a012-a07e-412f-8e6b-bc468b6fd7a3"
      },
      "source": [
        "df_working_professional.head()"
      ],
      "execution_count": null,
      "outputs": [
        {
          "output_type": "execute_result",
          "data": {
            "text/html": [
              "<div>\n",
              "<style scoped>\n",
              "    .dataframe tbody tr th:only-of-type {\n",
              "        vertical-align: middle;\n",
              "    }\n",
              "\n",
              "    .dataframe tbody tr th {\n",
              "        vertical-align: top;\n",
              "    }\n",
              "\n",
              "    .dataframe thead th {\n",
              "        text-align: right;\n",
              "    }\n",
              "</style>\n",
              "<table border=\"1\" class=\"dataframe\">\n",
              "  <thead>\n",
              "    <tr style=\"text-align: right;\">\n",
              "      <th></th>\n",
              "      <th>year</th>\n",
              "      <th>citizenship</th>\n",
              "      <th>borough</th>\n",
              "      <th>old-not-working-percentage</th>\n",
              "      <th>no_old_not_working_professionals</th>\n",
              "      <th>total_residents(above 18years)</th>\n",
              "    </tr>\n",
              "  </thead>\n",
              "  <tbody>\n",
              "    <tr>\n",
              "      <th>0</th>\n",
              "      <td>2017</td>\n",
              "      <td>Total</td>\n",
              "      <td>dt München</td>\n",
              "      <td>24.9</td>\n",
              "      <td>265133</td>\n",
              "      <td>1063806</td>\n",
              "    </tr>\n",
              "    <tr>\n",
              "      <th>1</th>\n",
              "      <td>2017</td>\n",
              "      <td>Total</td>\n",
              "      <td>Altstadt - Lehel</td>\n",
              "      <td>22.5</td>\n",
              "      <td>3450</td>\n",
              "      <td>15337</td>\n",
              "    </tr>\n",
              "    <tr>\n",
              "      <th>2</th>\n",
              "      <td>2017</td>\n",
              "      <td>Total</td>\n",
              "      <td>Ludwigsvorstadt - Isarvorstadt</td>\n",
              "      <td>14.3</td>\n",
              "      <td>5790</td>\n",
              "      <td>40440</td>\n",
              "    </tr>\n",
              "    <tr>\n",
              "      <th>3</th>\n",
              "      <td>2017</td>\n",
              "      <td>Total</td>\n",
              "      <td>Maxvorstadt</td>\n",
              "      <td>15.1</td>\n",
              "      <td>6137</td>\n",
              "      <td>40749</td>\n",
              "    </tr>\n",
              "    <tr>\n",
              "      <th>4</th>\n",
              "      <td>2017</td>\n",
              "      <td>Total</td>\n",
              "      <td>Schwabing - West</td>\n",
              "      <td>23.3</td>\n",
              "      <td>11439</td>\n",
              "      <td>49129</td>\n",
              "    </tr>\n",
              "  </tbody>\n",
              "</table>\n",
              "</div>"
            ],
            "text/plain": [
              "   year  ... total_residents(above 18years)\n",
              "0  2017  ...                        1063806\n",
              "1  2017  ...                          15337\n",
              "2  2017  ...                          40440\n",
              "3  2017  ...                          40749\n",
              "4  2017  ...                          49129\n",
              "\n",
              "[5 rows x 6 columns]"
            ]
          },
          "metadata": {
            "tags": []
          },
          "execution_count": 129
        }
      ]
    },
    {
      "cell_type": "code",
      "metadata": {
        "id": "S94SHd769drK",
        "colab_type": "code",
        "colab": {}
      },
      "source": [
        "df_working_professional=df_working_professional.iloc[1:,:].copy()"
      ],
      "execution_count": null,
      "outputs": []
    },
    {
      "cell_type": "code",
      "metadata": {
        "id": "WZBoZV3l9kle",
        "colab_type": "code",
        "colab": {
          "base_uri": "https://localhost:8080/",
          "height": 238
        },
        "outputId": "1144aabb-d5ef-40d8-f49a-6aa60a4e7a9c"
      },
      "source": [
        "df_working_professional.head()"
      ],
      "execution_count": null,
      "outputs": [
        {
          "output_type": "execute_result",
          "data": {
            "text/html": [
              "<div>\n",
              "<style scoped>\n",
              "    .dataframe tbody tr th:only-of-type {\n",
              "        vertical-align: middle;\n",
              "    }\n",
              "\n",
              "    .dataframe tbody tr th {\n",
              "        vertical-align: top;\n",
              "    }\n",
              "\n",
              "    .dataframe thead th {\n",
              "        text-align: right;\n",
              "    }\n",
              "</style>\n",
              "<table border=\"1\" class=\"dataframe\">\n",
              "  <thead>\n",
              "    <tr style=\"text-align: right;\">\n",
              "      <th></th>\n",
              "      <th>year</th>\n",
              "      <th>citizenship</th>\n",
              "      <th>borough</th>\n",
              "      <th>old-not-working-percentage</th>\n",
              "      <th>no_old_not_working_professionals</th>\n",
              "      <th>total_residents(above 18years)</th>\n",
              "    </tr>\n",
              "  </thead>\n",
              "  <tbody>\n",
              "    <tr>\n",
              "      <th>1</th>\n",
              "      <td>2017</td>\n",
              "      <td>Total</td>\n",
              "      <td>Altstadt - Lehel</td>\n",
              "      <td>22.5</td>\n",
              "      <td>3450</td>\n",
              "      <td>15337</td>\n",
              "    </tr>\n",
              "    <tr>\n",
              "      <th>2</th>\n",
              "      <td>2017</td>\n",
              "      <td>Total</td>\n",
              "      <td>Ludwigsvorstadt - Isarvorstadt</td>\n",
              "      <td>14.3</td>\n",
              "      <td>5790</td>\n",
              "      <td>40440</td>\n",
              "    </tr>\n",
              "    <tr>\n",
              "      <th>3</th>\n",
              "      <td>2017</td>\n",
              "      <td>Total</td>\n",
              "      <td>Maxvorstadt</td>\n",
              "      <td>15.1</td>\n",
              "      <td>6137</td>\n",
              "      <td>40749</td>\n",
              "    </tr>\n",
              "    <tr>\n",
              "      <th>4</th>\n",
              "      <td>2017</td>\n",
              "      <td>Total</td>\n",
              "      <td>Schwabing - West</td>\n",
              "      <td>23.3</td>\n",
              "      <td>11439</td>\n",
              "      <td>49129</td>\n",
              "    </tr>\n",
              "    <tr>\n",
              "      <th>5</th>\n",
              "      <td>2017</td>\n",
              "      <td>Total</td>\n",
              "      <td>Au - Haidhausen</td>\n",
              "      <td>19.0</td>\n",
              "      <td>8514</td>\n",
              "      <td>44828</td>\n",
              "    </tr>\n",
              "  </tbody>\n",
              "</table>\n",
              "</div>"
            ],
            "text/plain": [
              "   year  ... total_residents(above 18years)\n",
              "1  2017  ...                          15337\n",
              "2  2017  ...                          40440\n",
              "3  2017  ...                          40749\n",
              "4  2017  ...                          49129\n",
              "5  2017  ...                          44828\n",
              "\n",
              "[5 rows x 6 columns]"
            ]
          },
          "metadata": {
            "tags": []
          },
          "execution_count": 131
        }
      ]
    },
    {
      "cell_type": "code",
      "metadata": {
        "id": "NxxK0Q-N9seU",
        "colab_type": "code",
        "colab": {}
      },
      "source": [
        "df_working_professional.drop(['year','citizenship'],axis=1,inplace=True)"
      ],
      "execution_count": null,
      "outputs": []
    },
    {
      "cell_type": "code",
      "metadata": {
        "id": "fWf3UPRIGIpX",
        "colab_type": "code",
        "colab": {}
      },
      "source": [
        "df_working_professional.sort_values(by='borough',inplace=True,ignore_index=True)"
      ],
      "execution_count": null,
      "outputs": []
    },
    {
      "cell_type": "code",
      "metadata": {
        "id": "UOrhOQy69nXl",
        "colab_type": "code",
        "colab": {}
      },
      "source": [
        "df_working_professional.to_csv(folder_path+'working_professional.csv',index=False)"
      ],
      "execution_count": null,
      "outputs": []
    },
    {
      "cell_type": "code",
      "metadata": {
        "id": "BvtCeyraK2aK",
        "colab_type": "code",
        "colab": {
          "base_uri": "https://localhost:8080/",
          "height": 904
        },
        "outputId": "bc940e31-eb70-47ee-b362-c5eb3625a26b"
      },
      "source": [
        "for x,y in zip(df_working_professional['borough'],df_borough['borough']):\n",
        "  print(\"Borough names in 1st and 2nd dataframes are {}   {}\".format(x,y))\n",
        "  print(\"Length of borough in 1st and 2nd dataframes are {}   {}\".format(len(x),len(y)))"
      ],
      "execution_count": null,
      "outputs": [
        {
          "output_type": "stream",
          "text": [
            "Borough names in 1st and 2nd dataframes are Allach - Untermenzing   Allach - Untermenzing\n",
            "Length of borough in 1st and 2nd dataframes are 21   21\n",
            "Borough names in 1st and 2nd dataframes are Altstadt - Lehel   Altstadt - Lehel\n",
            "Length of borough in 1st and 2nd dataframes are 16   16\n",
            "Borough names in 1st and 2nd dataframes are Au - Haidhausen   Au - Haidhausen\n",
            "Length of borough in 1st and 2nd dataframes are 15   15\n",
            "Borough names in 1st and 2nd dataframes are Aubing - Lochhausen - Langwied   Aubing - Lochhausen - Langwied\n",
            "Length of borough in 1st and 2nd dataframes are 30   30\n",
            "Borough names in 1st and 2nd dataframes are Berg am Laim   Berg am Laim \n",
            "Length of borough in 1st and 2nd dataframes are 12   13\n",
            "Borough names in 1st and 2nd dataframes are Bogenhausen   Bogenhausen\n",
            "Length of borough in 1st and 2nd dataframes are 11   11\n",
            "Borough names in 1st and 2nd dataframes are Feldmoching - Hasenbergl   Feldmoching - Hasenbergl \n",
            "Length of borough in 1st and 2nd dataframes are 24   25\n",
            "Borough names in 1st and 2nd dataframes are Hadern   Hadern \n",
            "Length of borough in 1st and 2nd dataframes are 6   7\n",
            "Borough names in 1st and 2nd dataframes are Laim   Laim\n",
            "Length of borough in 1st and 2nd dataframes are 4   4\n",
            "Borough names in 1st and 2nd dataframes are Ludwigsvorstadt - Isarvorstadt   Ludwigsvorstadt - Isarvorstadt \n",
            "Length of borough in 1st and 2nd dataframes are 30   31\n",
            "Borough names in 1st and 2nd dataframes are Maxvorstadt   Maxvorstadt\n",
            "Length of borough in 1st and 2nd dataframes are 11   11\n",
            "Borough names in 1st and 2nd dataframes are Milbertshofen - Am Hart   Milbertshofen - Am Hart\n",
            "Length of borough in 1st and 2nd dataframes are 23   23\n",
            "Borough names in 1st and 2nd dataframes are Moosach   Moosach\n",
            "Length of borough in 1st and 2nd dataframes are 7   7\n",
            "Borough names in 1st and 2nd dataframes are Neuhausen - Nymphenburg   Neuhausen - Nymphenburg\n",
            "Length of borough in 1st and 2nd dataframes are 23   23\n",
            "Borough names in 1st and 2nd dataframes are Obergiesing - Fasangarten   Obergiesing - Fasangarten\n",
            "Length of borough in 1st and 2nd dataframes are 25   25\n",
            "Borough names in 1st and 2nd dataframes are Pasing - Obermenzing   Pasing - Obermenzing\n",
            "Length of borough in 1st and 2nd dataframes are 20   20\n",
            "Borough names in 1st and 2nd dataframes are Ramersdorf - Perlach   Ramersdorf - Perlach \n",
            "Length of borough in 1st and 2nd dataframes are 20   21\n",
            "Borough names in 1st and 2nd dataframes are Schwabing - Freimann   Schwabing - Freimann\n",
            "Length of borough in 1st and 2nd dataframes are 20   20\n",
            "Borough names in 1st and 2nd dataframes are Schwabing - West   Schwabing West\n",
            "Length of borough in 1st and 2nd dataframes are 16   14\n",
            "Borough names in 1st and 2nd dataframes are Schwanthalerhöhe   Schwanthalerhöhe\n",
            "Length of borough in 1st and 2nd dataframes are 16   16\n",
            "Borough names in 1st and 2nd dataframes are Sendling   Sendling \n",
            "Length of borough in 1st and 2nd dataframes are 8   9\n",
            "Borough names in 1st and 2nd dataframes are Sendling - Westpark   Sendling - Westpark\n",
            "Length of borough in 1st and 2nd dataframes are 19   19\n",
            "Borough names in 1st and 2nd dataframes are Thalkirchen - Obersendling - Forstenried - Fürstenried - Solln   Thalkirchen - Obersendling - Forstenried -\n",
            "     Fürstenried - Solln\n",
            "Length of borough in 1st and 2nd dataframes are 62   67\n",
            "Borough names in 1st and 2nd dataframes are Trudering - Riem   Trudering - Riem\n",
            "Length of borough in 1st and 2nd dataframes are 16   16\n",
            "Borough names in 1st and 2nd dataframes are Untergiesing - Harlaching   Untergiesing - Harlaching \n",
            "Length of borough in 1st and 2nd dataframes are 25   26\n"
          ],
          "name": "stdout"
        }
      ]
    },
    {
      "cell_type": "markdown",
      "metadata": {
        "id": "mz-lEKYTVhJj",
        "colab_type": "text"
      },
      "source": [
        "# Now both the data frames are sorted and have same names but number of characters are not same in both the dataframes, inorder to rectify it, we can copy the names in borough column in one dataframe to other"
      ]
    },
    {
      "cell_type": "code",
      "metadata": {
        "id": "vUq4xGmlToPs",
        "colab_type": "code",
        "colab": {}
      },
      "source": [
        "df_borough['borough']=df_working_professional['borough']"
      ],
      "execution_count": null,
      "outputs": []
    },
    {
      "cell_type": "code",
      "metadata": {
        "id": "NTiUSjUWE_rD",
        "colab_type": "code",
        "colab": {}
      },
      "source": [
        "final_df=df_borough.join(df_working_professional.set_index('borough'), on='borough')"
      ],
      "execution_count": null,
      "outputs": []
    },
    {
      "cell_type": "code",
      "metadata": {
        "id": "avSSmuUxFVO3",
        "colab_type": "code",
        "colab": {
          "base_uri": "https://localhost:8080/",
          "height": 343
        },
        "outputId": "3ba7c35e-0534-4d5a-80ce-1aef51ee4ca1"
      },
      "source": [
        "final_df.head()"
      ],
      "execution_count": null,
      "outputs": [
        {
          "output_type": "execute_result",
          "data": {
            "text/html": [
              "<div>\n",
              "<style scoped>\n",
              "    .dataframe tbody tr th:only-of-type {\n",
              "        vertical-align: middle;\n",
              "    }\n",
              "\n",
              "    .dataframe tbody tr th {\n",
              "        vertical-align: top;\n",
              "    }\n",
              "\n",
              "    .dataframe thead th {\n",
              "        text-align: right;\n",
              "    }\n",
              "</style>\n",
              "<table border=\"1\" class=\"dataframe\">\n",
              "  <thead>\n",
              "    <tr style=\"text-align: right;\">\n",
              "      <th></th>\n",
              "      <th>borough</th>\n",
              "      <th>residents</th>\n",
              "      <th>surface</th>\n",
              "      <th>population density</th>\n",
              "      <th>share_total_population</th>\n",
              "      <th>latitude</th>\n",
              "      <th>longitude</th>\n",
              "      <th>old-not-working-percentage</th>\n",
              "      <th>no_old_not_working_professionals</th>\n",
              "      <th>total_residents(above 18years)</th>\n",
              "    </tr>\n",
              "  </thead>\n",
              "  <tbody>\n",
              "    <tr>\n",
              "      <th>0</th>\n",
              "      <td>Allach - Untermenzing</td>\n",
              "      <td>30737</td>\n",
              "      <td>1545.17</td>\n",
              "      <td>20.0</td>\n",
              "      <td>2.10</td>\n",
              "      <td>48.195157</td>\n",
              "      <td>11.462973</td>\n",
              "      <td>28.4</td>\n",
              "      <td>6167</td>\n",
              "      <td>21710</td>\n",
              "    </tr>\n",
              "    <tr>\n",
              "      <th>1</th>\n",
              "      <td>Altstadt - Lehel</td>\n",
              "      <td>20422</td>\n",
              "      <td>314.57</td>\n",
              "      <td>65.0</td>\n",
              "      <td>1.39</td>\n",
              "      <td>48.137828</td>\n",
              "      <td>11.574582</td>\n",
              "      <td>22.5</td>\n",
              "      <td>3450</td>\n",
              "      <td>15337</td>\n",
              "    </tr>\n",
              "    <tr>\n",
              "      <th>2</th>\n",
              "      <td>Au - Haidhausen</td>\n",
              "      <td>59752</td>\n",
              "      <td>421.96</td>\n",
              "      <td>142.0</td>\n",
              "      <td>4.08</td>\n",
              "      <td>48.128753</td>\n",
              "      <td>11.590536</td>\n",
              "      <td>19.0</td>\n",
              "      <td>8514</td>\n",
              "      <td>44828</td>\n",
              "    </tr>\n",
              "    <tr>\n",
              "      <th>3</th>\n",
              "      <td>Aubing - Lochhausen - Langwied</td>\n",
              "      <td>42305</td>\n",
              "      <td>3406.02</td>\n",
              "      <td>12.0</td>\n",
              "      <td>2.89</td>\n",
              "      <td>48.165059</td>\n",
              "      <td>11.400221</td>\n",
              "      <td>29.9</td>\n",
              "      <td>9068</td>\n",
              "      <td>30312</td>\n",
              "    </tr>\n",
              "    <tr>\n",
              "      <th>4</th>\n",
              "      <td>Berg am Laim</td>\n",
              "      <td>43068</td>\n",
              "      <td>631.46</td>\n",
              "      <td>68.0</td>\n",
              "      <td>2.94</td>\n",
              "      <td>48.123483</td>\n",
              "      <td>11.633451</td>\n",
              "      <td>25.0</td>\n",
              "      <td>7865</td>\n",
              "      <td>31500</td>\n",
              "    </tr>\n",
              "  </tbody>\n",
              "</table>\n",
              "</div>"
            ],
            "text/plain": [
              "                          borough  ...  total_residents(above 18years)\n",
              "0           Allach - Untermenzing  ...                           21710\n",
              "1                Altstadt - Lehel  ...                           15337\n",
              "2                 Au - Haidhausen  ...                           44828\n",
              "3  Aubing - Lochhausen - Langwied  ...                           30312\n",
              "4                    Berg am Laim  ...                           31500\n",
              "\n",
              "[5 rows x 10 columns]"
            ]
          },
          "metadata": {
            "tags": []
          },
          "execution_count": 137
        }
      ]
    },
    {
      "cell_type": "markdown",
      "metadata": {
        "id": "T9WIN7XGW-mG",
        "colab_type": "text"
      },
      "source": [
        "# Derive Total working professionals from total_residents(Working_professionals+old_not_working_people) -old_not_working_people"
      ]
    },
    {
      "cell_type": "code",
      "metadata": {
        "id": "iD9bretkFW4Z",
        "colab_type": "code",
        "colab": {}
      },
      "source": [
        "final_df['total_work_professionals']=final_df['total_residents(above 18years)']-final_df['no_old_not_working_professionals']"
      ],
      "execution_count": null,
      "outputs": []
    },
    {
      "cell_type": "code",
      "metadata": {
        "id": "hoGvx4mCXQGh",
        "colab_type": "code",
        "colab": {}
      },
      "source": [
        "final_df['total_work_professionals_percent']=(final_df['total_work_professionals']/final_df['residents'])*100"
      ],
      "execution_count": null,
      "outputs": []
    },
    {
      "cell_type": "code",
      "metadata": {
        "id": "GwActLzLXagQ",
        "colab_type": "code",
        "colab": {}
      },
      "source": [
        "final_df['total_work_professionals_percent']=final_df['total_work_professionals_percent'].apply(lambda x:np.round(x,2))"
      ],
      "execution_count": null,
      "outputs": []
    },
    {
      "cell_type": "code",
      "metadata": {
        "id": "8FW4Dg2JXcXN",
        "colab_type": "code",
        "colab": {
          "base_uri": "https://localhost:8080/",
          "height": 343
        },
        "outputId": "3886179b-8153-4caf-af8f-4bf4f4ebc14f"
      },
      "source": [
        "final_df.head()"
      ],
      "execution_count": null,
      "outputs": [
        {
          "output_type": "execute_result",
          "data": {
            "text/html": [
              "<div>\n",
              "<style scoped>\n",
              "    .dataframe tbody tr th:only-of-type {\n",
              "        vertical-align: middle;\n",
              "    }\n",
              "\n",
              "    .dataframe tbody tr th {\n",
              "        vertical-align: top;\n",
              "    }\n",
              "\n",
              "    .dataframe thead th {\n",
              "        text-align: right;\n",
              "    }\n",
              "</style>\n",
              "<table border=\"1\" class=\"dataframe\">\n",
              "  <thead>\n",
              "    <tr style=\"text-align: right;\">\n",
              "      <th></th>\n",
              "      <th>borough</th>\n",
              "      <th>residents</th>\n",
              "      <th>surface</th>\n",
              "      <th>population density</th>\n",
              "      <th>share_total_population</th>\n",
              "      <th>latitude</th>\n",
              "      <th>longitude</th>\n",
              "      <th>old-not-working-percentage</th>\n",
              "      <th>no_old_not_working_professionals</th>\n",
              "      <th>total_residents(above 18years)</th>\n",
              "      <th>total_work_professionals</th>\n",
              "      <th>total_work_professionals_percent</th>\n",
              "    </tr>\n",
              "  </thead>\n",
              "  <tbody>\n",
              "    <tr>\n",
              "      <th>0</th>\n",
              "      <td>Allach - Untermenzing</td>\n",
              "      <td>30737</td>\n",
              "      <td>1545.17</td>\n",
              "      <td>20.0</td>\n",
              "      <td>2.10</td>\n",
              "      <td>48.195157</td>\n",
              "      <td>11.462973</td>\n",
              "      <td>28.4</td>\n",
              "      <td>6167</td>\n",
              "      <td>21710</td>\n",
              "      <td>15543</td>\n",
              "      <td>50.57</td>\n",
              "    </tr>\n",
              "    <tr>\n",
              "      <th>1</th>\n",
              "      <td>Altstadt - Lehel</td>\n",
              "      <td>20422</td>\n",
              "      <td>314.57</td>\n",
              "      <td>65.0</td>\n",
              "      <td>1.39</td>\n",
              "      <td>48.137828</td>\n",
              "      <td>11.574582</td>\n",
              "      <td>22.5</td>\n",
              "      <td>3450</td>\n",
              "      <td>15337</td>\n",
              "      <td>11887</td>\n",
              "      <td>58.21</td>\n",
              "    </tr>\n",
              "    <tr>\n",
              "      <th>2</th>\n",
              "      <td>Au - Haidhausen</td>\n",
              "      <td>59752</td>\n",
              "      <td>421.96</td>\n",
              "      <td>142.0</td>\n",
              "      <td>4.08</td>\n",
              "      <td>48.128753</td>\n",
              "      <td>11.590536</td>\n",
              "      <td>19.0</td>\n",
              "      <td>8514</td>\n",
              "      <td>44828</td>\n",
              "      <td>36314</td>\n",
              "      <td>60.77</td>\n",
              "    </tr>\n",
              "    <tr>\n",
              "      <th>3</th>\n",
              "      <td>Aubing - Lochhausen - Langwied</td>\n",
              "      <td>42305</td>\n",
              "      <td>3406.02</td>\n",
              "      <td>12.0</td>\n",
              "      <td>2.89</td>\n",
              "      <td>48.165059</td>\n",
              "      <td>11.400221</td>\n",
              "      <td>29.9</td>\n",
              "      <td>9068</td>\n",
              "      <td>30312</td>\n",
              "      <td>21244</td>\n",
              "      <td>50.22</td>\n",
              "    </tr>\n",
              "    <tr>\n",
              "      <th>4</th>\n",
              "      <td>Berg am Laim</td>\n",
              "      <td>43068</td>\n",
              "      <td>631.46</td>\n",
              "      <td>68.0</td>\n",
              "      <td>2.94</td>\n",
              "      <td>48.123483</td>\n",
              "      <td>11.633451</td>\n",
              "      <td>25.0</td>\n",
              "      <td>7865</td>\n",
              "      <td>31500</td>\n",
              "      <td>23635</td>\n",
              "      <td>54.88</td>\n",
              "    </tr>\n",
              "  </tbody>\n",
              "</table>\n",
              "</div>"
            ],
            "text/plain": [
              "                          borough  ...  total_work_professionals_percent\n",
              "0           Allach - Untermenzing  ...                             50.57\n",
              "1                Altstadt - Lehel  ...                             58.21\n",
              "2                 Au - Haidhausen  ...                             60.77\n",
              "3  Aubing - Lochhausen - Langwied  ...                             50.22\n",
              "4                    Berg am Laim  ...                             54.88\n",
              "\n",
              "[5 rows x 12 columns]"
            ]
          },
          "metadata": {
            "tags": []
          },
          "execution_count": 141
        }
      ]
    },
    {
      "cell_type": "markdown",
      "metadata": {
        "id": "OfERWDEa44jJ",
        "colab_type": "text"
      },
      "source": [
        "# Next dataframe is the number of automotive devices newly registered in each borough\n",
        "\n",
        "Here we are going to consider only privat registered members"
      ]
    },
    {
      "cell_type": "code",
      "metadata": {
        "id": "qsoQCxDMX5Yg",
        "colab_type": "code",
        "colab": {}
      },
      "source": [
        "final_df.to_csv(folder_path+'final_df.csv',index=False)"
      ],
      "execution_count": null,
      "outputs": []
    },
    {
      "cell_type": "code",
      "metadata": {
        "id": "iGt9MtLWYM1s",
        "colab_type": "code",
        "colab": {}
      },
      "source": [
        "car_data_df=pd.read_csv(folder_path+'car-registration.csv')"
      ],
      "execution_count": null,
      "outputs": []
    },
    {
      "cell_type": "code",
      "metadata": {
        "id": "RND0TaSAYdq8",
        "colab_type": "code",
        "colab": {
          "base_uri": "https://localhost:8080/",
          "height": 496
        },
        "outputId": "5203fab7-cd87-4a51-d282-c133398e550f"
      },
      "source": [
        "car_data_df.head()"
      ],
      "execution_count": null,
      "outputs": [
        {
          "output_type": "execute_result",
          "data": {
            "text/html": [
              "<div>\n",
              "<style scoped>\n",
              "    .dataframe tbody tr th:only-of-type {\n",
              "        vertical-align: middle;\n",
              "    }\n",
              "\n",
              "    .dataframe tbody tr th {\n",
              "        vertical-align: top;\n",
              "    }\n",
              "\n",
              "    .dataframe thead th {\n",
              "        text-align: right;\n",
              "    }\n",
              "</style>\n",
              "<table border=\"1\" class=\"dataframe\">\n",
              "  <thead>\n",
              "    <tr style=\"text-align: right;\">\n",
              "      <th></th>\n",
              "      <th>Indikator</th>\n",
              "      <th>Ausprägung</th>\n",
              "      <th>Jahr</th>\n",
              "      <th>Räumliche Gliederung</th>\n",
              "      <th>Indikatorwert</th>\n",
              "      <th>Basiswert 1</th>\n",
              "      <th>Basiswert 2</th>\n",
              "      <th>Name Basiswert 1</th>\n",
              "      <th>Name Basiswert 2</th>\n",
              "    </tr>\n",
              "  </thead>\n",
              "  <tbody>\n",
              "    <tr>\n",
              "      <th>0</th>\n",
              "      <td>Pkw- Neuzulassungsanteil</td>\n",
              "      <td>gesamt</td>\n",
              "      <td>2017</td>\n",
              "      <td>Stadt München</td>\n",
              "      <td>26.9</td>\n",
              "      <td>191189</td>\n",
              "      <td>711969.3</td>\n",
              "      <td>Neuzulassungen von Personenkraftwagen (Jan-Dez)</td>\n",
              "      <td>zugelassene Personenkraftwagen</td>\n",
              "    </tr>\n",
              "    <tr>\n",
              "      <th>1</th>\n",
              "      <td>Pkw- Neuzulassungsanteil</td>\n",
              "      <td>gesamt</td>\n",
              "      <td>2017</td>\n",
              "      <td>01 Altstadt - Lehel</td>\n",
              "      <td>147.2</td>\n",
              "      <td>94798</td>\n",
              "      <td>64380.0</td>\n",
              "      <td>Neuzulassungen von Personenkraftwagen (Jan-Dez)</td>\n",
              "      <td>zugelassene Personenkraftwagen</td>\n",
              "    </tr>\n",
              "    <tr>\n",
              "      <th>2</th>\n",
              "      <td>Pkw- Neuzulassungsanteil</td>\n",
              "      <td>gesamt</td>\n",
              "      <td>2017</td>\n",
              "      <td>02 Ludwigsvorstadt - Isarvorstadt</td>\n",
              "      <td>8.2</td>\n",
              "      <td>1449</td>\n",
              "      <td>17732.4</td>\n",
              "      <td>Neuzulassungen von Personenkraftwagen (Jan-Dez)</td>\n",
              "      <td>zugelassene Personenkraftwagen</td>\n",
              "    </tr>\n",
              "    <tr>\n",
              "      <th>3</th>\n",
              "      <td>Pkw- Neuzulassungsanteil</td>\n",
              "      <td>gesamt</td>\n",
              "      <td>2017</td>\n",
              "      <td>03 Maxvorstadt</td>\n",
              "      <td>24.5</td>\n",
              "      <td>6400</td>\n",
              "      <td>26119.5</td>\n",
              "      <td>Neuzulassungen von Personenkraftwagen (Jan-Dez)</td>\n",
              "      <td>zugelassene Personenkraftwagen</td>\n",
              "    </tr>\n",
              "    <tr>\n",
              "      <th>4</th>\n",
              "      <td>Pkw- Neuzulassungsanteil</td>\n",
              "      <td>gesamt</td>\n",
              "      <td>2017</td>\n",
              "      <td>04 Schwabing - West</td>\n",
              "      <td>4.6</td>\n",
              "      <td>1011</td>\n",
              "      <td>22181.7</td>\n",
              "      <td>Neuzulassungen von Personenkraftwagen (Jan-Dez)</td>\n",
              "      <td>zugelassene Personenkraftwagen</td>\n",
              "    </tr>\n",
              "  </tbody>\n",
              "</table>\n",
              "</div>"
            ],
            "text/plain": [
              "                  Indikator  ...                Name Basiswert 2\n",
              "0  Pkw- Neuzulassungsanteil  ...  zugelassene Personenkraftwagen\n",
              "1  Pkw- Neuzulassungsanteil  ...  zugelassene Personenkraftwagen\n",
              "2  Pkw- Neuzulassungsanteil  ...  zugelassene Personenkraftwagen\n",
              "3  Pkw- Neuzulassungsanteil  ...  zugelassene Personenkraftwagen\n",
              "4  Pkw- Neuzulassungsanteil  ...  zugelassene Personenkraftwagen\n",
              "\n",
              "[5 rows x 9 columns]"
            ]
          },
          "metadata": {
            "tags": []
          },
          "execution_count": 180
        }
      ]
    },
    {
      "cell_type": "code",
      "metadata": {
        "id": "IazoD54757n_",
        "colab_type": "code",
        "colab": {
          "base_uri": "https://localhost:8080/",
          "height": 85
        },
        "outputId": "b3e69f72-3778-437d-e388-db915c94f4b8"
      },
      "source": [
        "car_data_df.columns"
      ],
      "execution_count": null,
      "outputs": [
        {
          "output_type": "execute_result",
          "data": {
            "text/plain": [
              "Index(['Indikator', 'Ausprägung', 'Jahr', 'Räumliche Gliederung',\n",
              "       'Indikatorwert', 'Basiswert 1', 'Basiswert 2', 'Name Basiswert 1',\n",
              "       'Name Basiswert 2'],\n",
              "      dtype='object')"
            ]
          },
          "metadata": {
            "tags": []
          },
          "execution_count": 181
        }
      ]
    },
    {
      "cell_type": "markdown",
      "metadata": {
        "id": "TDzz2UFT6FLs",
        "colab_type": "text"
      },
      "source": [
        "# Columns to be dropped"
      ]
    },
    {
      "cell_type": "code",
      "metadata": {
        "id": "WqX3o23T5apv",
        "colab_type": "code",
        "colab": {}
      },
      "source": [
        "# 'Indikator', 'Name Basiswert 1','Name Basiswert 2'"
      ],
      "execution_count": null,
      "outputs": []
    },
    {
      "cell_type": "code",
      "metadata": {
        "id": "WW89YL835y3H",
        "colab_type": "code",
        "colab": {}
      },
      "source": [
        "car_data_df.drop(['Indikator', 'Name Basiswert 1','Name Basiswert 2'],axis=1,inplace=True)"
      ],
      "execution_count": null,
      "outputs": []
    },
    {
      "cell_type": "code",
      "metadata": {
        "id": "Aa3EFfVE6UB3",
        "colab_type": "code",
        "colab": {}
      },
      "source": [
        "car_cols=['car_category','year','borough','percentage_car_registered','no_cars_registered','total_cars_registered']"
      ],
      "execution_count": null,
      "outputs": []
    },
    {
      "cell_type": "code",
      "metadata": {
        "id": "biArWvJp6onK",
        "colab_type": "code",
        "colab": {}
      },
      "source": [
        "car_data_df.columns=car_cols\n"
      ],
      "execution_count": null,
      "outputs": []
    },
    {
      "cell_type": "code",
      "metadata": {
        "id": "OM5N9FVHYfcE",
        "colab_type": "code",
        "colab": {
          "base_uri": "https://localhost:8080/",
          "height": 68
        },
        "outputId": "bcd848bd-d6cc-4311-df76-9c51bbdc73d9"
      },
      "source": [
        "car_data_df['car_category'].value_counts()"
      ],
      "execution_count": null,
      "outputs": [
        {
          "output_type": "execute_result",
          "data": {
            "text/plain": [
              "privat    312\n",
              "gesamt    312\n",
              "Name: car_category, dtype: int64"
            ]
          },
          "metadata": {
            "tags": []
          },
          "execution_count": 186
        }
      ]
    },
    {
      "cell_type": "markdown",
      "metadata": {
        "id": "8axV5ds_6zWy",
        "colab_type": "text"
      },
      "source": [
        "# We will take only the private car registered in each borough as we need only the private car registered for segmenting the data into clusters for sending different insurance advertisements to each category"
      ]
    },
    {
      "cell_type": "markdown",
      "metadata": {
        "id": "BtkkRH0G7tlQ",
        "colab_type": "text"
      },
      "source": [
        "# we select the data for only year 2017 and segregate the private registered data in each borough"
      ]
    },
    {
      "cell_type": "code",
      "metadata": {
        "id": "YAjpH0JoakcS",
        "colab_type": "code",
        "colab": {}
      },
      "source": [
        "car_data_df=car_data_df.loc[(car_data_df['car_category']=='privat') & (car_data_df['year']==2017)].copy()"
      ],
      "execution_count": null,
      "outputs": []
    },
    {
      "cell_type": "code",
      "metadata": {
        "id": "0xnpC9SEa2ru",
        "colab_type": "code",
        "colab": {}
      },
      "source": [
        "car_data_df.reset_index(drop=True,inplace=True)"
      ],
      "execution_count": null,
      "outputs": []
    },
    {
      "cell_type": "code",
      "metadata": {
        "id": "BimEs5IpbLHd",
        "colab_type": "code",
        "colab": {
          "base_uri": "https://localhost:8080/",
          "height": 204
        },
        "outputId": "a44e1c61-0510-43a1-8d5d-e5f3c0a8a907"
      },
      "source": [
        "car_data_df.head()"
      ],
      "execution_count": null,
      "outputs": [
        {
          "output_type": "execute_result",
          "data": {
            "text/html": [
              "<div>\n",
              "<style scoped>\n",
              "    .dataframe tbody tr th:only-of-type {\n",
              "        vertical-align: middle;\n",
              "    }\n",
              "\n",
              "    .dataframe tbody tr th {\n",
              "        vertical-align: top;\n",
              "    }\n",
              "\n",
              "    .dataframe thead th {\n",
              "        text-align: right;\n",
              "    }\n",
              "</style>\n",
              "<table border=\"1\" class=\"dataframe\">\n",
              "  <thead>\n",
              "    <tr style=\"text-align: right;\">\n",
              "      <th></th>\n",
              "      <th>car_category</th>\n",
              "      <th>year</th>\n",
              "      <th>borough</th>\n",
              "      <th>percentage_car_registered</th>\n",
              "      <th>no_cars_registered</th>\n",
              "      <th>total_cars_registered</th>\n",
              "    </tr>\n",
              "  </thead>\n",
              "  <tbody>\n",
              "    <tr>\n",
              "      <th>0</th>\n",
              "      <td>privat</td>\n",
              "      <td>2017</td>\n",
              "      <td>Stadt München</td>\n",
              "      <td>4.1</td>\n",
              "      <td>21037</td>\n",
              "      <td>518598.6</td>\n",
              "    </tr>\n",
              "    <tr>\n",
              "      <th>1</th>\n",
              "      <td>privat</td>\n",
              "      <td>2017</td>\n",
              "      <td>01 Altstadt - Lehel</td>\n",
              "      <td>6.1</td>\n",
              "      <td>454</td>\n",
              "      <td>7382.8</td>\n",
              "    </tr>\n",
              "    <tr>\n",
              "      <th>2</th>\n",
              "      <td>privat</td>\n",
              "      <td>2017</td>\n",
              "      <td>02 Ludwigsvorstadt - Isarvorstadt</td>\n",
              "      <td>4.2</td>\n",
              "      <td>556</td>\n",
              "      <td>13288.2</td>\n",
              "    </tr>\n",
              "    <tr>\n",
              "      <th>3</th>\n",
              "      <td>privat</td>\n",
              "      <td>2017</td>\n",
              "      <td>03 Maxvorstadt</td>\n",
              "      <td>4.6</td>\n",
              "      <td>654</td>\n",
              "      <td>14123.6</td>\n",
              "    </tr>\n",
              "    <tr>\n",
              "      <th>4</th>\n",
              "      <td>privat</td>\n",
              "      <td>2017</td>\n",
              "      <td>04 Schwabing - West</td>\n",
              "      <td>3.5</td>\n",
              "      <td>718</td>\n",
              "      <td>20413.3</td>\n",
              "    </tr>\n",
              "  </tbody>\n",
              "</table>\n",
              "</div>"
            ],
            "text/plain": [
              "  car_category  year  ... no_cars_registered  total_cars_registered\n",
              "0       privat  2017  ...              21037               518598.6\n",
              "1       privat  2017  ...                454                 7382.8\n",
              "2       privat  2017  ...                556                13288.2\n",
              "3       privat  2017  ...                654                14123.6\n",
              "4       privat  2017  ...                718                20413.3\n",
              "\n",
              "[5 rows x 6 columns]"
            ]
          },
          "metadata": {
            "tags": []
          },
          "execution_count": 192
        }
      ]
    },
    {
      "cell_type": "markdown",
      "metadata": {
        "id": "64StaN3u9y98",
        "colab_type": "text"
      },
      "source": [
        "# Remove 1st column and do data processing in borough column so that we can merge these data with the final_df dataframe created before"
      ]
    },
    {
      "cell_type": "code",
      "metadata": {
        "id": "07-RAv-h9wgX",
        "colab_type": "code",
        "colab": {}
      },
      "source": [
        "car_data_df=car_data_df.iloc[1:,:].copy().reset_index(drop=True)"
      ],
      "execution_count": null,
      "outputs": []
    },
    {
      "cell_type": "code",
      "metadata": {
        "id": "0FYbUJUS-Okr",
        "colab_type": "code",
        "colab": {
          "base_uri": "https://localhost:8080/",
          "height": 204
        },
        "outputId": "a156c43c-dfe2-4f77-c8ce-f7c5e885d02c"
      },
      "source": [
        "car_data_df.head()"
      ],
      "execution_count": null,
      "outputs": [
        {
          "output_type": "execute_result",
          "data": {
            "text/html": [
              "<div>\n",
              "<style scoped>\n",
              "    .dataframe tbody tr th:only-of-type {\n",
              "        vertical-align: middle;\n",
              "    }\n",
              "\n",
              "    .dataframe tbody tr th {\n",
              "        vertical-align: top;\n",
              "    }\n",
              "\n",
              "    .dataframe thead th {\n",
              "        text-align: right;\n",
              "    }\n",
              "</style>\n",
              "<table border=\"1\" class=\"dataframe\">\n",
              "  <thead>\n",
              "    <tr style=\"text-align: right;\">\n",
              "      <th></th>\n",
              "      <th>car_category</th>\n",
              "      <th>year</th>\n",
              "      <th>borough</th>\n",
              "      <th>percentage_car_registered</th>\n",
              "      <th>no_cars_registered</th>\n",
              "      <th>total_cars_registered</th>\n",
              "    </tr>\n",
              "  </thead>\n",
              "  <tbody>\n",
              "    <tr>\n",
              "      <th>0</th>\n",
              "      <td>privat</td>\n",
              "      <td>2017</td>\n",
              "      <td>01 Altstadt - Lehel</td>\n",
              "      <td>6.1</td>\n",
              "      <td>454</td>\n",
              "      <td>7382.8</td>\n",
              "    </tr>\n",
              "    <tr>\n",
              "      <th>1</th>\n",
              "      <td>privat</td>\n",
              "      <td>2017</td>\n",
              "      <td>02 Ludwigsvorstadt - Isarvorstadt</td>\n",
              "      <td>4.2</td>\n",
              "      <td>556</td>\n",
              "      <td>13288.2</td>\n",
              "    </tr>\n",
              "    <tr>\n",
              "      <th>2</th>\n",
              "      <td>privat</td>\n",
              "      <td>2017</td>\n",
              "      <td>03 Maxvorstadt</td>\n",
              "      <td>4.6</td>\n",
              "      <td>654</td>\n",
              "      <td>14123.6</td>\n",
              "    </tr>\n",
              "    <tr>\n",
              "      <th>3</th>\n",
              "      <td>privat</td>\n",
              "      <td>2017</td>\n",
              "      <td>04 Schwabing - West</td>\n",
              "      <td>3.5</td>\n",
              "      <td>718</td>\n",
              "      <td>20413.3</td>\n",
              "    </tr>\n",
              "    <tr>\n",
              "      <th>4</th>\n",
              "      <td>privat</td>\n",
              "      <td>2017</td>\n",
              "      <td>05 Au - Haidhausen</td>\n",
              "      <td>4.2</td>\n",
              "      <td>710</td>\n",
              "      <td>16793.1</td>\n",
              "    </tr>\n",
              "  </tbody>\n",
              "</table>\n",
              "</div>"
            ],
            "text/plain": [
              "  car_category  year  ... no_cars_registered  total_cars_registered\n",
              "0       privat  2017  ...                454                 7382.8\n",
              "1       privat  2017  ...                556                13288.2\n",
              "2       privat  2017  ...                654                14123.6\n",
              "3       privat  2017  ...                718                20413.3\n",
              "4       privat  2017  ...                710                16793.1\n",
              "\n",
              "[5 rows x 6 columns]"
            ]
          },
          "metadata": {
            "tags": []
          },
          "execution_count": 194
        }
      ]
    },
    {
      "cell_type": "code",
      "metadata": {
        "id": "TRHaSUiw-QwU",
        "colab_type": "code",
        "colab": {}
      },
      "source": [
        "car_data_df['borough']=car_data_df['borough'].apply(lambda x:x[3:])\n",
        "car_data_df['borough']=car_data_df['borough'].apply(lambda x:x.lstrip())"
      ],
      "execution_count": null,
      "outputs": []
    },
    {
      "cell_type": "code",
      "metadata": {
        "id": "C_y_zf1d_Ci_",
        "colab_type": "code",
        "colab": {}
      },
      "source": [
        "car_data_df.sort_values(by='borough',inplace=True,ignore_index=True)"
      ],
      "execution_count": null,
      "outputs": []
    },
    {
      "cell_type": "code",
      "metadata": {
        "id": "vj-2sC36_V67",
        "colab_type": "code",
        "colab": {
          "base_uri": "https://localhost:8080/",
          "height": 841
        },
        "outputId": "639a5b33-204b-47c5-f28d-0933985b6891"
      },
      "source": [
        "car_data_df.head(25)"
      ],
      "execution_count": null,
      "outputs": [
        {
          "output_type": "execute_result",
          "data": {
            "text/html": [
              "<div>\n",
              "<style scoped>\n",
              "    .dataframe tbody tr th:only-of-type {\n",
              "        vertical-align: middle;\n",
              "    }\n",
              "\n",
              "    .dataframe tbody tr th {\n",
              "        vertical-align: top;\n",
              "    }\n",
              "\n",
              "    .dataframe thead th {\n",
              "        text-align: right;\n",
              "    }\n",
              "</style>\n",
              "<table border=\"1\" class=\"dataframe\">\n",
              "  <thead>\n",
              "    <tr style=\"text-align: right;\">\n",
              "      <th></th>\n",
              "      <th>car_category</th>\n",
              "      <th>year</th>\n",
              "      <th>borough</th>\n",
              "      <th>percentage_car_registered</th>\n",
              "      <th>no_cars_registered</th>\n",
              "      <th>total_cars_registered</th>\n",
              "    </tr>\n",
              "  </thead>\n",
              "  <tbody>\n",
              "    <tr>\n",
              "      <th>0</th>\n",
              "      <td>privat</td>\n",
              "      <td>2017</td>\n",
              "      <td>Allach - Untermenzing</td>\n",
              "      <td>3.9</td>\n",
              "      <td>565</td>\n",
              "      <td>14672.4</td>\n",
              "    </tr>\n",
              "    <tr>\n",
              "      <th>1</th>\n",
              "      <td>privat</td>\n",
              "      <td>2017</td>\n",
              "      <td>Altstadt - Lehel</td>\n",
              "      <td>6.1</td>\n",
              "      <td>454</td>\n",
              "      <td>7382.8</td>\n",
              "    </tr>\n",
              "    <tr>\n",
              "      <th>2</th>\n",
              "      <td>privat</td>\n",
              "      <td>2017</td>\n",
              "      <td>Au - Haidhausen</td>\n",
              "      <td>4.2</td>\n",
              "      <td>710</td>\n",
              "      <td>16793.1</td>\n",
              "    </tr>\n",
              "    <tr>\n",
              "      <th>3</th>\n",
              "      <td>privat</td>\n",
              "      <td>2017</td>\n",
              "      <td>Aubing - Lochhausen - Langwied</td>\n",
              "      <td>3.4</td>\n",
              "      <td>604</td>\n",
              "      <td>17819.1</td>\n",
              "    </tr>\n",
              "    <tr>\n",
              "      <th>4</th>\n",
              "      <td>privat</td>\n",
              "      <td>2017</td>\n",
              "      <td>Berg am Laim</td>\n",
              "      <td>3.7</td>\n",
              "      <td>544</td>\n",
              "      <td>14881.8</td>\n",
              "    </tr>\n",
              "    <tr>\n",
              "      <th>5</th>\n",
              "      <td>privat</td>\n",
              "      <td>2017</td>\n",
              "      <td>Bogenhausen</td>\n",
              "      <td>4.4</td>\n",
              "      <td>1539</td>\n",
              "      <td>35320.7</td>\n",
              "    </tr>\n",
              "    <tr>\n",
              "      <th>6</th>\n",
              "      <td>privat</td>\n",
              "      <td>2017</td>\n",
              "      <td>Feldmoching - Hasenbergl</td>\n",
              "      <td>3.5</td>\n",
              "      <td>777</td>\n",
              "      <td>22302.2</td>\n",
              "    </tr>\n",
              "    <tr>\n",
              "      <th>7</th>\n",
              "      <td>privat</td>\n",
              "      <td>2017</td>\n",
              "      <td>Hadern</td>\n",
              "      <td>3.5</td>\n",
              "      <td>647</td>\n",
              "      <td>18413.3</td>\n",
              "    </tr>\n",
              "    <tr>\n",
              "      <th>8</th>\n",
              "      <td>privat</td>\n",
              "      <td>2017</td>\n",
              "      <td>Laim</td>\n",
              "      <td>3.3</td>\n",
              "      <td>592</td>\n",
              "      <td>18123.4</td>\n",
              "    </tr>\n",
              "    <tr>\n",
              "      <th>9</th>\n",
              "      <td>privat</td>\n",
              "      <td>2017</td>\n",
              "      <td>Ludwigsvorstadt - Isarvorstadt</td>\n",
              "      <td>4.2</td>\n",
              "      <td>556</td>\n",
              "      <td>13288.2</td>\n",
              "    </tr>\n",
              "    <tr>\n",
              "      <th>10</th>\n",
              "      <td>privat</td>\n",
              "      <td>2017</td>\n",
              "      <td>Maxvorstadt</td>\n",
              "      <td>4.6</td>\n",
              "      <td>654</td>\n",
              "      <td>14123.6</td>\n",
              "    </tr>\n",
              "    <tr>\n",
              "      <th>11</th>\n",
              "      <td>privat</td>\n",
              "      <td>2017</td>\n",
              "      <td>Milbertshofen - Am Hart</td>\n",
              "      <td>2.6</td>\n",
              "      <td>556</td>\n",
              "      <td>21180.4</td>\n",
              "    </tr>\n",
              "    <tr>\n",
              "      <th>12</th>\n",
              "      <td>privat</td>\n",
              "      <td>2017</td>\n",
              "      <td>Moosach</td>\n",
              "      <td>3.4</td>\n",
              "      <td>644</td>\n",
              "      <td>18828.8</td>\n",
              "    </tr>\n",
              "    <tr>\n",
              "      <th>13</th>\n",
              "      <td>privat</td>\n",
              "      <td>2017</td>\n",
              "      <td>Neuhausen - Nymphenburg</td>\n",
              "      <td>3.8</td>\n",
              "      <td>1203</td>\n",
              "      <td>31707.3</td>\n",
              "    </tr>\n",
              "    <tr>\n",
              "      <th>14</th>\n",
              "      <td>privat</td>\n",
              "      <td>2017</td>\n",
              "      <td>Obergiesing - Fasangarten</td>\n",
              "      <td>3.6</td>\n",
              "      <td>579</td>\n",
              "      <td>15992.3</td>\n",
              "    </tr>\n",
              "    <tr>\n",
              "      <th>15</th>\n",
              "      <td>privat</td>\n",
              "      <td>2017</td>\n",
              "      <td>Pasing - Obermenzing</td>\n",
              "      <td>3.9</td>\n",
              "      <td>1128</td>\n",
              "      <td>29016.7</td>\n",
              "    </tr>\n",
              "    <tr>\n",
              "      <th>16</th>\n",
              "      <td>privat</td>\n",
              "      <td>2017</td>\n",
              "      <td>Ramersdorf - Perlach</td>\n",
              "      <td>3.7</td>\n",
              "      <td>1431</td>\n",
              "      <td>38825.3</td>\n",
              "    </tr>\n",
              "    <tr>\n",
              "      <th>17</th>\n",
              "      <td>privat</td>\n",
              "      <td>2017</td>\n",
              "      <td>Schwabing - Freimann</td>\n",
              "      <td>4.3</td>\n",
              "      <td>1053</td>\n",
              "      <td>24619.8</td>\n",
              "    </tr>\n",
              "    <tr>\n",
              "      <th>18</th>\n",
              "      <td>privat</td>\n",
              "      <td>2017</td>\n",
              "      <td>Schwabing - West</td>\n",
              "      <td>3.5</td>\n",
              "      <td>718</td>\n",
              "      <td>20413.3</td>\n",
              "    </tr>\n",
              "    <tr>\n",
              "      <th>19</th>\n",
              "      <td>privat</td>\n",
              "      <td>2017</td>\n",
              "      <td>Schwanthalerhöhe</td>\n",
              "      <td>3.4</td>\n",
              "      <td>257</td>\n",
              "      <td>7595.4</td>\n",
              "    </tr>\n",
              "    <tr>\n",
              "      <th>20</th>\n",
              "      <td>privat</td>\n",
              "      <td>2017</td>\n",
              "      <td>Sendling</td>\n",
              "      <td>3.4</td>\n",
              "      <td>419</td>\n",
              "      <td>12347.2</td>\n",
              "    </tr>\n",
              "    <tr>\n",
              "      <th>21</th>\n",
              "      <td>privat</td>\n",
              "      <td>2017</td>\n",
              "      <td>Sendling - Westpark</td>\n",
              "      <td>3.5</td>\n",
              "      <td>681</td>\n",
              "      <td>19618.1</td>\n",
              "    </tr>\n",
              "    <tr>\n",
              "      <th>22</th>\n",
              "      <td>privat</td>\n",
              "      <td>2017</td>\n",
              "      <td>Thalkirchen - Obersendling - Forstenried - Für...</td>\n",
              "      <td>4.2</td>\n",
              "      <td>1565</td>\n",
              "      <td>37156.9</td>\n",
              "    </tr>\n",
              "    <tr>\n",
              "      <th>23</th>\n",
              "      <td>privat</td>\n",
              "      <td>2017</td>\n",
              "      <td>Trudering - Riem</td>\n",
              "      <td>4.7</td>\n",
              "      <td>1378</td>\n",
              "      <td>29526.4</td>\n",
              "    </tr>\n",
              "    <tr>\n",
              "      <th>24</th>\n",
              "      <td>privat</td>\n",
              "      <td>2017</td>\n",
              "      <td>Untergiesing - Harlaching</td>\n",
              "      <td>3.8</td>\n",
              "      <td>717</td>\n",
              "      <td>18650.4</td>\n",
              "    </tr>\n",
              "  </tbody>\n",
              "</table>\n",
              "</div>"
            ],
            "text/plain": [
              "   car_category  year  ... no_cars_registered  total_cars_registered\n",
              "0        privat  2017  ...                565                14672.4\n",
              "1        privat  2017  ...                454                 7382.8\n",
              "2        privat  2017  ...                710                16793.1\n",
              "3        privat  2017  ...                604                17819.1\n",
              "4        privat  2017  ...                544                14881.8\n",
              "5        privat  2017  ...               1539                35320.7\n",
              "6        privat  2017  ...                777                22302.2\n",
              "7        privat  2017  ...                647                18413.3\n",
              "8        privat  2017  ...                592                18123.4\n",
              "9        privat  2017  ...                556                13288.2\n",
              "10       privat  2017  ...                654                14123.6\n",
              "11       privat  2017  ...                556                21180.4\n",
              "12       privat  2017  ...                644                18828.8\n",
              "13       privat  2017  ...               1203                31707.3\n",
              "14       privat  2017  ...                579                15992.3\n",
              "15       privat  2017  ...               1128                29016.7\n",
              "16       privat  2017  ...               1431                38825.3\n",
              "17       privat  2017  ...               1053                24619.8\n",
              "18       privat  2017  ...                718                20413.3\n",
              "19       privat  2017  ...                257                 7595.4\n",
              "20       privat  2017  ...                419                12347.2\n",
              "21       privat  2017  ...                681                19618.1\n",
              "22       privat  2017  ...               1565                37156.9\n",
              "23       privat  2017  ...               1378                29526.4\n",
              "24       privat  2017  ...                717                18650.4\n",
              "\n",
              "[25 rows x 6 columns]"
            ]
          },
          "metadata": {
            "tags": []
          },
          "execution_count": 199
        }
      ]
    },
    {
      "cell_type": "code",
      "metadata": {
        "id": "Tk8x6Rvr_FT2",
        "colab_type": "code",
        "colab": {}
      },
      "source": [
        "car_data_df['borough']=df_borough['borough'].copy()"
      ],
      "execution_count": null,
      "outputs": []
    },
    {
      "cell_type": "code",
      "metadata": {
        "id": "okrnNv17_3SQ",
        "colab_type": "code",
        "colab": {}
      },
      "source": [
        "final_df.reset_index(drop=True,inplace=True)"
      ],
      "execution_count": null,
      "outputs": []
    },
    {
      "cell_type": "code",
      "metadata": {
        "id": "5dasWlraAXTL",
        "colab_type": "code",
        "colab": {
          "base_uri": "https://localhost:8080/",
          "height": 119
        },
        "outputId": "2ba20811-6663-4e33-fad1-79a0a29b757c"
      },
      "source": [
        "final_df.columns"
      ],
      "execution_count": null,
      "outputs": [
        {
          "output_type": "execute_result",
          "data": {
            "text/plain": [
              "Index(['borough', 'residents', 'surface', 'population density',\n",
              "       'share_total_population', 'latitude', 'longitude',\n",
              "       'old-not-working-percentage', 'no_old_not_working_professionals',\n",
              "       'total_residents(above 18years)', 'total_work_professionals',\n",
              "       'total_work_professionals_percent'],\n",
              "      dtype='object')"
            ]
          },
          "metadata": {
            "tags": []
          },
          "execution_count": 206
        }
      ]
    },
    {
      "cell_type": "code",
      "metadata": {
        "id": "uQfrPQWB_PTU",
        "colab_type": "code",
        "colab": {}
      },
      "source": [
        "final_df=final_df.join(car_data_df.set_index('borough'), on='borough').copy()"
      ],
      "execution_count": null,
      "outputs": []
    },
    {
      "cell_type": "code",
      "metadata": {
        "id": "-ZupgvHZ_xdN",
        "colab_type": "code",
        "colab": {
          "base_uri": "https://localhost:8080/",
          "height": 343
        },
        "outputId": "187df4ba-311e-4d00-ac9c-f096f15c00bf"
      },
      "source": [
        "final_df.head()"
      ],
      "execution_count": null,
      "outputs": [
        {
          "output_type": "execute_result",
          "data": {
            "text/html": [
              "<div>\n",
              "<style scoped>\n",
              "    .dataframe tbody tr th:only-of-type {\n",
              "        vertical-align: middle;\n",
              "    }\n",
              "\n",
              "    .dataframe tbody tr th {\n",
              "        vertical-align: top;\n",
              "    }\n",
              "\n",
              "    .dataframe thead th {\n",
              "        text-align: right;\n",
              "    }\n",
              "</style>\n",
              "<table border=\"1\" class=\"dataframe\">\n",
              "  <thead>\n",
              "    <tr style=\"text-align: right;\">\n",
              "      <th></th>\n",
              "      <th>borough</th>\n",
              "      <th>residents</th>\n",
              "      <th>surface</th>\n",
              "      <th>population density</th>\n",
              "      <th>share_total_population</th>\n",
              "      <th>latitude</th>\n",
              "      <th>longitude</th>\n",
              "      <th>old-not-working-percentage</th>\n",
              "      <th>no_old_not_working_professionals</th>\n",
              "      <th>total_residents(above 18years)</th>\n",
              "      <th>total_work_professionals</th>\n",
              "      <th>total_work_professionals_percent</th>\n",
              "      <th>car_category</th>\n",
              "      <th>year</th>\n",
              "      <th>percentage_car_registered</th>\n",
              "      <th>no_cars_registered</th>\n",
              "      <th>total_cars_registered</th>\n",
              "    </tr>\n",
              "  </thead>\n",
              "  <tbody>\n",
              "    <tr>\n",
              "      <th>0</th>\n",
              "      <td>Allach - Untermenzing</td>\n",
              "      <td>30737</td>\n",
              "      <td>1545.17</td>\n",
              "      <td>20.0</td>\n",
              "      <td>2.10</td>\n",
              "      <td>48.195157</td>\n",
              "      <td>11.462973</td>\n",
              "      <td>28.4</td>\n",
              "      <td>6167</td>\n",
              "      <td>21710</td>\n",
              "      <td>15543</td>\n",
              "      <td>50.57</td>\n",
              "      <td>privat</td>\n",
              "      <td>2017</td>\n",
              "      <td>3.9</td>\n",
              "      <td>565</td>\n",
              "      <td>14672.4</td>\n",
              "    </tr>\n",
              "    <tr>\n",
              "      <th>1</th>\n",
              "      <td>Altstadt - Lehel</td>\n",
              "      <td>20422</td>\n",
              "      <td>314.57</td>\n",
              "      <td>65.0</td>\n",
              "      <td>1.39</td>\n",
              "      <td>48.137828</td>\n",
              "      <td>11.574582</td>\n",
              "      <td>22.5</td>\n",
              "      <td>3450</td>\n",
              "      <td>15337</td>\n",
              "      <td>11887</td>\n",
              "      <td>58.21</td>\n",
              "      <td>privat</td>\n",
              "      <td>2017</td>\n",
              "      <td>6.1</td>\n",
              "      <td>454</td>\n",
              "      <td>7382.8</td>\n",
              "    </tr>\n",
              "    <tr>\n",
              "      <th>2</th>\n",
              "      <td>Au - Haidhausen</td>\n",
              "      <td>59752</td>\n",
              "      <td>421.96</td>\n",
              "      <td>142.0</td>\n",
              "      <td>4.08</td>\n",
              "      <td>48.128753</td>\n",
              "      <td>11.590536</td>\n",
              "      <td>19.0</td>\n",
              "      <td>8514</td>\n",
              "      <td>44828</td>\n",
              "      <td>36314</td>\n",
              "      <td>60.77</td>\n",
              "      <td>privat</td>\n",
              "      <td>2017</td>\n",
              "      <td>4.2</td>\n",
              "      <td>710</td>\n",
              "      <td>16793.1</td>\n",
              "    </tr>\n",
              "    <tr>\n",
              "      <th>3</th>\n",
              "      <td>Aubing - Lochhausen - Langwied</td>\n",
              "      <td>42305</td>\n",
              "      <td>3406.02</td>\n",
              "      <td>12.0</td>\n",
              "      <td>2.89</td>\n",
              "      <td>48.165059</td>\n",
              "      <td>11.400221</td>\n",
              "      <td>29.9</td>\n",
              "      <td>9068</td>\n",
              "      <td>30312</td>\n",
              "      <td>21244</td>\n",
              "      <td>50.22</td>\n",
              "      <td>privat</td>\n",
              "      <td>2017</td>\n",
              "      <td>3.4</td>\n",
              "      <td>604</td>\n",
              "      <td>17819.1</td>\n",
              "    </tr>\n",
              "    <tr>\n",
              "      <th>4</th>\n",
              "      <td>Berg am Laim</td>\n",
              "      <td>43068</td>\n",
              "      <td>631.46</td>\n",
              "      <td>68.0</td>\n",
              "      <td>2.94</td>\n",
              "      <td>48.123483</td>\n",
              "      <td>11.633451</td>\n",
              "      <td>25.0</td>\n",
              "      <td>7865</td>\n",
              "      <td>31500</td>\n",
              "      <td>23635</td>\n",
              "      <td>54.88</td>\n",
              "      <td>privat</td>\n",
              "      <td>2017</td>\n",
              "      <td>3.7</td>\n",
              "      <td>544</td>\n",
              "      <td>14881.8</td>\n",
              "    </tr>\n",
              "  </tbody>\n",
              "</table>\n",
              "</div>"
            ],
            "text/plain": [
              "                          borough  ...  total_cars_registered\n",
              "0           Allach - Untermenzing  ...                14672.4\n",
              "1                Altstadt - Lehel  ...                 7382.8\n",
              "2                 Au - Haidhausen  ...                16793.1\n",
              "3  Aubing - Lochhausen - Langwied  ...                17819.1\n",
              "4                    Berg am Laim  ...                14881.8\n",
              "\n",
              "[5 rows x 17 columns]"
            ]
          },
          "metadata": {
            "tags": []
          },
          "execution_count": 210
        }
      ]
    },
    {
      "cell_type": "code",
      "metadata": {
        "id": "HNKRnejwAgkA",
        "colab_type": "code",
        "colab": {}
      },
      "source": [
        "final_df.to_csv(folder_path+'final_df.csv',index=False)"
      ],
      "execution_count": null,
      "outputs": []
    },
    {
      "cell_type": "code",
      "metadata": {
        "id": "IddhXlLOHlt2",
        "colab_type": "code",
        "colab": {
          "base_uri": "https://localhost:8080/",
          "height": 34
        },
        "outputId": "8d72f23a-7307-4f14-e2df-3745c6d9d6fd"
      },
      "source": [
        "Munich_places.shape"
      ],
      "execution_count": null,
      "outputs": [
        {
          "output_type": "execute_result",
          "data": {
            "text/plain": [
              "(23, 2)"
            ]
          },
          "metadata": {
            "tags": []
          },
          "execution_count": 268
        }
      ]
    },
    {
      "cell_type": "code",
      "metadata": {
        "id": "LSc0zomRHczA",
        "colab_type": "code",
        "colab": {
          "base_uri": "https://localhost:8080/",
          "height": 187
        },
        "outputId": "08d6eb01-79f4-4360-fe0e-a212412586e7"
      },
      "source": [
        "final_df['borough'].values"
      ],
      "execution_count": null,
      "outputs": [
        {
          "output_type": "execute_result",
          "data": {
            "text/plain": [
              "array(['Allach - Untermenzing', 'Altstadt - Lehel', 'Au - Haidhausen',\n",
              "       'Aubing - Lochhausen - Langwied', 'Berg am Laim', 'Bogenhausen',\n",
              "       'Feldmoching - Hasenbergl', 'Hadern', 'Laim',\n",
              "       'Ludwigsvorstadt - Isarvorstadt', 'Maxvorstadt',\n",
              "       'Milbertshofen - Am Hart', 'Moosach', 'Neuhausen - Nymphenburg',\n",
              "       'Obergiesing - Fasangarten', 'Pasing - Obermenzing',\n",
              "       'Ramersdorf - Perlach', 'Schwabing - Freimann', 'Schwabing - West',\n",
              "       'Schwanthalerhöhe', 'Sendling', 'Sendling - Westpark',\n",
              "       'Thalkirchen - Obersendling - Forstenried - Fürstenried - Solln',\n",
              "       'Trudering - Riem', 'Untergiesing - Harlaching'], dtype=object)"
            ]
          },
          "metadata": {
            "tags": []
          },
          "execution_count": 271
        }
      ]
    },
    {
      "cell_type": "markdown",
      "metadata": {
        "id": "xmkRHyJXR3CB",
        "colab_type": "text"
      },
      "source": [
        "# Feldmoching - Hasenbergl, Moosach does not have any venue_category we have chosen, thus adding 0 corresponding to it"
      ]
    },
    {
      "cell_type": "code",
      "metadata": {
        "id": "xdeQO6fxRek3",
        "colab_type": "code",
        "colab": {}
      },
      "source": [
        "temp_df=pd.DataFrame([['Feldmoching - Hasenberg',0.0],['Moosach',0.0]],columns=['borough','Number of places'])"
      ],
      "execution_count": null,
      "outputs": []
    },
    {
      "cell_type": "code",
      "metadata": {
        "id": "QQ4N-Fe0OqCw",
        "colab_type": "code",
        "colab": {}
      },
      "source": [
        "Munich_places=Munich_places.append(temp_df,ignore_index=True)"
      ],
      "execution_count": null,
      "outputs": []
    },
    {
      "cell_type": "code",
      "metadata": {
        "id": "hgvCv8-CSL4g",
        "colab_type": "code",
        "colab": {}
      },
      "source": [
        "Munich_places.sort_values(by='borough',inplace=True,ignore_index=True)"
      ],
      "execution_count": null,
      "outputs": []
    },
    {
      "cell_type": "code",
      "metadata": {
        "id": "fq-IlR8JSM5y",
        "colab_type": "code",
        "colab": {}
      },
      "source": [
        "final_df['number_places']=Munich_places['Number of places']"
      ],
      "execution_count": null,
      "outputs": []
    },
    {
      "cell_type": "code",
      "metadata": {
        "id": "JoyDE-mbSyii",
        "colab_type": "code",
        "colab": {}
      },
      "source": [
        "final_df.to_csv(folder_path+'final_df.csv',index=False)"
      ],
      "execution_count": null,
      "outputs": []
    },
    {
      "cell_type": "markdown",
      "metadata": {
        "id": "Gtede_gnTtsz",
        "colab_type": "text"
      },
      "source": [
        "# Data visualization\n",
        "\n",
        "It will be quite useful to visualize the center locations of each borough. For that, we need to create a map of Munich with boroughs superimposed on top."
      ]
    },
    {
      "cell_type": "code",
      "metadata": {
        "id": "0qB3TkVBS0s-",
        "colab_type": "code",
        "colab": {
          "base_uri": "https://localhost:8080/",
          "height": 583
        },
        "outputId": "4df08a6b-e8fc-4f7a-9662-40a43374f6f1"
      },
      "source": [
        "# create map of New York using latitude and longitude values\n",
        "latitude_munich,longitude_munich=48.137154, 11.576124\n",
        "map_munich = folium.Map(location=[latitude_munich, longitude_munich], zoom_start=10)\n",
        "\n",
        "# add markers to map\n",
        "for lat, lng, borough in zip(df_borough['latitude'], df_borough['longitude'], df_borough['borough']):\n",
        "    label = '{}'.format(borough)\n",
        "    label = folium.Popup(label, parse_html=True)\n",
        "    folium.CircleMarker(\n",
        "        [lat, lng],\n",
        "        radius=5,\n",
        "        popup=label,\n",
        "        color='blue',\n",
        "        fill=True,\n",
        "        fill_color='#3186cc',\n",
        "        fill_opacity=0.7,\n",
        "        parse_html=False).add_to(map_munich)  \n",
        "    \n",
        "map_munich"
      ],
      "execution_count": null,
      "outputs": [
        {
          "output_type": "execute_result",
          "data": {
            "text/html": [
              "<div style=\"width:100%;\"><div style=\"position:relative;width:100%;height:0;padding-bottom:60%;\"><span style=\"color:#565656\">Make this Notebook Trusted to load map: File -> Trust Notebook</span><iframe src=\"about:blank\" style=\"position:absolute;width:100%;height:100%;left:0;top:0;border:none !important;\" data-html=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 onload=\"this.contentDocument.open();this.contentDocument.write(atob(this.getAttribute('data-html')));this.contentDocument.close();\" allowfullscreen webkitallowfullscreen mozallowfullscreen></iframe></div></div>"
            ],
            "text/plain": [
              "<folium.folium.Map at 0x7faa0b82e3c8>"
            ]
          },
          "metadata": {
            "tags": []
          },
          "execution_count": 290
        }
      ]
    },
    {
      "cell_type": "markdown",
      "metadata": {
        "id": "jrXv5YzCU2EY",
        "colab_type": "text"
      },
      "source": [
        "# Visualization of final_df various features through bar chart"
      ]
    },
    {
      "cell_type": "code",
      "metadata": {
        "id": "e21eem41VACW",
        "colab_type": "code",
        "colab": {
          "base_uri": "https://localhost:8080/",
          "height": 153
        },
        "outputId": "8a90abfa-996a-4adf-a9fc-44456d759dbe"
      },
      "source": [
        "final_df.columns"
      ],
      "execution_count": null,
      "outputs": [
        {
          "output_type": "execute_result",
          "data": {
            "text/plain": [
              "Index(['borough', 'residents', 'surface', 'population density',\n",
              "       'share_total_population', 'latitude', 'longitude',\n",
              "       'old-not-working-percentage', 'no_old_not_working_professionals',\n",
              "       'total_residents(above 18years)', 'total_work_professionals',\n",
              "       'total_work_professionals_percent', 'car_category', 'year',\n",
              "       'percentage_car_registered', 'no_cars_registered',\n",
              "       'total_cars_registered', 'number_places'],\n",
              "      dtype='object')"
            ]
          },
          "metadata": {
            "tags": []
          },
          "execution_count": 291
        }
      ]
    },
    {
      "cell_type": "markdown",
      "metadata": {
        "id": "Si7xHBdNYgTz",
        "colab_type": "text"
      },
      "source": [
        ""
      ]
    },
    {
      "cell_type": "code",
      "metadata": {
        "id": "ztXrjgB3WeKs",
        "colab_type": "code",
        "colab": {}
      },
      "source": [
        "final_df_new=final_df.sort_values(by='total_work_professionals_percent',ignore_index=True).copy()"
      ],
      "execution_count": null,
      "outputs": []
    },
    {
      "cell_type": "code",
      "metadata": {
        "id": "n_Yr-hBPWtnJ",
        "colab_type": "code",
        "colab": {
          "base_uri": "https://localhost:8080/",
          "height": 343
        },
        "outputId": "8ed6e122-72da-4e38-94c5-c04cfe17a72d"
      },
      "source": [
        "final_df_new.head()"
      ],
      "execution_count": null,
      "outputs": [
        {
          "output_type": "execute_result",
          "data": {
            "text/html": [
              "<div>\n",
              "<style scoped>\n",
              "    .dataframe tbody tr th:only-of-type {\n",
              "        vertical-align: middle;\n",
              "    }\n",
              "\n",
              "    .dataframe tbody tr th {\n",
              "        vertical-align: top;\n",
              "    }\n",
              "\n",
              "    .dataframe thead th {\n",
              "        text-align: right;\n",
              "    }\n",
              "</style>\n",
              "<table border=\"1\" class=\"dataframe\">\n",
              "  <thead>\n",
              "    <tr style=\"text-align: right;\">\n",
              "      <th></th>\n",
              "      <th>borough</th>\n",
              "      <th>residents</th>\n",
              "      <th>surface</th>\n",
              "      <th>population density</th>\n",
              "      <th>share_total_population</th>\n",
              "      <th>latitude</th>\n",
              "      <th>longitude</th>\n",
              "      <th>old-not-working-percentage</th>\n",
              "      <th>no_old_not_working_professionals</th>\n",
              "      <th>total_residents(above 18years)</th>\n",
              "      <th>total_work_professionals</th>\n",
              "      <th>total_work_professionals_percent</th>\n",
              "      <th>car_category</th>\n",
              "      <th>year</th>\n",
              "      <th>percentage_car_registered</th>\n",
              "      <th>no_cars_registered</th>\n",
              "      <th>total_cars_registered</th>\n",
              "      <th>number_places</th>\n",
              "    </tr>\n",
              "  </thead>\n",
              "  <tbody>\n",
              "    <tr>\n",
              "      <th>0</th>\n",
              "      <td>Hadern</td>\n",
              "      <td>48945</td>\n",
              "      <td>922.37</td>\n",
              "      <td>53.0</td>\n",
              "      <td>3.34</td>\n",
              "      <td>48.118064</td>\n",
              "      <td>11.481842</td>\n",
              "      <td>33.3</td>\n",
              "      <td>10865</td>\n",
              "      <td>32602</td>\n",
              "      <td>21737</td>\n",
              "      <td>44.41</td>\n",
              "      <td>privat</td>\n",
              "      <td>2017</td>\n",
              "      <td>3.5</td>\n",
              "      <td>647</td>\n",
              "      <td>18413.3</td>\n",
              "      <td>1.0</td>\n",
              "    </tr>\n",
              "    <tr>\n",
              "      <th>1</th>\n",
              "      <td>Thalkirchen - Obersendling - Forstenried - Für...</td>\n",
              "      <td>90790</td>\n",
              "      <td>1776.31</td>\n",
              "      <td>51.0</td>\n",
              "      <td>6.20</td>\n",
              "      <td>48.084213</td>\n",
              "      <td>11.508051</td>\n",
              "      <td>32.1</td>\n",
              "      <td>20199</td>\n",
              "      <td>62927</td>\n",
              "      <td>42728</td>\n",
              "      <td>47.06</td>\n",
              "      <td>privat</td>\n",
              "      <td>2017</td>\n",
              "      <td>4.2</td>\n",
              "      <td>1565</td>\n",
              "      <td>37156.9</td>\n",
              "      <td>3.0</td>\n",
              "    </tr>\n",
              "    <tr>\n",
              "      <th>2</th>\n",
              "      <td>Bogenhausen</td>\n",
              "      <td>82138</td>\n",
              "      <td>2370.97</td>\n",
              "      <td>35.0</td>\n",
              "      <td>5.61</td>\n",
              "      <td>48.154782</td>\n",
              "      <td>11.633484</td>\n",
              "      <td>31.3</td>\n",
              "      <td>17773</td>\n",
              "      <td>56793</td>\n",
              "      <td>39020</td>\n",
              "      <td>47.51</td>\n",
              "      <td>privat</td>\n",
              "      <td>2017</td>\n",
              "      <td>4.4</td>\n",
              "      <td>1539</td>\n",
              "      <td>35320.7</td>\n",
              "      <td>2.0</td>\n",
              "    </tr>\n",
              "    <tr>\n",
              "      <th>3</th>\n",
              "      <td>Ramersdorf - Perlach</td>\n",
              "      <td>108244</td>\n",
              "      <td>1989.50</td>\n",
              "      <td>54.0</td>\n",
              "      <td>7.39</td>\n",
              "      <td>48.100894</td>\n",
              "      <td>11.633371</td>\n",
              "      <td>30.2</td>\n",
              "      <td>22811</td>\n",
              "      <td>75525</td>\n",
              "      <td>52714</td>\n",
              "      <td>48.70</td>\n",
              "      <td>privat</td>\n",
              "      <td>2017</td>\n",
              "      <td>3.7</td>\n",
              "      <td>1431</td>\n",
              "      <td>38825.3</td>\n",
              "      <td>5.0</td>\n",
              "    </tr>\n",
              "    <tr>\n",
              "      <th>4</th>\n",
              "      <td>Feldmoching - Hasenbergl</td>\n",
              "      <td>59391</td>\n",
              "      <td>2893.78</td>\n",
              "      <td>21.0</td>\n",
              "      <td>4.05</td>\n",
              "      <td>48.218462</td>\n",
              "      <td>11.520409</td>\n",
              "      <td>27.8</td>\n",
              "      <td>11263</td>\n",
              "      <td>40481</td>\n",
              "      <td>29218</td>\n",
              "      <td>49.20</td>\n",
              "      <td>privat</td>\n",
              "      <td>2017</td>\n",
              "      <td>3.5</td>\n",
              "      <td>777</td>\n",
              "      <td>22302.2</td>\n",
              "      <td>0.0</td>\n",
              "    </tr>\n",
              "  </tbody>\n",
              "</table>\n",
              "</div>"
            ],
            "text/plain": [
              "                                             borough  ...  number_places\n",
              "0                                             Hadern  ...            1.0\n",
              "1  Thalkirchen - Obersendling - Forstenried - Für...  ...            3.0\n",
              "2                                        Bogenhausen  ...            2.0\n",
              "3                               Ramersdorf - Perlach  ...            5.0\n",
              "4                           Feldmoching - Hasenbergl  ...            0.0\n",
              "\n",
              "[5 rows x 18 columns]"
            ]
          },
          "metadata": {
            "tags": []
          },
          "execution_count": 301
        }
      ]
    },
    {
      "cell_type": "code",
      "metadata": {
        "id": "cy-Ayp8SVCaO",
        "colab_type": "code",
        "colab": {
          "base_uri": "https://localhost:8080/",
          "height": 459
        },
        "outputId": "17eddd44-6859-4e6f-9e46-682d35a73926"
      },
      "source": [
        "final_df_new[['borough', 'total_work_professionals_percent']].plot(kind='barh', figsize=(15, 9), legend = None)\n",
        "\n",
        "plt.xlabel('Total working professionals in percentage') # add to x-label to the plot\n",
        "plt.ylabel('Borough') # add y-label to the plot\n",
        "plt.title('Working Professionals percentage in each borough comparison (2017)') # add title to the plot\n",
        "plt.yticks (np.arange(len(final_df_new)), final_df_new['borough'])\n",
        "plt.show()"
      ],
      "execution_count": null,
      "outputs": [
        {
          "output_type": "display_data",
          "data": {
            "image/png": "[encoded data removed]",
            "text/plain": [
              "<Figure size 1080x648 with 1 Axes>"
            ]
          },
          "metadata": {
            "tags": [],
            "needs_background": "light"
          }
        }
      ]
    },
    {
      "cell_type": "markdown",
      "metadata": {
        "id": "tEgh_sXOXF75",
        "colab_type": "text"
      },
      "source": [
        "# From the above graph we can conclude areas like Hadern, Thalkirchen, Bogenhausen has less working professionals while Isarvorstadt, Maxvorstadt having large number of working professionals. This may be because Hadern, Thalkirchen is residential area and may have more old aged people. For advertising we can concentrate on other areas more as people who have more old-aged people tend to use public transport rather than private vehicle and might not need vehicle insurance"
      ]
    },
    {
      "cell_type": "markdown",
      "metadata": {
        "id": "L7MJ-6ZUZX7m",
        "colab_type": "text"
      },
      "source": [
        "# To confirm the above statement let's sort by number of car registered in combination with working professional perecentage for each borough"
      ]
    },
    {
      "cell_type": "code",
      "metadata": {
        "id": "mvCsnhfnY3CC",
        "colab_type": "code",
        "colab": {
          "base_uri": "https://localhost:8080/",
          "height": 459
        },
        "outputId": "d0e78601-82d6-463e-c271-c4e151b88940"
      },
      "source": [
        "final_df_new=final_df.sort_values(by=['total_work_professionals_percent','percentage_car_registered'],ignore_index=True).copy()\n",
        "final_df_new[['borough', 'percentage_car_registered']].plot(kind='barh', figsize=(15, 9), legend = None,color='green')\n",
        "\n",
        "plt.xlabel('Total percentage car registered') # add to x-label to the plot\n",
        "plt.ylabel('Borough') # add y-label to the plot\n",
        "plt.title('car registered percentage + working_professional_percentage in each borough comparison (2017)') # add title to the plot\n",
        "plt.yticks (np.arange(len(final_df_new)), final_df_new['borough'])\n",
        "plt.show()"
      ],
      "execution_count": null,
      "outputs": [
        {
          "output_type": "display_data",
          "data": {
            "image/png": "[encoded data removed]",
            "text/plain": [
              "<Figure size 1080x648 with 1 Axes>"
            ]
          },
          "metadata": {
            "tags": [],
            "needs_background": "light"
          }
        }
      ]
    },
    {
      "cell_type": "markdown",
      "metadata": {
        "id": "PUF1i7RreBta",
        "colab_type": "text"
      },
      "source": [
        "# The graph confirms the above hypothesis we have made.\n",
        "Next we can compare with the venue_category with borough and see if we can get some information"
      ]
    },
    {
      "cell_type": "code",
      "metadata": {
        "id": "Lo3GiGTNZObp",
        "colab_type": "code",
        "colab": {
          "base_uri": "https://localhost:8080/",
          "height": 448
        },
        "outputId": "7e9e4b1a-321d-45bc-bddc-ea8b1feedcfc"
      },
      "source": [
        "final_df_new=final_df.sort_values(by=['number_places'],ignore_index=True).copy()\n",
        "final_df_new[['borough', 'number_places']].plot(kind='barh', figsize=(15, 9), legend = None,color='orange')\n",
        "#plt.xlabel('Borough') # add to x-label to the plot\n",
        "plt.ylabel('Borough') # add y-label to the plot\n",
        "plt.title('number_places in each borough comparison') # add title to the plot\n",
        "plt.yticks (np.arange(len(final_df_new)), final_df_new['borough'])\n",
        "plt.show()"
      ],
      "execution_count": null,
      "outputs": [
        {
          "output_type": "display_data",
          "data": {
            "image/png": "[encoded data removed]",
            "text/plain": [
              "<Figure size 1080x648 with 1 Axes>"
            ]
          },
          "metadata": {
            "tags": [],
            "needs_background": "light"
          }
        }
      ]
    },
    {
      "cell_type": "markdown",
      "metadata": {
        "id": "mJ_CChxFgnAW",
        "colab_type": "text"
      },
      "source": [
        "# From the above graph, we can see that Mosach and Feldmoching does-not have any venue_category's that we have specified, may be because it is centre for other categories like shopping-mall, trade centre etc, so in this areas we have to use other venue-categories like restaurant, shopping mall if we have to promote the vehicle insurance company"
      ]
    },
    {
      "cell_type": "markdown",
      "metadata": {
        "id": "5dxlBjx-haHX",
        "colab_type": "text"
      },
      "source": [
        "# Cluster-Analysis\n",
        "In order to identify groups (clusters) with similar characteristics, let's us apply the unsupervised learning method to our data, namely K-Means algorithm. "
      ]
    },
    {
      "cell_type": "code",
      "metadata": {
        "id": "WUzznp1jfwvL",
        "colab_type": "code",
        "colab": {
          "base_uri": "https://localhost:8080/",
          "height": 153
        },
        "outputId": "01ef77a2-b863-4595-9aa7-807f1ba9a797"
      },
      "source": [
        "final_df.columns"
      ],
      "execution_count": null,
      "outputs": [
        {
          "output_type": "execute_result",
          "data": {
            "text/plain": [
              "Index(['borough', 'residents', 'surface', 'population density',\n",
              "       'share_total_population', 'latitude', 'longitude',\n",
              "       'old-not-working-percentage', 'no_old_not_working_professionals',\n",
              "       'total_residents(above 18years)', 'total_work_professionals',\n",
              "       'total_work_professionals_percent', 'car_category', 'year',\n",
              "       'percentage_car_registered', 'no_cars_registered',\n",
              "       'total_cars_registered', 'number_places'],\n",
              "      dtype='object')"
            ]
          },
          "metadata": {
            "tags": []
          },
          "execution_count": 310
        }
      ]
    },
    {
      "cell_type": "markdown",
      "metadata": {
        "id": "81xhIs06hwfJ",
        "colab_type": "text"
      },
      "source": [
        "# We just use no_cars_registered, total_work_professionals,number_places to create clusters"
      ]
    },
    {
      "cell_type": "code",
      "metadata": {
        "id": "ciSuAi9ShrKJ",
        "colab_type": "code",
        "colab": {}
      },
      "source": [
        "clusters_df=final_df[['no_cars_registered','total_work_professionals','number_places']].copy()"
      ],
      "execution_count": null,
      "outputs": []
    },
    {
      "cell_type": "code",
      "metadata": {
        "id": "PdFs93kBiy0J",
        "colab_type": "code",
        "colab": {
          "base_uri": "https://localhost:8080/",
          "height": 204
        },
        "outputId": "406f0d3f-4854-44de-aa81-185d6bca5a98"
      },
      "source": [
        "clusters_df.head()"
      ],
      "execution_count": null,
      "outputs": [
        {
          "output_type": "execute_result",
          "data": {
            "text/html": [
              "<div>\n",
              "<style scoped>\n",
              "    .dataframe tbody tr th:only-of-type {\n",
              "        vertical-align: middle;\n",
              "    }\n",
              "\n",
              "    .dataframe tbody tr th {\n",
              "        vertical-align: top;\n",
              "    }\n",
              "\n",
              "    .dataframe thead th {\n",
              "        text-align: right;\n",
              "    }\n",
              "</style>\n",
              "<table border=\"1\" class=\"dataframe\">\n",
              "  <thead>\n",
              "    <tr style=\"text-align: right;\">\n",
              "      <th></th>\n",
              "      <th>no_cars_registered</th>\n",
              "      <th>total_work_professionals</th>\n",
              "      <th>number_places</th>\n",
              "    </tr>\n",
              "  </thead>\n",
              "  <tbody>\n",
              "    <tr>\n",
              "      <th>0</th>\n",
              "      <td>565</td>\n",
              "      <td>15543</td>\n",
              "      <td>3.0</td>\n",
              "    </tr>\n",
              "    <tr>\n",
              "      <th>1</th>\n",
              "      <td>454</td>\n",
              "      <td>11887</td>\n",
              "      <td>5.0</td>\n",
              "    </tr>\n",
              "    <tr>\n",
              "      <th>2</th>\n",
              "      <td>710</td>\n",
              "      <td>36314</td>\n",
              "      <td>2.0</td>\n",
              "    </tr>\n",
              "    <tr>\n",
              "      <th>3</th>\n",
              "      <td>604</td>\n",
              "      <td>21244</td>\n",
              "      <td>1.0</td>\n",
              "    </tr>\n",
              "    <tr>\n",
              "      <th>4</th>\n",
              "      <td>544</td>\n",
              "      <td>23635</td>\n",
              "      <td>3.0</td>\n",
              "    </tr>\n",
              "  </tbody>\n",
              "</table>\n",
              "</div>"
            ],
            "text/plain": [
              "   no_cars_registered  total_work_professionals  number_places\n",
              "0                 565                     15543            3.0\n",
              "1                 454                     11887            5.0\n",
              "2                 710                     36314            2.0\n",
              "3                 604                     21244            1.0\n",
              "4                 544                     23635            3.0"
            ]
          },
          "metadata": {
            "tags": []
          },
          "execution_count": 313
        }
      ]
    },
    {
      "cell_type": "code",
      "metadata": {
        "id": "Ibv7-O4XjHVr",
        "colab_type": "code",
        "colab": {
          "base_uri": "https://localhost:8080/",
          "height": 442
        },
        "outputId": "78f1f020-496d-4996-dd67-de7bf07654bf"
      },
      "source": [
        "clusters_df = StandardScaler().fit_transform(clusters_df)\n",
        "clusters_df"
      ],
      "execution_count": null,
      "outputs": [
        {
          "output_type": "execute_result",
          "data": {
            "text/plain": [
              "array([[-0.65024798, -1.58516676, -0.06075969],\n",
              "       [-0.95891   , -1.93845852,  0.69873642],\n",
              "       [-0.24704084,  0.42200584, -0.44050774],\n",
              "       [-0.54179916, -1.03425968, -0.82025579],\n",
              "       [-0.7086435 , -0.80320919, -0.06075969],\n",
              "       [ 2.05819169,  0.68349586, -0.44050774],\n",
              "       [-0.06073134, -0.26370485, -1.20000385],\n",
              "       [-0.42222739, -0.98661941, -0.82025579],\n",
              "       [-0.57516803, -0.30216495, -0.44050774],\n",
              "       [-0.67527463,  0.26120784, -0.82025579],\n",
              "       [-0.40276222,  0.25753577, -0.06075969],\n",
              "       [-0.67527463,  0.97813113,  1.45823252],\n",
              "       [-0.43056961, -0.47021045, -1.20000385],\n",
              "       [ 1.12386343,  2.08526013, -0.82025579],\n",
              "       [-0.61131764, -0.08657581,  1.07848447],\n",
              "       [ 0.91530801,  0.28005136,  0.31898836],\n",
              "       [ 1.75787189,  2.0067938 ,  0.69873642],\n",
              "       [ 0.70675259,  1.13670656, -0.44050774],\n",
              "       [-0.22479493,  0.55497342, -0.82025579],\n",
              "       [-1.50671556, -1.28569982,  3.35697278],\n",
              "       [-1.05623586, -0.72319673,  1.07848447],\n",
              "       [-0.32768227, -0.17151658, -0.82025579],\n",
              "       [ 2.1304909 ,  1.04181255, -0.06075969],\n",
              "       [ 1.61049273,  0.50472404, -0.06075969],\n",
              "       [-0.22757567, -0.56191556,  0.69873642]])"
            ]
          },
          "metadata": {
            "tags": []
          },
          "execution_count": 315
        }
      ]
    },
    {
      "cell_type": "code",
      "metadata": {
        "id": "RXhWPq0BjVY-",
        "colab_type": "code",
        "colab": {
          "base_uri": "https://localhost:8080/",
          "height": 295
        },
        "outputId": "f2e72a9e-57a5-476c-de67-cac9b73c605f"
      },
      "source": [
        "loss_value = []\n",
        "K = range(1,10)\n",
        "for k in K:\n",
        "    kmeanModel = KMeans(n_clusters=k).fit(clusters_df)\n",
        "    kmeanModel.fit(clusters_df)\n",
        "    loss_value.append(sum(np.min(cdist(clusters_df, kmeanModel.cluster_centers_, 'euclidean'), axis=1)) / clusters_df.shape[0])\n",
        "\n",
        "# Plot the elbow\n",
        "plt.plot(K, loss_value, 'bx-')\n",
        "plt.xlabel('k')\n",
        "plt.ylabel('Distortion')\n",
        "plt.title('The Elbow Method showing the optimal k')\n",
        "plt.show()"
      ],
      "execution_count": null,
      "outputs": [
        {
          "output_type": "display_data",
          "data": {
            "image/png": "[encoded data removed]",
            "text/plain": [
              "<Figure size 432x288 with 1 Axes>"
            ]
          },
          "metadata": {
            "tags": [],
            "needs_background": "light"
          }
        }
      ]
    },
    {
      "cell_type": "markdown",
      "metadata": {
        "id": "kb8wpdzCkVxn",
        "colab_type": "text"
      },
      "source": [
        "# We can use three number of clusters"
      ]
    },
    {
      "cell_type": "code",
      "metadata": {
        "id": "NPGfGyZwkJC4",
        "colab_type": "code",
        "colab": {
          "base_uri": "https://localhost:8080/",
          "height": 51
        },
        "outputId": "fb96d3cf-a874-49ed-9098-09619dfbfc88"
      },
      "source": [
        "# set number of clusters\n",
        "kclusters = 3\n",
        "\n",
        "# run k-means clustering\n",
        "kmeans = KMeans(n_clusters=kclusters, random_state=0).fit(clusters_df)\n",
        "\n",
        "# check cluster labels generated for each row in the dataframe\n",
        "kmeans.labels_[0:len(final_df)]"
      ],
      "execution_count": null,
      "outputs": [
        {
          "output_type": "execute_result",
          "data": {
            "text/plain": [
              "array([1, 0, 1, 1, 1, 2, 1, 1, 1, 1, 1, 0, 1, 2, 0, 2, 2, 2, 1, 0, 0, 1,\n",
              "       2, 2, 0], dtype=int32)"
            ]
          },
          "metadata": {
            "tags": []
          },
          "execution_count": 318
        }
      ]
    },
    {
      "cell_type": "markdown",
      "metadata": {
        "id": "JExgREDlki2f",
        "colab_type": "text"
      },
      "source": [
        "Let's insert the Cluster labels into our final dataframe."
      ]
    },
    {
      "cell_type": "code",
      "metadata": {
        "id": "K_IoCpKJkeIw",
        "colab_type": "code",
        "colab": {
          "base_uri": "https://localhost:8080/",
          "height": 343
        },
        "outputId": "e5ec0602-6108-4b4f-bde3-0f33604cd21f"
      },
      "source": [
        "final_df.insert(0, 'cluster_labels', kmeans.labels_)\n",
        "final_df.head()"
      ],
      "execution_count": null,
      "outputs": [
        {
          "output_type": "execute_result",
          "data": {
            "text/html": [
              "<div>\n",
              "<style scoped>\n",
              "    .dataframe tbody tr th:only-of-type {\n",
              "        vertical-align: middle;\n",
              "    }\n",
              "\n",
              "    .dataframe tbody tr th {\n",
              "        vertical-align: top;\n",
              "    }\n",
              "\n",
              "    .dataframe thead th {\n",
              "        text-align: right;\n",
              "    }\n",
              "</style>\n",
              "<table border=\"1\" class=\"dataframe\">\n",
              "  <thead>\n",
              "    <tr style=\"text-align: right;\">\n",
              "      <th></th>\n",
              "      <th>cluster_labels</th>\n",
              "      <th>borough</th>\n",
              "      <th>residents</th>\n",
              "      <th>surface</th>\n",
              "      <th>population density</th>\n",
              "      <th>share_total_population</th>\n",
              "      <th>latitude</th>\n",
              "      <th>longitude</th>\n",
              "      <th>old-not-working-percentage</th>\n",
              "      <th>no_old_not_working_professionals</th>\n",
              "      <th>total_residents(above 18years)</th>\n",
              "      <th>total_work_professionals</th>\n",
              "      <th>total_work_professionals_percent</th>\n",
              "      <th>car_category</th>\n",
              "      <th>year</th>\n",
              "      <th>percentage_car_registered</th>\n",
              "      <th>no_cars_registered</th>\n",
              "      <th>total_cars_registered</th>\n",
              "      <th>number_places</th>\n",
              "    </tr>\n",
              "  </thead>\n",
              "  <tbody>\n",
              "    <tr>\n",
              "      <th>0</th>\n",
              "      <td>1</td>\n",
              "      <td>Allach - Untermenzing</td>\n",
              "      <td>30737</td>\n",
              "      <td>1545.17</td>\n",
              "      <td>20.0</td>\n",
              "      <td>2.10</td>\n",
              "      <td>48.195157</td>\n",
              "      <td>11.462973</td>\n",
              "      <td>28.4</td>\n",
              "      <td>6167</td>\n",
              "      <td>21710</td>\n",
              "      <td>15543</td>\n",
              "      <td>50.57</td>\n",
              "      <td>privat</td>\n",
              "      <td>2017</td>\n",
              "      <td>3.9</td>\n",
              "      <td>565</td>\n",
              "      <td>14672.4</td>\n",
              "      <td>3.0</td>\n",
              "    </tr>\n",
              "    <tr>\n",
              "      <th>1</th>\n",
              "      <td>0</td>\n",
              "      <td>Altstadt - Lehel</td>\n",
              "      <td>20422</td>\n",
              "      <td>314.57</td>\n",
              "      <td>65.0</td>\n",
              "      <td>1.39</td>\n",
              "      <td>48.137828</td>\n",
              "      <td>11.574582</td>\n",
              "      <td>22.5</td>\n",
              "      <td>3450</td>\n",
              "      <td>15337</td>\n",
              "      <td>11887</td>\n",
              "      <td>58.21</td>\n",
              "      <td>privat</td>\n",
              "      <td>2017</td>\n",
              "      <td>6.1</td>\n",
              "      <td>454</td>\n",
              "      <td>7382.8</td>\n",
              "      <td>5.0</td>\n",
              "    </tr>\n",
              "    <tr>\n",
              "      <th>2</th>\n",
              "      <td>1</td>\n",
              "      <td>Au - Haidhausen</td>\n",
              "      <td>59752</td>\n",
              "      <td>421.96</td>\n",
              "      <td>142.0</td>\n",
              "      <td>4.08</td>\n",
              "      <td>48.128753</td>\n",
              "      <td>11.590536</td>\n",
              "      <td>19.0</td>\n",
              "      <td>8514</td>\n",
              "      <td>44828</td>\n",
              "      <td>36314</td>\n",
              "      <td>60.77</td>\n",
              "      <td>privat</td>\n",
              "      <td>2017</td>\n",
              "      <td>4.2</td>\n",
              "      <td>710</td>\n",
              "      <td>16793.1</td>\n",
              "      <td>2.0</td>\n",
              "    </tr>\n",
              "    <tr>\n",
              "      <th>3</th>\n",
              "      <td>1</td>\n",
              "      <td>Aubing - Lochhausen - Langwied</td>\n",
              "      <td>42305</td>\n",
              "      <td>3406.02</td>\n",
              "      <td>12.0</td>\n",
              "      <td>2.89</td>\n",
              "      <td>48.165059</td>\n",
              "      <td>11.400221</td>\n",
              "      <td>29.9</td>\n",
              "      <td>9068</td>\n",
              "      <td>30312</td>\n",
              "      <td>21244</td>\n",
              "      <td>50.22</td>\n",
              "      <td>privat</td>\n",
              "      <td>2017</td>\n",
              "      <td>3.4</td>\n",
              "      <td>604</td>\n",
              "      <td>17819.1</td>\n",
              "      <td>1.0</td>\n",
              "    </tr>\n",
              "    <tr>\n",
              "      <th>4</th>\n",
              "      <td>1</td>\n",
              "      <td>Berg am Laim</td>\n",
              "      <td>43068</td>\n",
              "      <td>631.46</td>\n",
              "      <td>68.0</td>\n",
              "      <td>2.94</td>\n",
              "      <td>48.123483</td>\n",
              "      <td>11.633451</td>\n",
              "      <td>25.0</td>\n",
              "      <td>7865</td>\n",
              "      <td>31500</td>\n",
              "      <td>23635</td>\n",
              "      <td>54.88</td>\n",
              "      <td>privat</td>\n",
              "      <td>2017</td>\n",
              "      <td>3.7</td>\n",
              "      <td>544</td>\n",
              "      <td>14881.8</td>\n",
              "      <td>3.0</td>\n",
              "    </tr>\n",
              "  </tbody>\n",
              "</table>\n",
              "</div>"
            ],
            "text/plain": [
              "   cluster_labels  ... number_places\n",
              "0               1  ...           3.0\n",
              "1               0  ...           5.0\n",
              "2               1  ...           2.0\n",
              "3               1  ...           1.0\n",
              "4               1  ...           3.0\n",
              "\n",
              "[5 rows x 19 columns]"
            ]
          },
          "metadata": {
            "tags": []
          },
          "execution_count": 319
        }
      ]
    },
    {
      "cell_type": "markdown",
      "metadata": {
        "id": "S6CMpKP6k3f-",
        "colab_type": "text"
      },
      "source": [
        "Now, let's create maps representing our clusters. "
      ]
    },
    {
      "cell_type": "code",
      "metadata": {
        "id": "SC440G6ektzP",
        "colab_type": "code",
        "colab": {
          "base_uri": "https://localhost:8080/",
          "height": 583
        },
        "outputId": "91e6c2e6-dbec-4dfa-abb2-c8920f88319d"
      },
      "source": [
        "# create map\n",
        "map_clusters = folium.Map(location=[latitude_munich, longitude_munich], zoom_start=11)\n",
        "colours = ['red', 'black', 'blue']\n",
        "# set color scheme for the clusters\n",
        "x = np.arange(kclusters)\n",
        "ys = [i + x + (i*x)**2 for i in range(kclusters)]\n",
        "colors_array = cm.rainbow(np.linspace(0, 1, len(ys)))\n",
        "rainbow = [colors.rgb2hex(i) for i in colors_array]\n",
        "\n",
        "# add markers to the map\n",
        "markers_colors = []\n",
        "for lat, lon, poi, cluster, income in zip(final_df['latitude'], final_df['longitude'], final_df['borough'], final_df['cluster_labels'], clusters_df[:,1]):\n",
        "    label = folium.Popup(str(poi) + ' Cluster ' + str(cluster), parse_html=True)\n",
        "    folium.CircleMarker(\n",
        "        [lat, lon],\n",
        "        radius=income*5+15,\n",
        "        popup=label,\n",
        "        #color=rainbow[cluster-1],\n",
        "        color=colours[cluster],\n",
        "        fill=True,\n",
        "        #fill_color=rainbow[cluster-1],\n",
        "        fill_color=colours[cluster],\n",
        "        fill_opacity=0.7).add_to(map_clusters)\n",
        "       \n",
        "map_clusters"
      ],
      "execution_count": null,
      "outputs": [
        {
          "output_type": "execute_result",
          "data": {
            "text/html": [
              "<div style=\"width:100%;\"><div style=\"position:relative;width:100%;height:0;padding-bottom:60%;\"><span style=\"color:#565656\">Make this Notebook Trusted to load map: File -> Trust Notebook</span><iframe src=\"about:blank\" style=\"position:absolute;width:100%;height:100%;left:0;top:0;border:none !important;\" data-html=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 onload=\"this.contentDocument.open();this.contentDocument.write(atob(this.getAttribute('data-html')));this.contentDocument.close();\" allowfullscreen webkitallowfullscreen mozallowfullscreen></iframe></div></div>"
            ],
            "text/plain": [
              "<folium.folium.Map at 0x7faa05217fd0>"
            ]
          },
          "metadata": {
            "tags": []
          },
          "execution_count": 324
        }
      ]
    },
    {
      "cell_type": "markdown",
      "metadata": {
        "id": "S_5fpFecn8sv",
        "colab_type": "text"
      },
      "source": [
        "# Clusters based on Number of venues"
      ]
    },
    {
      "cell_type": "code",
      "metadata": {
        "id": "7hHYqLX6lf81",
        "colab_type": "code",
        "colab": {
          "base_uri": "https://localhost:8080/",
          "height": 583
        },
        "outputId": "bf6038f9-4c3d-476f-cf23-a61dff954383"
      },
      "source": [
        "# create map\n",
        "map_clusters = folium.Map(location=[latitude_munich, longitude_munich], zoom_start=11)\n",
        "colours = ['red', 'black', 'blue']\n",
        "# set color scheme for the clusters\n",
        "x = np.arange(kclusters)\n",
        "ys = [i + x + (i*x)**2 for i in range(kclusters)]\n",
        "colors_array = cm.rainbow(np.linspace(0, 1, len(ys)))\n",
        "rainbow = [colors.rgb2hex(i) for i in colors_array]\n",
        "\n",
        "# add markers to the map\n",
        "markers_colors = []\n",
        "for lat, lon, poi, cluster, income in zip(final_df['latitude'], final_df['longitude'], final_df['borough'], final_df['cluster_labels'], clusters_df[:,2]):\n",
        "    label = folium.Popup(str(poi) + ' Cluster ' + str(cluster), parse_html=True)\n",
        "    folium.CircleMarker(\n",
        "        [lat, lon],\n",
        "        radius=income*5+15,\n",
        "        popup=label,\n",
        "        #color=rainbow[cluster-1],\n",
        "        color=colours[cluster],\n",
        "        fill=True,\n",
        "        #fill_color=rainbow[cluster-1],\n",
        "        fill_color=colours[cluster],\n",
        "        fill_opacity=0.7).add_to(map_clusters)\n",
        "       \n",
        "map_clusters"
      ],
      "execution_count": null,
      "outputs": [
        {
          "output_type": "execute_result",
          "data": {
            "text/html": [
              "<div style=\"width:100%;\"><div style=\"position:relative;width:100%;height:0;padding-bottom:60%;\"><span style=\"color:#565656\">Make this Notebook Trusted to load map: File -> Trust Notebook</span><iframe src=\"about:blank\" style=\"position:absolute;width:100%;height:100%;left:0;top:0;border:none !important;\" data-html=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 onload=\"this.contentDocument.open();this.contentDocument.write(atob(this.getAttribute('data-html')));this.contentDocument.close();\" allowfullscreen webkitallowfullscreen mozallowfullscreen></iframe></div></div>"
            ],
            "text/plain": [
              "<folium.folium.Map at 0x7faa051e6080>"
            ]
          },
          "metadata": {
            "tags": []
          },
          "execution_count": 325
        }
      ]
    },
    {
      "cell_type": "markdown",
      "metadata": {
        "id": "PLpnFo8woMsl",
        "colab_type": "text"
      },
      "source": [
        "# Based on Number of vehicles registered"
      ]
    },
    {
      "cell_type": "code",
      "metadata": {
        "id": "pvXTRK7Nn6An",
        "colab_type": "code",
        "colab": {
          "base_uri": "https://localhost:8080/",
          "height": 583
        },
        "outputId": "68f20f60-2ed3-4418-9513-3a7f33297b78"
      },
      "source": [
        "# create map\n",
        "map_clusters = folium.Map(location=[latitude_munich, longitude_munich], zoom_start=11)\n",
        "colours = ['red', 'black', 'blue']\n",
        "# set color scheme for the clusters\n",
        "x = np.arange(kclusters)\n",
        "ys = [i + x + (i*x)**2 for i in range(kclusters)]\n",
        "colors_array = cm.rainbow(np.linspace(0, 1, len(ys)))\n",
        "rainbow = [colors.rgb2hex(i) for i in colors_array]\n",
        "\n",
        "# add markers to the map\n",
        "markers_colors = []\n",
        "for lat, lon, poi, cluster, income in zip(final_df['latitude'], final_df['longitude'], final_df['borough'], final_df['cluster_labels'], clusters_df[:,0]):\n",
        "    label = folium.Popup(str(poi) + ' Cluster ' + str(cluster), parse_html=True)\n",
        "    folium.CircleMarker(\n",
        "        [lat, lon],\n",
        "        radius=income*5+15,\n",
        "        popup=label,\n",
        "        #color=rainbow[cluster-1],\n",
        "        color=colours[cluster],\n",
        "        fill=True,\n",
        "        #fill_color=rainbow[cluster-1],\n",
        "        fill_color=colours[cluster],\n",
        "        fill_opacity=0.7).add_to(map_clusters)\n",
        "       \n",
        "map_clusters"
      ],
      "execution_count": null,
      "outputs": [
        {
          "output_type": "execute_result",
          "data": {
            "text/html": [
              "<div style=\"width:100%;\"><div style=\"position:relative;width:100%;height:0;padding-bottom:60%;\"><span style=\"color:#565656\">Make this Notebook Trusted to load map: File -> Trust Notebook</span><iframe src=\"about:blank\" style=\"position:absolute;width:100%;height:100%;left:0;top:0;border:none !important;\" data-html=PCFET0NUWVBFIGh0bWw+CjxoZWFkPiAgICAKICAgIDxtZXRhIGh0dHAtZXF1aXY9ImNvbnRlbnQtdHlwZSIgY29udGVudD0idGV4dC9odG1sOyBjaGFyc2V0PVVURi04IiAvPgogICAgPHNjcmlwdD5MX1BSRUZFUl9DQU5WQVM9ZmFsc2U7IExfTk9fVE9VQ0g9ZmFsc2U7IExfRElTQUJMRV8zRD1mYWxzZTs8L3NjcmlwdD4KICAgIDxzY3JpcHQgc3JjPSJodHRwczovL2Nkbi5qc2RlbGl2ci5uZXQvbnBtL2xlYWZsZXRAMS40LjAvZGlzdC9sZWFmbGV0LmpzIj48L3NjcmlwdD4KICAgIDxzY3JpcHQgc3JjPSJodHRwczovL2NvZGUuanF1ZXJ5LmNvbS9qcXVlcnktMS4xMi40Lm1pbi5qcyI+PC9zY3JpcHQ+CiAgICA8c2NyaXB0IHNyYz0iaHR0cHM6Ly9tYXhjZG4uYm9vdHN0cmFwY2RuLmNvbS9ib290c3RyYXAvMy4yLjAvanMvYm9vdHN0cmFwLm1pbi5qcyI+PC9zY3JpcHQ+CiAgICA8c2NyaXB0IHNyYz0iaHR0cHM6Ly9jZG5qcy5jbG91ZGZsYXJlLmNvbS9hamF4L2xpYnMvTGVhZmxldC5hd2Vzb21lLW1hcmtlcnMvMi4wLjIvbGVhZmxldC5hd2Vzb21lLW1hcmtlcnMuanMiPjwvc2NyaXB0PgogICAgPGxpbmsgcmVsPSJzdHlsZXNoZWV0IiBocmVmPSJodHRwczovL2Nkbi5qc2RlbGl2ci5uZXQvbnBtL2xlYWZsZXRAMS40LjAvZGlzdC9sZWFmbGV0LmNzcyIvPgogICAgPGxpbmsgcmVsPSJzdHlsZXNoZWV0IiBocmVmPSJodHRwczovL21heGNkbi5ib290c3RyYXBjZG4uY29tL2Jvb3RzdHJhcC8zLjIuMC9jc3MvYm9vdHN0cmFwLm1pbi5jc3MiLz4KICAgIDxsaW5rIHJlbD0ic3R5bGVzaGVldCIgaHJlZj0iaHR0cHM6Ly9tYXhjZG4uYm9vdHN0cmFwY2RuLmNvbS9ib290c3RyYXAvMy4yLjAvY3NzL2Jvb3RzdHJhcC10aGVtZS5taW4uY3NzIi8+CiAgICA8bGluayByZWw9InN0eWxlc2hlZXQiIGhyZWY9Imh0dHBzOi8vbWF4Y2RuLmJvb3RzdHJhcGNkbi5jb20vZm9udC1hd2Vzb21lLzQuNi4zL2Nzcy9mb250LWF3ZXNvbWUubWluLmNzcyIvPgogICAgPGxpbmsgcmVsPSJzdHlsZXNoZWV0IiBocmVmPSJodHRwczovL2NkbmpzLmNsb3VkZmxhcmUuY29tL2FqYXgvbGlicy9MZWFmbGV0LmF3ZXNvbWUtbWFya2Vycy8yLjAuMi9sZWFmbGV0LmF3ZXNvbWUtbWFya2Vycy5jc3MiLz4KICAgIDxsaW5rIHJlbD0ic3R5bGVzaGVldCIgaHJlZj0iaHR0cHM6Ly9yYXdjZG4uZ2l0aGFjay5jb20vcHl0aG9uLXZpc3VhbGl6YXRpb24vZm9saXVtL21hc3Rlci9mb2xpdW0vdGVtcGxhdGVzL2xlYWZsZXQuYXdlc29tZS5yb3RhdGUuY3NzIi8+CiAgICA8c3R5bGU+aHRtbCwgYm9keSB7d2lkdGg6IDEwMCU7aGVpZ2h0OiAxMDAlO21hcmdpbjogMDtwYWRkaW5nOiAwO308L3N0eWxlPgogICAgPHN0eWxlPiNtYXAge3Bvc2l0aW9uOmFic29sdXRlO3RvcDowO2JvdHRvbTowO3JpZ2h0OjA7bGVmdDowO308L3N0eWxlPgogICAgCiAgICA8bWV0YSBuYW1lPSJ2aWV3cG9ydCIgY29udGVudD0id2lkdGg9ZGV2aWNlLXdpZHRoLAogICAgICAgIGluaXRpYWwtc2NhbGU9MS4wLCBtYXhpbXVtLXNjYWxlPTEuMCwgdXNlci1zY2FsYWJsZT1ubyIgLz4KICAgIDxzdHlsZT4jbWFwXzRkNGQwMGQ1NDdjODQyNDVhNjgxODZjYzhkYzY4YTVkIHsKICAgICAgICBwb3NpdGlvbjogcmVsYXRpdmU7CiAgICAgICAgd2lkdGg6IDEwMC4wJTsKICAgICAgICBoZWlnaHQ6IDEwMC4wJTsKICAgICAgICBsZWZ0OiAwLjAlOwogICAgICAgIHRvcDogMC4wJTsKICAgICAgICB9CiAgICA8L3N0eWxlPgo8L2hlYWQ+Cjxib2R5PiAgICAKICAgIAogICAgPGRpdiBjbGFzcz0iZm9saXVtLW1hcCIgaWQ9Im1hcF80ZDRkMDBkNTQ3Yzg0MjQ1YTY4MTg2Y2M4ZGM2OGE1ZCIgPjwvZGl2Pgo8L2JvZHk+CjxzY3JpcHQ+ICAgIAogICAgCiAgICAKICAgICAgICB2YXIgYm91bmRzID0gbnVsbDsKICAgIAoKICAgIHZhciBtYXBfNGQ0ZDAwZDU0N2M4NDI0NWE2ODE4NmNjOGRjNjhhNWQgPSBMLm1hcCgKICAgICAgICAnbWFwXzRkNGQwMGQ1NDdjODQyNDVhNjgxODZjYzhkYzY4YTVkJywgewogICAgICAgIGNlbnRlcjogWzQ4LjEzNzE1NCwgMTEuNTc2MTI0XSwKICAgICAgICB6b29tOiAxMSwKICAgICAgICBtYXhCb3VuZHM6IGJvdW5kcywKICAgICAgICBsYXllcnM6IFtdLAogICAgICAgIHdvcmxkQ29weUp1bXA6IGZhbHNlLAogICAgICAgIGNyczogTC5DUlMuRVBTRzM4NTcsCiAgICAgICAgem9vbUNvbnRyb2w6IHRydWUsCiAgICAgICAgfSk7CgoKICAgIAogICAgdmFyIHRpbGVfbGF5ZXJfMWI1ZTliYjA2YjRlNDZmZTk4NDM1MzE2NTYxNWJkNjEgPSBMLnRpbGVMYXllcigKICAgICAgICAnaHR0cHM6Ly97c30udGlsZS5vcGVuc3RyZWV0bWFwLm9yZy97en0ve3h9L3t5fS5wbmcnLAogICAgICAgIHsKICAgICAgICAiYXR0cmlidXRpb24iOiBudWxsLAogICAgICAgICJkZXRlY3RSZXRpbmEiOiBmYWxzZSwKICAgICAgICAibWF4TmF0aXZlWm9vbSI6IDE4LAogICAgICAgICJtYXhab29tIjogMTgsCiAgICAgICAgIm1pblpvb20iOiAwLAogICAgICAgICJub1dyYXAiOiBmYWxzZSwKICAgICAgICAib3BhY2l0eSI6IDEsCiAgICAgICAgInN1YmRvbWFpbnMiOiAiYWJjIiwKICAgICAgICAidG1zIjogZmFsc2UKfSkuYWRkVG8obWFwXzRkNGQwMGQ1NDdjODQyNDVhNjgxODZjYzhkYzY4YTVkKTsKICAgIAogICAgICAgICAgICB2YXIgY2lyY2xlX21hcmtlcl8yYjJmYWI0ZDE4Njc0YTQ2ODQ4MTljNjQxNGYwM2QwYSA9IEwuY2lyY2xlTWFya2VyKAogICAgICAgICAgICAgICAgWzQ4LjE5NTE1NzM1LCAxMS40NjI5NzMzMzY3NzQyOTddLAogICAgICAgICAgICAgICAgewogICJidWJibGluZ01vdXNlRXZlbnRzIjogdHJ1ZSwKICAiY29sb3IiOiAiYmxhY2siLAogICJkYXNoQXJyYXkiOiBudWxsLAogICJkYXNoT2Zmc2V0IjogbnVsbCwKICAiZmlsbCI6IHRydWUsCiAgImZpbGxDb2xvciI6ICJibGFjayIsCiAgImZpbGxPcGFjaXR5IjogMC43LAogICJmaWxsUnVsZSI6ICJldmVub2RkIiwKICAibGluZUNhcCI6ICJyb3VuZCIsCiAgImxpbmVKb2luIjogInJvdW5kIiwKICAib3BhY2l0eSI6IDEuMCwKICAicmFkaXVzIjogMTEuNzQ4NzYwMDk2Mjg4OTcyLAogICJzdHJva2UiOiB0cnVlLAogICJ3ZWlnaHQiOiAzCn0KICAgICAgICAgICAgICAgICkKICAgICAgICAgICAgICAgIC5hZGRUbyhtYXBfNGQ0ZDAwZDU0N2M4NDI0NWE2ODE4NmNjOGRjNjhhNWQpOwogICAgICAgICAgICAKICAgIAogICAgICAgICAgICB2YXIgcG9wdXBfMWQ0YmI1MmVhZDlkNGE4ZWJiZDI4M2FkOTQxM2QzYjMgPSBMLnBvcHVwKHttYXhXaWR0aDogJzEwMCUnCiAgICAgICAgICAgIAogICAgICAgICAgICB9KTsKCiAgICAgICAgICAgIAogICAgICAgICAgICAgICAgdmFyIGh0bWxfMjcxMDhmODYwZTVmNGQ1MDllNWY5NWExZDZlMGU4YzAgPSAkKGA8ZGl2IGlkPSJodG1sXzI3MTA4Zjg2MGU1ZjRkNTA5ZTVmOTVhMWQ2ZTBlOGMwIiBzdHlsZT0id2lkdGg6IDEwMC4wJTsgaGVpZ2h0OiAxMDAuMCU7Ij5BbGxhY2ggLSBVbnRlcm1lbnppbmcgQ2x1c3RlciAxPC9kaXY+YClbMF07CiAgICAgICAgICAgICAgICBwb3B1cF8xZDRiYjUyZWFkOWQ0YThlYmJkMjgzYWQ5NDEzZDNiMy5zZXRDb250ZW50KGh0bWxfMjcxMDhmODYwZTVmNGQ1MDllNWY5NWExZDZlMGU4YzApOwogICAgICAgICAgICAKCiAgICAgICAgICAgIGNpcmNsZV9tYXJrZXJfMmIyZmFiNGQxODY3NGE0Njg0ODE5YzY0MTRmMDNkMGEuYmluZFBvcHVwKHBvcHVwXzFkNGJiNTJlYWQ5ZDRhOGViYmQyODNhZDk0MTNkM2IzKQogICAgICAgICAgICA7CgogICAgICAgICAgICAKICAgICAgICAKICAgIAogICAgICAgICAgICB2YXIgY2lyY2xlX21hcmtlcl80N2I5ZjQzYTc5NWU0N2FjYjE2Njg0ZTQ3NTViNGQ2ZiA9IEwuY2lyY2xlTWFya2VyKAogICAgICAgICAgICAgICAgWzQ4LjEzNzgyODUsIDExLjU3NDU4MjNdLAogICAgICAgICAgICAgICAgewogICJidWJibGluZ01vdXNlRXZlbnRzIjogdHJ1ZSwKICAiY29sb3IiOiAicmVkIiwKICAiZGFzaEFycmF5IjogbnVsbCwKICAiZGFzaE9mZnNldCI6IG51bGwsCiAgImZpbGwiOiB0cnVlLAogICJmaWxsQ29sb3IiOiAicmVkIiwKICAiZmlsbE9wYWNpdHkiOiAwLjcsCiAgImZpbGxSdWxlIjogImV2ZW5vZGQiLAogICJsaW5lQ2FwIjogInJvdW5kIiwKICAibGluZUpvaW4iOiAicm91bmQiLAogICJvcGFjaXR5IjogMS4wLAogICJyYWRpdXMiOiAxMC4yMDU0NTAwMTU0MTM0ODUsCiAgInN0cm9rZSI6IHRydWUsCiAgIndlaWdodCI6IDMKfQogICAgICAgICAgICAgICAgKQogICAgICAgICAgICAgICAgLmFkZFRvKG1hcF80ZDRkMDBkNTQ3Yzg0MjQ1YTY4MTg2Y2M4ZGM2OGE1ZCk7CiAgICAgICAgICAgIAogICAgCiAgICAgICAgICAgIHZhciBwb3B1cF82MWM1ZmZiODdkYTY0MTNhYTU2NjA4Yzg1ODAwMTU2NSA9IEwucG9wdXAoe21heFdpZHRoOiAnMTAwJScKICAgICAgICAgICAgCiAgICAgICAgICAgIH0pOwoKICAgICAgICAgICAgCiAgICAgICAgICAgICAgICB2YXIgaHRtbF80NDllM2FkNDkzZTE0NjVlYWZmM2VhYmE4ZWM2ZTk2OCA9ICQoYDxkaXYgaWQ9Imh0bWxfNDQ5ZTNhZDQ5M2UxNDY1ZWFmZjNlYWJhOGVjNmU5NjgiIHN0eWxlPSJ3aWR0aDogMTAwLjAlOyBoZWlnaHQ6IDEwMC4wJTsiPkFsdHN0YWR0IC0gTGVoZWwgQ2x1c3RlciAwPC9kaXY+YClbMF07CiAgICAgICAgICAgICAgICBwb3B1cF82MWM1ZmZiODdkYTY0MTNhYTU2NjA4Yzg1ODAwMTU2NS5zZXRDb250ZW50KGh0bWxfNDQ5ZTNhZDQ5M2UxNDY1ZWFmZjNlYWJhOGVjNmU5NjgpOwogICAgICAgICAgICAKCiAgICAgICAgICAgIGNpcmNsZV9tYXJrZXJfNDdiOWY0M2E3OTVlNDdhY2IxNjY4NGU0NzU1YjRkNmYuYmluZFBvcHVwKHBvcHVwXzYxYzVmZmI4N2RhNjQxM2FhNTY2MDhjODU4MDAxNTY1KQogICAgICAgICAgICA7CgogICAgICAgICAgICAKICAgICAgICAKICAgIAogICAgICAgICAgICB2YXIgY2lyY2xlX21hcmtlcl8yYTEwZGNlZDg2NWM0NjcwODhlMTdiYTIwODhhY2RjMSA9IEwuY2lyY2xlTWFya2VyKAogICAgICAgICAgICAgICAgWzQ4LjEyODc1MzEsIDExLjU5MDUzNjJdLAogICAgICAgICAgICAgICAgewogICJidWJibGluZ01vdXNlRXZlbnRzIjogdHJ1ZSwKICAiY29sb3IiOiAiYmxhY2siLAogICJkYXNoQXJyYXkiOiBudWxsLAogICJkYXNoT2Zmc2V0IjogbnVsbCwKICAiZmlsbCI6IHRydWUsCiAgImZpbGxDb2xvciI6ICJibGFjayIsCiAgImZpbGxPcGFjaXR5IjogMC43LAogICJmaWxsUnVsZSI6ICJldmVub2RkIiwKICAibGluZUNhcCI6ICJyb3VuZCIsCiAgImxpbmVKb2luIjogInJvdW5kIiwKICAib3BhY2l0eSI6IDEuMCwKICAicmFkaXVzIjogMTMuNzY0Nzk1Nzg3NTIyNzE3LAogICJzdHJva2UiOiB0cnVlLAogICJ3ZWlnaHQiOiAzCn0KICAgICAgICAgICAgICAgICkKICAgICAgICAgICAgICAgIC5hZGRUbyhtYXBfNGQ0ZDAwZDU0N2M4NDI0NWE2ODE4NmNjOGRjNjhhNWQpOwogICAgICAgICAgICAKICAgIAogICAgICAgICAgICB2YXIgcG9wdXBfNjMyZjBjNGJiNGY0NDhkNzk2ZDQwMzBlMmQ1YjExMzkgPSBMLnBvcHVwKHttYXhXaWR0aDogJzEwMCUnCiAgICAgICAgICAgIAogICAgICAgICAgICB9KTsKCiAgICAgICAgICAgIAogICAgICAgICAgICAgICAgdmFyIGh0bWxfODNjOGE3YTBiYjBiNGI1YTg0NzdiMTM0YzNkMGI1OTUgPSAkKGA8ZGl2IGlkPSJodG1sXzgzYzhhN2EwYmIwYjRiNWE4NDc3YjEzNGMzZDBiNTk1IiBzdHlsZT0id2lkdGg6IDEwMC4wJTsgaGVpZ2h0OiAxMDAuMCU7Ij5BdSAtIEhhaWRoYXVzZW4gQ2x1c3RlciAxPC9kaXY+YClbMF07CiAgICAgICAgICAgICAgICBwb3B1cF82MzJmMGM0YmI0ZjQ0OGQ3OTZkNDAzMGUyZDViMTEzOS5zZXRDb250ZW50KGh0bWxfODNjOGE3YTBiYjBiNGI1YTg0NzdiMTM0YzNkMGI1OTUpOwogICAgICAgICAgICAKCiAgICAgICAgICAgIGNpcmNsZV9tYXJrZXJfMmExMGRjZWQ4NjVjNDY3MDg4ZTE3YmEyMDg4YWNkYzEuYmluZFBvcHVwKHBvcHVwXzYzMmYwYzRiYjRmNDQ4ZDc5NmQ0MDMwZTJkNWIxMTM5KQogICAgICAgICAgICA7CgogICAgICAgICAgICAKICAgICAgICAKICAgIAogICAgICAgICAgICB2YXIgY2lyY2xlX21hcmtlcl9mM2RlYmQ0NGEyZjY0ZGE3OTY4OWE0YWZiNWY2YTIxYiA9IEwuY2lyY2xlTWFya2VyKAogICAgICAgICAgICAgICAgWzQ4LjE2NTA1ODc1LCAxMS40MDAyMjE0NzI5NjcyMV0sCiAgICAgICAgICAgICAgICB7CiAgImJ1YmJsaW5nTW91c2VFdmVudHMiOiB0cnVlLAogICJjb2xvciI6ICJibGFjayIsCiAgImRhc2hBcnJheSI6IG51bGwsCiAgImRhc2hPZmZzZXQiOiBudWxsLAogICJmaWxsIjogdHJ1ZSwKICAiZmlsbENvbG9yIjogImJsYWNrIiwKICAiZmlsbE9wYWNpdHkiOiAwLjcsCiAgImZpbGxSdWxlIjogImV2ZW5vZGQiLAogICJsaW5lQ2FwIjogInJvdW5kIiwKICAibGluZUpvaW4iOiAicm91bmQiLAogICJvcGFjaXR5IjogMS4wLAogICJyYWRpdXMiOiAxMi4yOTEwMDQxNzg3NTg3MzksCiAgInN0cm9rZSI6IHRydWUsCiAgIndlaWdodCI6IDMKfQogICAgICAgICAgICAgICAgKQogICAgICAgICAgICAgICAgLmFkZFRvKG1hcF80ZDRkMDBkNTQ3Yzg0MjQ1YTY4MTg2Y2M4ZGM2OGE1ZCk7CiAgICAgICAgICAgIAogICAgCiAgICAgICAgICAgIHZhciBwb3B1cF8xOTYyODI3YWUwYWY0NGRlYTI1OWNjZWRiMGUzYjhhNSA9IEwucG9wdXAoe21heFdpZHRoOiAnMTAwJScKICAgICAgICAgICAgCiAgICAgICAgICAgIH0pOwoKICAgICAgICAgICAgCiAgICAgICAgICAgICAgICB2YXIgaHRtbF81ZDJhYzgwYzk2NDU0NzNmYTY1ZGU3NDdiZTYyY2VlMyA9ICQoYDxkaXYgaWQ9Imh0bWxfNWQyYWM4MGM5NjQ1NDczZmE2NWRlNzQ3YmU2MmNlZTMiIHN0eWxlPSJ3aWR0aDogMTAwLjAlOyBoZWlnaHQ6IDEwMC4wJTsiPkF1YmluZyAtIExvY2hoYXVzZW4gLSBMYW5nd2llZCBDbHVzdGVyIDE8L2Rpdj5gKVswXTsKICAgICAgICAgICAgICAgIHBvcHVwXzE5NjI4MjdhZTBhZjQ0ZGVhMjU5Y2NlZGIwZTNiOGE1LnNldENvbnRlbnQoaHRtbF81ZDJhYzgwYzk2NDU0NzNmYTY1ZGU3NDdiZTYyY2VlMyk7CiAgICAgICAgICAgIAoKICAgICAgICAgICAgY2lyY2xlX21hcmtlcl9mM2RlYmQ0NGEyZjY0ZGE3OTY4OWE0YWZiNWY2YTIxYi5iaW5kUG9wdXAocG9wdXBfMTk2MjgyN2FlMGFmNDRkZWEyNTljY2VkYjBlM2I4YTUpCiAgICAgICAgICAgIDsKCiAgICAgICAgICAgIAogICAgICAgIAogICAgCiAgICAgICAgICAgIHZhciBjaXJjbGVfbWFya2VyXzhiMGM5Y2I3OGNmZjQ3ODc4Njc1ZThhNDllY2Q4N2YwID0gTC5jaXJjbGVNYXJrZXIoCiAgICAgICAgICAgICAgICBbNDguMTIzNDgzMywgMTEuNjMzNDUxMV0sCiAgICAgICAgICAgICAgICB7CiAgImJ1YmJsaW5nTW91c2VFdmVudHMiOiB0cnVlLAogICJjb2xvciI6ICJibGFjayIsCiAgImRhc2hBcnJheSI6IG51bGwsCiAgImRhc2hPZmZzZXQiOiBudWxsLAogICJmaWxsIjogdHJ1ZSwKICAiZmlsbENvbG9yIjogImJsYWNrIiwKICAiZmlsbE9wYWNpdHkiOiAwLjcsCiAgImZpbGxSdWxlIjogImV2ZW5vZGQiLAogICJsaW5lQ2FwIjogInJvdW5kIiwKICAibGluZUpvaW4iOiAicm91bmQiLAogICJvcGFjaXR5IjogMS4wLAogICJyYWRpdXMiOiAxMS40NTY3ODI1MTM0MjA2MzgsCiAgInN0cm9rZSI6IHRydWUsCiAgIndlaWdodCI6IDMKfQogICAgICAgICAgICAgICAgKQogICAgICAgICAgICAgICAgLmFkZFRvKG1hcF80ZDRkMDBkNTQ3Yzg0MjQ1YTY4MTg2Y2M4ZGM2OGE1ZCk7CiAgICAgICAgICAgIAogICAgCiAgICAgICAgICAgIHZhciBwb3B1cF8zMzQ5ODk5MzU4MTE0NDVjYmUxMmUwMDYwZGMzNmZkOSA9IEwucG9wdXAoe21heFdpZHRoOiAnMTAwJScKICAgICAgICAgICAgCiAgICAgICAgICAgIH0pOwoKICAgICAgICAgICAgCiAgICAgICAgICAgICAgICB2YXIgaHRtbF8xMTk2ZDFiOGQ3MDk0MTMzYjAyODAxY2QwM2ZlYjgzYyA9ICQoYDxkaXYgaWQ9Imh0bWxfMTE5NmQxYjhkNzA5NDEzM2IwMjgwMWNkMDNmZWI4M2MiIHN0eWxlPSJ3aWR0aDogMTAwLjAlOyBoZWlnaHQ6IDEwMC4wJTsiPkJlcmcgYW0gTGFpbSBDbHVzdGVyIDE8L2Rpdj5gKVswXTsKICAgICAgICAgICAgICAgIHBvcHVwXzMzNDk4OTkzNTgxMTQ0NWNiZTEyZTAwNjBkYzM2ZmQ5LnNldENvbnRlbnQoaHRtbF8xMTk2ZDFiOGQ3MDk0MTMzYjAyODAxY2QwM2ZlYjgzYyk7CiAgICAgICAgICAgIAoKICAgICAgICAgICAgY2lyY2xlX21hcmtlcl84YjBjOWNiNzhjZmY0Nzg3ODY3NWU4YTQ5ZWNkODdmMC5iaW5kUG9wdXAocG9wdXBfMzM0OTg5OTM1ODExNDQ1Y2JlMTJlMDA2MGRjMzZmZDkpCiAgICAgICAgICAgIDsKCiAgICAgICAgICAgIAogICAgICAgIAogICAgCiAgICAgICAgICAgIHZhciBjaXJjbGVfbWFya2VyX2VmODZlNjVlNDhjZjRlNDQ4ODA3NzVlY2JhOTcyYmEyID0gTC5jaXJjbGVNYXJrZXIoCiAgICAgICAgICAgICAgICBbNDguMTU0NzgyMywgMTEuNjMzNDgzOF0sCiAgICAgICAgICAgICAgICB7CiAgImJ1YmJsaW5nTW91c2VFdmVudHMiOiB0cnVlLAogICJjb2xvciI6ICJibHVlIiwKICAiZGFzaEFycmF5IjogbnVsbCwKICAiZGFzaE9mZnNldCI6IG51bGwsCiAgImZpbGwiOiB0cnVlLAogICJmaWxsQ29sb3IiOiAiYmx1ZSIsCiAgImZpbGxPcGFjaXR5IjogMC43LAogICJmaWxsUnVsZSI6ICJldmVub2RkIiwKICAibGluZUNhcCI6ICJyb3VuZCIsCiAgImxpbmVKb2luIjogInJvdW5kIiwKICAib3BhY2l0eSI6IDEuMCwKICAicmFkaXVzIjogMjUuMjkwOTU4NDYzNjEwODIsCiAgInN0cm9rZSI6IHRydWUsCiAgIndlaWdodCI6IDMKfQogICAgICAgICAgICAgICAgKQogICAgICAgICAgICAgICAgLmFkZFRvKG1hcF80ZDRkMDBkNTQ3Yzg0MjQ1YTY4MTg2Y2M4ZGM2OGE1ZCk7CiAgICAgICAgICAgIAogICAgCiAgICAgICAgICAgIHZhciBwb3B1cF9mYzgyOWJjMGRkYjk0ZTg3ODI5MTMzNDM1Y2EzZmEzMiA9IEwucG9wdXAoe21heFdpZHRoOiAnMTAwJScKICAgICAgICAgICAgCiAgICAgICAgICAgIH0pOwoKICAgICAgICAgICAgCiAgICAgICAgICAgICAgICB2YXIgaHRtbF84NzU3YWQ1NTMwZDY0YmY5ODQyZWZlZDFlZDMxZDA3MiA9ICQoYDxkaXYgaWQ9Imh0bWxfODc1N2FkNTUzMGQ2NGJmOTg0MmVmZWQxZWQzMWQwNzIiIHN0eWxlPSJ3aWR0aDogMTAwLjAlOyBoZWlnaHQ6IDEwMC4wJTsiPkJvZ2VuaGF1c2VuIENsdXN0ZXIgMjwvZGl2PmApWzBdOwogICAgICAgICAgICAgICAgcG9wdXBfZmM4MjliYzBkZGI5NGU4NzgyOTEzMzQzNWNhM2ZhMzIuc2V0Q29udGVudChodG1sXzg3NTdhZDU1MzBkNjRiZjk4NDJlZmVkMWVkMzFkMDcyKTsKICAgICAgICAgICAgCgogICAgICAgICAgICBjaXJjbGVfbWFya2VyX2VmODZlNjVlNDhjZjRlNDQ4ODA3NzVlY2JhOTcyYmEyLmJpbmRQb3B1cChwb3B1cF9mYzgyOWJjMGRkYjk0ZTg3ODI5MTMzNDM1Y2EzZmEzMikKICAgICAgICAgICAgOwoKICAgICAgICAgICAgCiAgICAgICAgCiAgICAKICAgICAgICAgICAgdmFyIGNpcmNsZV9tYXJrZXJfNWVlNjFkMzRmNDIxNGM1ZmE4MTg4MGYxMTIzYWI4NTQgPSBMLmNpcmNsZU1hcmtlcigKICAgICAgICAgICAgICAgIFs0OC4yMTg0NjE4NSwgMTEuNTIwNDA5MDgzMTU5NjAzXSwKICAgICAgICAgICAgICAgIHsKICAiYnViYmxpbmdNb3VzZUV2ZW50cyI6IHRydWUsCiAgImNvbG9yIjogImJsYWNrIiwKICAiZGFzaEFycmF5IjogbnVsbCwKICAiZGFzaE9mZnNldCI6IG51bGwsCiAgImZpbGwiOiB0cnVlLAogICJmaWxsQ29sb3IiOiAiYmxhY2siLAogICJmaWxsT3BhY2l0eSI6IDAuNywKICAiZmlsbFJ1bGUiOiAiZXZlbm9kZCIsCiAgImxpbmVDYXAiOiAicm91bmQiLAogICJsaW5lSm9pbiI6ICJyb3VuZCIsCiAgIm9wYWNpdHkiOiAxLjAsCiAgInJhZGl1cyI6IDE0LjY5NjM0MzMxMzgxNjkzLAogICJzdHJva2UiOiB0cnVlLAogICJ3ZWlnaHQiOiAzCn0KICAgICAgICAgICAgICAgICkKICAgICAgICAgICAgICAgIC5hZGRUbyhtYXBfNGQ0ZDAwZDU0N2M4NDI0NWE2ODE4NmNjOGRjNjhhNWQpOwogICAgICAgICAgICAKICAgIAogICAgICAgICAgICB2YXIgcG9wdXBfYmM3YTRhM2NmMjcyNGRiMGFkM2RjZDMyYTljZmY3MjcgPSBMLnBvcHVwKHttYXhXaWR0aDogJzEwMCUnCiAgICAgICAgICAgIAogICAgICAgICAgICB9KTsKCiAgICAgICAgICAgIAogICAgICAgICAgICAgICAgdmFyIGh0bWxfNmU3YjY5NjZkYTA5NDY0NjllODYyOGU0MzA3ZWVlYTUgPSAkKGA8ZGl2IGlkPSJodG1sXzZlN2I2OTY2ZGEwOTQ2NDY5ZTg2MjhlNDMwN2VlZWE1IiBzdHlsZT0id2lkdGg6IDEwMC4wJTsgaGVpZ2h0OiAxMDAuMCU7Ij5GZWxkbW9jaGluZyAtIEhhc2VuYmVyZ2wgQ2x1c3RlciAxPC9kaXY+YClbMF07CiAgICAgICAgICAgICAgICBwb3B1cF9iYzdhNGEzY2YyNzI0ZGIwYWQzZGNkMzJhOWNmZjcyNy5zZXRDb250ZW50KGh0bWxfNmU3YjY5NjZkYTA5NDY0NjllODYyOGU0MzA3ZWVlYTUpOwogICAgICAgICAgICAKCiAgICAgICAgICAgIGNpcmNsZV9tYXJrZXJfNWVlNjFkMzRmNDIxNGM1ZmE4MTg4MGYxMTIzYWI4NTQuYmluZFBvcHVwKHBvcHVwX2JjN2E0YTNjZjI3MjRkYjBhZDNkY2QzMmE5Y2ZmNzI3KQogICAgICAgICAgICA7CgogICAgICAgICAgICAKICAgICAgICAKICAgIAogICAgICAgICAgICB2YXIgY2lyY2xlX21hcmtlcl8wODBiYWZkYmY2MDA0ZDI2ODkwZTk5NTA0M2Q1MzVkOCA9IEwuY2lyY2xlTWFya2VyKAogICAgICAgICAgICAgICAgWzQ4LjExODA2NCwgMTEuNDgxODQxN10sCiAgICAgICAgICAgICAgICB7CiAgImJ1YmJsaW5nTW91c2VFdmVudHMiOiB0cnVlLAogICJjb2xvciI6ICJibGFjayIsCiAgImRhc2hBcnJheSI6IG51bGwsCiAgImRhc2hPZmZzZXQiOiBudWxsLAogICJmaWxsIjogdHJ1ZSwKICAiZmlsbENvbG9yIjogImJsYWNrIiwKICAiZmlsbE9wYWNpdHkiOiAwLjcsCiAgImZpbGxSdWxlIjogImV2ZW5vZGQiLAogICJsaW5lQ2FwIjogInJvdW5kIiwKICAibGluZUpvaW4iOiAicm91bmQiLAogICJvcGFjaXR5IjogMS4wLAogICJyYWRpdXMiOiAxMi44ODg4NjMwMzg5MTc3MSwKICAic3Ryb2tlIjogdHJ1ZSwKICAid2VpZ2h0IjogMwp9CiAgICAgICAgICAgICAgICApCiAgICAgICAgICAgICAgICAuYWRkVG8obWFwXzRkNGQwMGQ1NDdjODQyNDVhNjgxODZjYzhkYzY4YTVkKTsKICAgICAgICAgICAgCiAgICAKICAgICAgICAgICAgdmFyIHBvcHVwXzgzNDEzYjhhYzZjNjRkOTJhMDk2Njk1MTc3YzkwZjg2ID0gTC5wb3B1cCh7bWF4V2lkdGg6ICcxMDAlJwogICAgICAgICAgICAKICAgICAgICAgICAgfSk7CgogICAgICAgICAgICAKICAgICAgICAgICAgICAgIHZhciBodG1sXzU1ZDNhMTI5ODM3NjQzNmZiNmY0MmQ1NDIwMGY3YTRiID0gJChgPGRpdiBpZD0iaHRtbF81NWQzYTEyOTgzNzY0MzZmYjZmNDJkNTQyMDBmN2E0YiIgc3R5bGU9IndpZHRoOiAxMDAuMCU7IGhlaWdodDogMTAwLjAlOyI+SGFkZXJuIENsdXN0ZXIgMTwvZGl2PmApWzBdOwogICAgICAgICAgICAgICAgcG9wdXBfODM0MTNiOGFjNmM2NGQ5MmEwOTY2OTUxNzdjOTBmODYuc2V0Q29udGVudChodG1sXzU1ZDNhMTI5ODM3NjQzNmZiNmY0MmQ1NDIwMGY3YTRiKTsKICAgICAgICAgICAgCgogICAgICAgICAgICBjaXJjbGVfbWFya2VyXzA4MGJhZmRiZjYwMDRkMjY4OTBlOTk1MDQzZDUzNWQ4LmJpbmRQb3B1cChwb3B1cF84MzQxM2I4YWM2YzY0ZDkyYTA5NjY5NTE3N2M5MGY4NikKICAgICAgICAgICAgOwoKICAgICAgICAgICAgCiAgICAgICAgCiAgICAKICAgICAgICAgICAgdmFyIGNpcmNsZV9tYXJrZXJfMGFmZDVkNzZkOGMyNDA3NGJkYjg3YmQ2ODQ2ZDVhZjUgPSBMLmNpcmNsZU1hcmtlcigKICAgICAgICAgICAgICAgIFs0MC43Mzk5Nzg1LCAtODQuMTA1MDA2XSwKICAgICAgICAgICAgICAgIHsKICAiYnViYmxpbmdNb3VzZUV2ZW50cyI6IHRydWUsCiAgImNvbG9yIjogImJsYWNrIiwKICAiZGFzaEFycmF5IjogbnVsbCwKICAiZGFzaE9mZnNldCI6IG51bGwsCiAgImZpbGwiOiB0cnVlLAogICJmaWxsQ29sb3IiOiAiYmxhY2siLAogICJmaWxsT3BhY2l0eSI6IDAuNywKICAiZmlsbFJ1bGUiOiAiZXZlbm9kZCIsCiAgImxpbmVDYXAiOiAicm91bmQiLAogICJsaW5lSm9pbiI6ICJyb3VuZCIsCiAgIm9wYWNpdHkiOiAxLjAsCiAgInJhZGl1cyI6IDEyLjEyNDE1OTg0NTY5MTExOCwKICAic3Ryb2tlIjogdHJ1ZSwKICAid2VpZ2h0IjogMwp9CiAgICAgICAgICAgICAgICApCiAgICAgICAgICAgICAgICAuYWRkVG8obWFwXzRkNGQwMGQ1NDdjODQyNDVhNjgxODZjYzhkYzY4YTVkKTsKICAgICAgICAgICAgCiAgICAKICAgICAgICAgICAgdmFyIHBvcHVwXzgzMjQ5NmNkNzQ1NjRmZTQ4NjhkMjJhZTViMGRlNWU4ID0gTC5wb3B1cCh7bWF4V2lkdGg6ICcxMDAlJwogICAgICAgICAgICAKICAgICAgICAgICAgfSk7CgogICAgICAgICAgICAKICAgICAgICAgICAgICAgIHZhciBodG1sXzhjODVkY2E4MDM3NDQzMTI5MmY0ZTI5YjIxYWY2MjBjID0gJChgPGRpdiBpZD0iaHRtbF84Yzg1ZGNhODAzNzQ0MzEyOTJmNGUyOWIyMWFmNjIwYyIgc3R5bGU9IndpZHRoOiAxMDAuMCU7IGhlaWdodDogMTAwLjAlOyI+TGFpbSBDbHVzdGVyIDE8L2Rpdj5gKVswXTsKICAgICAgICAgICAgICAgIHBvcHVwXzgzMjQ5NmNkNzQ1NjRmZTQ4NjhkMjJhZTViMGRlNWU4LnNldENvbnRlbnQoaHRtbF84Yzg1ZGNhODAzNzQ0MzEyOTJmNGUyOWIyMWFmNjIwYyk7CiAgICAgICAgICAgIAoKICAgICAgICAgICAgY2lyY2xlX21hcmtlcl8wYWZkNWQ3NmQ4YzI0MDc0YmRiODdiZDY4NDZkNWFmNS5iaW5kUG9wdXAocG9wdXBfODMyNDk2Y2Q3NDU2NGZlNDg2OGQyMmFlNWIwZGU1ZTgpCiAgICAgICAgICAgIDsKCiAgICAgICAgICAgIAogICAgICAgIAogICAgCiAgICAgICAgICAgIHZhciBjaXJjbGVfbWFya2VyXzE0NDAxYTQwMDUxMjQwOTY4OWQxMjNmNmJiMjM2YjA3ID0gTC5jaXJjbGVNYXJrZXIoCiAgICAgICAgICAgICAgICBbNDguMTMwMzM5OCwgMTEuNTczMzY1OF0sCiAgICAgICAgICAgICAgICB7CiAgImJ1YmJsaW5nTW91c2VFdmVudHMiOiB0cnVlLAogICJjb2xvciI6ICJibGFjayIsCiAgImRhc2hBcnJheSI6IG51bGwsCiAgImRhc2hPZmZzZXQiOiBudWxsLAogICJmaWxsIjogdHJ1ZSwKICAiZmlsbENvbG9yIjogImJsYWNrIiwKICAiZmlsbE9wYWNpdHkiOiAwLjcsCiAgImZpbGxSdWxlIjogImV2ZW5vZGQiLAogICJsaW5lQ2FwIjogInJvdW5kIiwKICAibGluZUpvaW4iOiAicm91bmQiLAogICJvcGFjaXR5IjogMS4wLAogICJyYWRpdXMiOiAxMS42MjM2MjY4NDY0ODgyNTcsCiAgInN0cm9rZSI6IHRydWUsCiAgIndlaWdodCI6IDMKfQogICAgICAgICAgICAgICAgKQogICAgICAgICAgICAgICAgLmFkZFRvKG1hcF80ZDRkMDBkNTQ3Yzg0MjQ1YTY4MTg2Y2M4ZGM2OGE1ZCk7CiAgICAgICAgICAgIAogICAgCiAgICAgICAgICAgIHZhciBwb3B1cF9hYzg1YWFjN2YzMGU0Y2M3OTRmNTY1NGYyYjM5MGFhNSA9IEwucG9wdXAoe21heFdpZHRoOiAnMTAwJScKICAgICAgICAgICAgCiAgICAgICAgICAgIH0pOwoKICAgICAgICAgICAgCiAgICAgICAgICAgICAgICB2YXIgaHRtbF9hMzlhNGJhMjNhYmE0NDAzYjg3YWJjYWQ5YWVlYmVkOSA9ICQoYDxkaXYgaWQ9Imh0bWxfYTM5YTRiYTIzYWJhNDQwM2I4N2FiY2FkOWFlZWJlZDkiIHN0eWxlPSJ3aWR0aDogMTAwLjAlOyBoZWlnaHQ6IDEwMC4wJTsiPkx1ZHdpZ3N2b3JzdGFkdCAtIElzYXJ2b3JzdGFkdCBDbHVzdGVyIDE8L2Rpdj5gKVswXTsKICAgICAgICAgICAgICAgIHBvcHVwX2FjODVhYWM3ZjMwZTRjYzc5NGY1NjU0ZjJiMzkwYWE1LnNldENvbnRlbnQoaHRtbF9hMzlhNGJhMjNhYmE0NDAzYjg3YWJjYWQ5YWVlYmVkOSk7CiAgICAgICAgICAgIAoKICAgICAgICAgICAgY2lyY2xlX21hcmtlcl8xNDQwMWE0MDA1MTI0MDk2ODlkMTIzZjZiYjIzNmIwNy5iaW5kUG9wdXAocG9wdXBfYWM4NWFhYzdmMzBlNGNjNzk0ZjU2NTRmMmIzOTBhYTUpCiAgICAgICAgICAgIDsKCiAgICAgICAgICAgIAogICAgICAgIAogICAgCiAgICAgICAgICAgIHZhciBjaXJjbGVfbWFya2VyX2EyZTJhN2VmMTBmNzRiMDU5M2UxNzkwNDMyMDVmNmI0ID0gTC5jaXJjbGVNYXJrZXIoCiAgICAgICAgICAgICAgICBbNDguMTUxMDkxNiwgMTEuNTYyNDE3OV0sCiAgICAgICAgICAgICAgICB7CiAgImJ1YmJsaW5nTW91c2VFdmVudHMiOiB0cnVlLAogICJjb2xvciI6ICJibGFjayIsCiAgImRhc2hBcnJheSI6IG51bGwsCiAgImRhc2hPZmZzZXQiOiBudWxsLAogICJmaWxsIjogdHJ1ZSwKICAiZmlsbENvbG9yIjogImJsYWNrIiwKICAiZmlsbE9wYWNpdHkiOiAwLjcsCiAgImZpbGxSdWxlIjogImV2ZW5vZGQiLAogICJsaW5lQ2FwIjogInJvdW5kIiwKICAibGluZUpvaW4iOiAicm91bmQiLAogICJvcGFjaXR5IjogMS4wLAogICJyYWRpdXMiOiAxMi45ODYxODg4OTk4NzM4MjIsCiAgInN0cm9rZSI6IHRydWUsCiAgIndlaWdodCI6IDMKfQogICAgICAgICAgICAgICAgKQogICAgICAgICAgICAgICAgLmFkZFRvKG1hcF80ZDRkMDBkNTQ3Yzg0MjQ1YTY4MTg2Y2M4ZGM2OGE1ZCk7CiAgICAgICAgICAgIAogICAgCiAgICAgICAgICAgIHZhciBwb3B1cF8wN2QxODZmZTQ5NzE0MGEyYWIyOWI3NjM3ZDkxN2FkMCA9IEwucG9wdXAoe21heFdpZHRoOiAnMTAwJScKICAgICAgICAgICAgCiAgICAgICAgICAgIH0pOwoKICAgICAgICAgICAgCiAgICAgICAgICAgICAgICB2YXIgaHRtbF9kZDk2MjFjZDVjZjI0ZTI1OTRmZDYyNTM0MjcxNjc3NCA9ICQoYDxkaXYgaWQ9Imh0bWxfZGQ5NjIxY2Q1Y2YyNGUyNTk0ZmQ2MjUzNDI3MTY3NzQiIHN0eWxlPSJ3aWR0aDogMTAwLjAlOyBoZWlnaHQ6IDEwMC4wJTsiPk1heHZvcnN0YWR0IENsdXN0ZXIgMTwvZGl2PmApWzBdOwogICAgICAgICAgICAgICAgcG9wdXBfMDdkMTg2ZmU0OTcxNDBhMmFiMjliNzYzN2Q5MTdhZDAuc2V0Q29udGVudChodG1sX2RkOTYyMWNkNWNmMjRlMjU5NGZkNjI1MzQyNzE2Nzc0KTsKICAgICAgICAgICAgCgogICAgICAgICAgICBjaXJjbGVfbWFya2VyX2EyZTJhN2VmMTBmNzRiMDU5M2UxNzkwNDMyMDVmNmI0LmJpbmRQb3B1cChwb3B1cF8wN2QxODZmZTQ5NzE0MGEyYWIyOWI3NjM3ZDkxN2FkMCkKICAgICAgICAgICAgOwoKICAgICAgICAgICAgCiAgICAgICAgCiAgICAKICAgICAgICAgICAgdmFyIGNpcmNsZV9tYXJrZXJfOGUwNDI0YzAwODE4NDQ0Yzg0MDgxMmE5NWNiOTk2NTMgPSBMLmNpcmNsZU1hcmtlcigKICAgICAgICAgICAgICAgIFs0OC4xODIzODQ4LCAxMS41NzUwNDMyXSwKICAgICAgICAgICAgICAgIHsKICAiYnViYmxpbmdNb3VzZUV2ZW50cyI6IHRydWUsCiAgImNvbG9yIjogInJlZCIsCiAgImRhc2hBcnJheSI6IG51bGwsCiAgImRhc2hPZmZzZXQiOiBudWxsLAogICJmaWxsIjogdHJ1ZSwKICAiZmlsbENvbG9yIjogInJlZCIsCiAgImZpbGxPcGFjaXR5IjogMC43LAogICJmaWxsUnVsZSI6ICJldmVub2RkIiwKICAibGluZUNhcCI6ICJyb3VuZCIsCiAgImxpbmVKb2luIjogInJvdW5kIiwKICAib3BhY2l0eSI6IDEuMCwKICAicmFkaXVzIjogMTEuNjIzNjI2ODQ2NDg4MjU3LAogICJzdHJva2UiOiB0cnVlLAogICJ3ZWlnaHQiOiAzCn0KICAgICAgICAgICAgICAgICkKICAgICAgICAgICAgICAgIC5hZGRUbyhtYXBfNGQ0ZDAwZDU0N2M4NDI0NWE2ODE4NmNjOGRjNjhhNWQpOwogICAgICAgICAgICAKICAgIAogICAgICAgICAgICB2YXIgcG9wdXBfNjQ4YjQ4ZGM2ZDVjNDY5MWE2NWI0ZGNmMGEyZTJjODMgPSBMLnBvcHVwKHttYXhXaWR0aDogJzEwMCUnCiAgICAgICAgICAgIAogICAgICAgICAgICB9KTsKCiAgICAgICAgICAgIAogICAgICAgICAgICAgICAgdmFyIGh0bWxfMjIyNTBkMDNmODk1NGVkYWFiMTgyNzY3M2NlOWFlZDAgPSAkKGA8ZGl2IGlkPSJodG1sXzIyMjUwZDAzZjg5NTRlZGFhYjE4Mjc2NzNjZTlhZWQwIiBzdHlsZT0id2lkdGg6IDEwMC4wJTsgaGVpZ2h0OiAxMDAuMCU7Ij5NaWxiZXJ0c2hvZmVuIC0gQW0gSGFydCBDbHVzdGVyIDA8L2Rpdj5gKVswXTsKICAgICAgICAgICAgICAgIHBvcHVwXzY0OGI0OGRjNmQ1YzQ2OTFhNjViNGRjZjBhMmUyYzgzLnNldENvbnRlbnQoaHRtbF8yMjI1MGQwM2Y4OTU0ZWRhYWIxODI3NjczY2U5YWVkMCk7CiAgICAgICAgICAgIAoKICAgICAgICAgICAgY2lyY2xlX21hcmtlcl84ZTA0MjRjMDA4MTg0NDRjODQwODEyYTk1Y2I5OTY1My5iaW5kUG9wdXAocG9wdXBfNjQ4YjQ4ZGM2ZDVjNDY5MWE2NWI0ZGNmMGEyZTJjODMpCiAgICAgICAgICAgIDsKCiAgICAgICAgICAgIAogICAgICAgIAogICAgCiAgICAgICAgICAgIHZhciBjaXJjbGVfbWFya2VyX2E3ZWU0ZDNhZGZhYjQzOTRhYjZmNjhjZDk2NmNjYzNhID0gTC5jaXJjbGVNYXJrZXIoCiAgICAgICAgICAgICAgICBbNDguMDMxNzI1NSwgMTEuODc1Njc3NV0sCiAgICAgICAgICAgICAgICB7CiAgImJ1YmJsaW5nTW91c2VFdmVudHMiOiB0cnVlLAogICJjb2xvciI6ICJibGFjayIsCiAgImRhc2hBcnJheSI6IG51bGwsCiAgImRhc2hPZmZzZXQiOiBudWxsLAogICJmaWxsIjogdHJ1ZSwKICAiZmlsbENvbG9yIjogImJsYWNrIiwKICAiZmlsbE9wYWNpdHkiOiAwLjcsCiAgImZpbGxSdWxlIjogImV2ZW5vZGQiLAogICJsaW5lQ2FwIjogInJvdW5kIiwKICAibGluZUpvaW4iOiAicm91bmQiLAogICJvcGFjaXR5IjogMS4wLAogICJyYWRpdXMiOiAxMi44NDcxNTE5NTU2NTA4MDUsCiAgInN0cm9rZSI6IHRydWUsCiAgIndlaWdodCI6IDMKfQogICAgICAgICAgICAgICAgKQogICAgICAgICAgICAgICAgLmFkZFRvKG1hcF80ZDRkMDBkNTQ3Yzg0MjQ1YTY4MTg2Y2M4ZGM2OGE1ZCk7CiAgICAgICAgICAgIAogICAgCiAgICAgICAgICAgIHZhciBwb3B1cF81MGFkZTVjYWE3Nzc0YTQ2ODY5YjI5MmVmNDM2MzE2ZSA9IEwucG9wdXAoe21heFdpZHRoOiAnMTAwJScKICAgICAgICAgICAgCiAgICAgICAgICAgIH0pOwoKICAgICAgICAgICAgCiAgICAgICAgICAgICAgICB2YXIgaHRtbF9mNjhiZDNkYTBhYmQ0ZDRjOGM1MmNiMGIyMjdkMzk3NyA9ICQoYDxkaXYgaWQ9Imh0bWxfZjY4YmQzZGEwYWJkNGQ0YzhjNTJjYjBiMjI3ZDM5NzciIHN0eWxlPSJ3aWR0aDogMTAwLjAlOyBoZWlnaHQ6IDEwMC4wJTsiPk1vb3NhY2ggQ2x1c3RlciAxPC9kaXY+YClbMF07CiAgICAgICAgICAgICAgICBwb3B1cF81MGFkZTVjYWE3Nzc0YTQ2ODY5YjI5MmVmNDM2MzE2ZS5zZXRDb250ZW50KGh0bWxfZjY4YmQzZGEwYWJkNGQ0YzhjNTJjYjBiMjI3ZDM5NzcpOwogICAgICAgICAgICAKCiAgICAgICAgICAgIGNpcmNsZV9tYXJrZXJfYTdlZTRkM2FkZmFiNDM5NGFiNmY2OGNkOTY2Y2NjM2EuYmluZFBvcHVwKHBvcHVwXzUwYWRlNWNhYTc3NzRhNDY4NjliMjkyZWY0MzYzMTZlKQogICAgICAgICAgICA7CgogICAgICAgICAgICAKICAgICAgICAKICAgIAogICAgICAgICAgICB2YXIgY2lyY2xlX21hcmtlcl8zMGRjZjMyZjY2Nzg0MTc2YjY1MTVhM2ZhYmIxNTFhYyA9IEwuY2lyY2xlTWFya2VyKAogICAgICAgICAgICAgICAgWzQ4LjE1NDIyMTcsIDExLjUzMTUxNzJdLAogICAgICAgICAgICAgICAgewogICJidWJibGluZ01vdXNlRXZlbnRzIjogdHJ1ZSwKICAiY29sb3IiOiAiYmx1ZSIsCiAgImRhc2hBcnJheSI6IG51bGwsCiAgImRhc2hPZmZzZXQiOiBudWxsLAogICJmaWxsIjogdHJ1ZSwKICAiZmlsbENvbG9yIjogImJsdWUiLAogICJmaWxsT3BhY2l0eSI6IDAuNywKICAiZmlsbFJ1bGUiOiAiZXZlbm9kZCIsCiAgImxpbmVDYXAiOiAicm91bmQiLAogICJsaW5lSm9pbiI6ICJyb3VuZCIsCiAgIm9wYWNpdHkiOiAxLjAsCiAgInJhZGl1cyI6IDIwLjYxOTMxNzEzNzcxNzQ1MiwKICAic3Ryb2tlIjogdHJ1ZSwKICAid2VpZ2h0IjogMwp9CiAgICAgICAgICAgICAgICApCiAgICAgICAgICAgICAgICAuYWRkVG8obWFwXzRkNGQwMGQ1NDdjODQyNDVhNjgxODZjYzhkYzY4YTVkKTsKICAgICAgICAgICAgCiAgICAKICAgICAgICAgICAgdmFyIHBvcHVwXzg2OWQyOTYyNzk5NzRiZjhhMDNjNmM0ZWI5MmZiNTcyID0gTC5wb3B1cCh7bWF4V2lkdGg6ICcxMDAlJwogICAgICAgICAgICAKICAgICAgICAgICAgfSk7CgogICAgICAgICAgICAKICAgICAgICAgICAgICAgIHZhciBodG1sX2VkMDY1NmZhOWUwMTRhMWU5YTQ0MTEzM2UzYjk0YmQ3ID0gJChgPGRpdiBpZD0iaHRtbF9lZDA2NTZmYTllMDE0YTFlOWE0NDExMzNlM2I5NGJkNyIgc3R5bGU9IndpZHRoOiAxMDAuMCU7IGhlaWdodDogMTAwLjAlOyI+TmV1aGF1c2VuIC0gTnltcGhlbmJ1cmcgQ2x1c3RlciAyPC9kaXY+YClbMF07CiAgICAgICAgICAgICAgICBwb3B1cF84NjlkMjk2Mjc5OTc0YmY4YTAzYzZjNGViOTJmYjU3Mi5zZXRDb250ZW50KGh0bWxfZWQwNjU2ZmE5ZTAxNGExZTlhNDQxMTMzZTNiOTRiZDcpOwogICAgICAgICAgICAKCiAgICAgICAgICAgIGNpcmNsZV9tYXJrZXJfMzBkY2YzMmY2Njc4NDE3NmI2NTE1YTNmYWJiMTUxYWMuYmluZFBvcHVwKHBvcHVwXzg2OWQyOTYyNzk5NzRiZjhhMDNjNmM0ZWI5MmZiNTcyKQogICAgICAgICAgICA7CgogICAgICAgICAgICAKICAgICAgICAKICAgIAogICAgICAgICAgICB2YXIgY2lyY2xlX21hcmtlcl82YjIyZDJhNzNhMmE0ODgxOThiNzQ3Y2RlMjYyMWYxMSA9IEwuY2lyY2xlTWFya2VyKAogICAgICAgICAgICAgICAgWzQ4LjExMTE1NTcsIDExLjU4ODkwOTNdLAogICAgICAgICAgICAgICAgewogICJidWJibGluZ01vdXNlRXZlbnRzIjogdHJ1ZSwKICAiY29sb3IiOiAicmVkIiwKICAiZGFzaEFycmF5IjogbnVsbCwKICAiZGFzaE9mZnNldCI6IG51bGwsCiAgImZpbGwiOiB0cnVlLAogICJmaWxsQ29sb3IiOiAicmVkIiwKICAiZmlsbE9wYWNpdHkiOiAwLjcsCiAgImZpbGxSdWxlIjogImV2ZW5vZGQiLAogICJsaW5lQ2FwIjogInJvdW5kIiwKICAibGluZUpvaW4iOiAicm91bmQiLAogICJvcGFjaXR5IjogMS4wLAogICJyYWRpdXMiOiAxMS45NDM0MTE4MTgyMDExOTUsCiAgInN0cm9rZSI6IHRydWUsCiAgIndlaWdodCI6IDMKfQogICAgICAgICAgICAgICAgKQogICAgICAgICAgICAgICAgLmFkZFRvKG1hcF80ZDRkMDBkNTQ3Yzg0MjQ1YTY4MTg2Y2M4ZGM2OGE1ZCk7CiAgICAgICAgICAgIAogICAgCiAgICAgICAgICAgIHZhciBwb3B1cF8zZDQ2MzE2YzA2MGI0OWI1OWQwMDU4N2QxNmI4YTc3YyA9IEwucG9wdXAoe21heFdpZHRoOiAnMTAwJScKICAgICAgICAgICAgCiAgICAgICAgICAgIH0pOwoKICAgICAgICAgICAgCiAgICAgICAgICAgICAgICB2YXIgaHRtbF8xYjBkNDk0ZTM1ZDA0YThhOTNhNDk1MjdiYWQ0ZDk4YSA9ICQoYDxkaXYgaWQ9Imh0bWxfMWIwZDQ5NGUzNWQwNGE4YTkzYTQ5NTI3YmFkNGQ5OGEiIHN0eWxlPSJ3aWR0aDogMTAwLjAlOyBoZWlnaHQ6IDEwMC4wJTsiPk9iZXJnaWVzaW5nIC0gRmFzYW5nYXJ0ZW4gQ2x1c3RlciAwPC9kaXY+YClbMF07CiAgICAgICAgICAgICAgICBwb3B1cF8zZDQ2MzE2YzA2MGI0OWI1OWQwMDU4N2QxNmI4YTc3Yy5zZXRDb250ZW50KGh0bWxfMWIwZDQ5NGUzNWQwNGE4YTkzYTQ5NTI3YmFkNGQ5OGEpOwogICAgICAgICAgICAKCiAgICAgICAgICAgIGNpcmNsZV9tYXJrZXJfNmIyMmQyYTczYTJhNDg4MTk4Yjc0N2NkZTI2MjFmMTEuYmluZFBvcHVwKHBvcHVwXzNkNDYzMTZjMDYwYjQ5YjU5ZDAwNTg3ZDE2YjhhNzdjKQogICAgICAgICAgICA7CgogICAgICAgICAgICAKICAgICAgICAKICAgIAogICAgICAgICAgICB2YXIgY2lyY2xlX21hcmtlcl9lNDJjNzkzMjA0ZjQ0M2U1YTdjYzUwOWQ4MTJmNGYxMyA9IEwuY2lyY2xlTWFya2VyKAogICAgICAgICAgICAgICAgWzQ4LjE1MjM2Mjc1LCAxMS40Njg0MzQwODUwNDk3MTNdLAogICAgICAgICAgICAgICAgewogICJidWJibGluZ01vdXNlRXZlbnRzIjogdHJ1ZSwKICAiY29sb3IiOiAiYmx1ZSIsCiAgImRhc2hBcnJheSI6IG51bGwsCiAgImRhc2hPZmZzZXQiOiBudWxsLAogICJmaWxsIjogdHJ1ZSwKICAiZmlsbENvbG9yIjogImJsdWUiLAogICJmaWxsT3BhY2l0eSI6IDAuNywKICAiZmlsbFJ1bGUiOiAiZXZlbm9kZCIsCiAgImxpbmVDYXAiOiAicm91bmQiLAogICJsaW5lSm9pbiI6ICJyb3VuZCIsCiAgIm9wYWNpdHkiOiAxLjAsCiAgInJhZGl1cyI6IDE5LjU3NjU0MDA1NjA0NDgyNCwKICAic3Ryb2tlIjogdHJ1ZSwKICAid2VpZ2h0IjogMwp9CiAgICAgICAgICAgICAgICApCiAgICAgICAgICAgICAgICAuYWRkVG8obWFwXzRkNGQwMGQ1NDdjODQyNDVhNjgxODZjYzhkYzY4YTVkKTsKICAgICAgICAgICAgCiAgICAKICAgICAgICAgICAgdmFyIHBvcHVwX2U4NTRiMGVlNDI4NjRiNGVhYzg2MzQ2YjUwMWY5OGRmID0gTC5wb3B1cCh7bWF4V2lkdGg6ICcxMDAlJwogICAgICAgICAgICAKICAgICAgICAgICAgfSk7CgogICAgICAgICAgICAKICAgICAgICAgICAgICAgIHZhciBodG1sXzg5NDE3YTFiZDlkZTQyMzQ5NzQ3NjUxMjJkN2E1YTk0ID0gJChgPGRpdiBpZD0iaHRtbF84OTQxN2ExYmQ5ZGU0MjM0OTc0NzY1MTIyZDdhNWE5NCIgc3R5bGU9IndpZHRoOiAxMDAuMCU7IGhlaWdodDogMTAwLjAlOyI+UGFzaW5nIC0gT2Jlcm1lbnppbmcgQ2x1c3RlciAyPC9kaXY+YClbMF07CiAgICAgICAgICAgICAgICBwb3B1cF9lODU0YjBlZTQyODY0YjRlYWM4NjM0NmI1MDFmOThkZi5zZXRDb250ZW50KGh0bWxfODk0MTdhMWJkOWRlNDIzNDk3NDc2NTEyMmQ3YTVhOTQpOwogICAgICAgICAgICAKCiAgICAgICAgICAgIGNpcmNsZV9tYXJrZXJfZTQyYzc5MzIwNGY0NDNlNWE3Y2M1MDlkODEyZjRmMTMuYmluZFBvcHVwKHBvcHVwX2U4NTRiMGVlNDI4NjRiNGVhYzg2MzQ2YjUwMWY5OGRmKQogICAgICAgICAgICA7CgogICAgICAgICAgICAKICAgICAgICAKICAgIAogICAgICAgICAgICB2YXIgY2lyY2xlX21hcmtlcl85ZDUzNjcyOWRhMjc0YmEyYWM2Mzk0NWQzZmUzNTc3ZCA9IEwuY2lyY2xlTWFya2VyKAogICAgICAgICAgICAgICAgWzQ4LjEwMDg5NDI0OTk5OTk5NiwgMTEuNjMzMzcwOTA3NzUzMzU2XSwKICAgICAgICAgICAgICAgIHsKICAiYnViYmxpbmdNb3VzZUV2ZW50cyI6IHRydWUsCiAgImNvbG9yIjogImJsdWUiLAogICJkYXNoQXJyYXkiOiBudWxsLAogICJkYXNoT2Zmc2V0IjogbnVsbCwKICAiZmlsbCI6IHRydWUsCiAgImZpbGxDb2xvciI6ICJibHVlIiwKICAiZmlsbE9wYWNpdHkiOiAwLjcsCiAgImZpbGxSdWxlIjogImV2ZW5vZGQiLAogICJsaW5lQ2FwIjogInJvdW5kIiwKICAibGluZUpvaW4iOiAicm91bmQiLAogICJvcGFjaXR5IjogMS4wLAogICJyYWRpdXMiOiAyMy43ODkzNTk0NjYwMDIyNCwKICAic3Ryb2tlIjogdHJ1ZSwKICAid2VpZ2h0IjogMwp9CiAgICAgICAgICAgICAgICApCiAgICAgICAgICAgICAgICAuYWRkVG8obWFwXzRkNGQwMGQ1NDdjODQyNDVhNjgxODZjYzhkYzY4YTVkKTsKICAgICAgICAgICAgCiAgICAKICAgICAgICAgICAgdmFyIHBvcHVwXzkyYWRkMTM0OTgzNzRhYjk5NzhiZDgyM2EwODMwNDY2ID0gTC5wb3B1cCh7bWF4V2lkdGg6ICcxMDAlJwogICAgICAgICAgICAKICAgICAgICAgICAgfSk7CgogICAgICAgICAgICAKICAgICAgICAgICAgICAgIHZhciBodG1sXzJkNjIxYTUwMGI4NTRhN2U4ZGZhMTIzYjM4ODRmNDhkID0gJChgPGRpdiBpZD0iaHRtbF8yZDYyMWE1MDBiODU0YTdlOGRmYTEyM2IzODg0ZjQ4ZCIgc3R5bGU9IndpZHRoOiAxMDAuMCU7IGhlaWdodDogMTAwLjAlOyI+UmFtZXJzZG9yZiAtIFBlcmxhY2ggQ2x1c3RlciAyPC9kaXY+YClbMF07CiAgICAgICAgICAgICAgICBwb3B1cF85MmFkZDEzNDk4Mzc0YWI5OTc4YmQ4MjNhMDgzMDQ2Ni5zZXRDb250ZW50KGh0bWxfMmQ2MjFhNTAwYjg1NGE3ZThkZmExMjNiMzg4NGY0OGQpOwogICAgICAgICAgICAKCiAgICAgICAgICAgIGNpcmNsZV9tYXJrZXJfOWQ1MzY3MjlkYTI3NGJhMmFjNjM5NDVkM2ZlMzU3N2QuYmluZFBvcHVwKHBvcHVwXzkyYWRkMTM0OTgzNzRhYjk5NzhiZDgyM2EwODMwNDY2KQogICAgICAgICAgICA7CgogICAgICAgICAgICAKICAgICAgICAKICAgIAogICAgICAgICAgICB2YXIgY2lyY2xlX21hcmtlcl9lYzNmMWEzY2IzNWY0NGNiOTA1ZThkNDFkYjFiY2MzZCA9IEwuY2lyY2xlTWFya2VyKAogICAgICAgICAgICAgICAgWzQ4LjE4OTI3ODQsIDExLjYwODU4MjU4MzAxODE5XSwKICAgICAgICAgICAgICAgIHsKICAiYnViYmxpbmdNb3VzZUV2ZW50cyI6IHRydWUsCiAgImNvbG9yIjogImJsdWUiLAogICJkYXNoQXJyYXkiOiBudWxsLAogICJkYXNoT2Zmc2V0IjogbnVsbCwKICAiZmlsbCI6IHRydWUsCiAgImZpbGxDb2xvciI6ICJibHVlIiwKICAiZmlsbE9wYWNpdHkiOiAwLjcsCiAgImZpbGxSdWxlIjogImV2ZW5vZGQiLAogICJsaW5lQ2FwIjogInJvdW5kIiwKICAibGluZUpvaW4iOiAicm91bmQiLAogICJvcGFjaXR5IjogMS4wLAogICJyYWRpdXMiOiAxOC41MzM3NjI5NzQzNzIyLAogICJzdHJva2UiOiB0cnVlLAogICJ3ZWlnaHQiOiAzCn0KICAgICAgICAgICAgICAgICkKICAgICAgICAgICAgICAgIC5hZGRUbyhtYXBfNGQ0ZDAwZDU0N2M4NDI0NWE2ODE4NmNjOGRjNjhhNWQpOwogICAgICAgICAgICAKICAgIAogICAgICAgICAgICB2YXIgcG9wdXBfOGJiOTIyYWQyZDE4NGFmOTk3MDljNWU3MzI3ZTBkN2QgPSBMLnBvcHVwKHttYXhXaWR0aDogJzEwMCUnCiAgICAgICAgICAgIAogICAgICAgICAgICB9KTsKCiAgICAgICAgICAgIAogICAgICAgICAgICAgICAgdmFyIGh0bWxfNzRjYzM5OGU1OThhNGI4MDhjNDZmZmZhMzRiZWQ3MWEgPSAkKGA8ZGl2IGlkPSJodG1sXzc0Y2MzOThlNTk4YTRiODA4YzQ2ZmZmYTM0YmVkNzFhIiBzdHlsZT0id2lkdGg6IDEwMC4wJTsgaGVpZ2h0OiAxMDAuMCU7Ij5TY2h3YWJpbmcgLSBGcmVpbWFubiBDbHVzdGVyIDI8L2Rpdj5gKVswXTsKICAgICAgICAgICAgICAgIHBvcHVwXzhiYjkyMmFkMmQxODRhZjk5NzA5YzVlNzMyN2UwZDdkLnNldENvbnRlbnQoaHRtbF83NGNjMzk4ZTU5OGE0YjgwOGM0NmZmZmEzNGJlZDcxYSk7CiAgICAgICAgICAgIAoKICAgICAgICAgICAgY2lyY2xlX21hcmtlcl9lYzNmMWEzY2IzNWY0NGNiOTA1ZThkNDFkYjFiY2MzZC5iaW5kUG9wdXAocG9wdXBfOGJiOTIyYWQyZDE4NGFmOTk3MDljNWU3MzI3ZTBkN2QpCiAgICAgICAgICAgIDsKCiAgICAgICAgICAgIAogICAgICAgIAogICAgCiAgICAgICAgICAgIHZhciBjaXJjbGVfbWFya2VyX2VhNDYwYTk0ZjlhZTQ4MzZhMTc2MGZlMDBmMTNmNTZkID0gTC5jaXJjbGVNYXJrZXIoCiAgICAgICAgICAgICAgICBbNDguMTY4MjcwOSwgMTEuNTY5ODcyN10sCiAgICAgICAgICAgICAgICB7CiAgImJ1YmJsaW5nTW91c2VFdmVudHMiOiB0cnVlLAogICJjb2xvciI6ICJibGFjayIsCiAgImRhc2hBcnJheSI6IG51bGwsCiAgImRhc2hPZmZzZXQiOiBudWxsLAogICJmaWxsIjogdHJ1ZSwKICAiZmlsbENvbG9yIjogImJsYWNrIiwKICAiZmlsbE9wYWNpdHkiOiAwLjcsCiAgImZpbGxSdWxlIjogImV2ZW5vZGQiLAogICJsaW5lQ2FwIjogInJvdW5kIiwKICAibGluZUpvaW4iOiAicm91bmQiLAogICJvcGFjaXR5IjogMS4wLAogICJyYWRpdXMiOiAxMy44NzYwMjUzNDI5MDExMywKICAic3Ryb2tlIjogdHJ1ZSwKICAid2VpZ2h0IjogMwp9CiAgICAgICAgICAgICAgICApCiAgICAgICAgICAgICAgICAuYWRkVG8obWFwXzRkNGQwMGQ1NDdjODQyNDVhNjgxODZjYzhkYzY4YTVkKTsKICAgICAgICAgICAgCiAgICAKICAgICAgICAgICAgdmFyIHBvcHVwX2I2NGRkMTUxMmZjZTQxMTk4NmM0N2Y3M2NhYWVlNGE0ID0gTC5wb3B1cCh7bWF4V2lkdGg6ICcxMDAlJwogICAgICAgICAgICAKICAgICAgICAgICAgfSk7CgogICAgICAgICAgICAKICAgICAgICAgICAgICAgIHZhciBodG1sXzc0Mzc5ZTViN2RmZTRhNjQ5YjQzZmQ3NTU5ZWIxNjk2ID0gJChgPGRpdiBpZD0iaHRtbF83NDM3OWU1YjdkZmU0YTY0OWI0M2ZkNzU1OWViMTY5NiIgc3R5bGU9IndpZHRoOiAxMDAuMCU7IGhlaWdodDogMTAwLjAlOyI+U2Nod2FiaW5nIC0gV2VzdCBDbHVzdGVyIDE8L2Rpdj5gKVswXTsKICAgICAgICAgICAgICAgIHBvcHVwX2I2NGRkMTUxMmZjZTQxMTk4NmM0N2Y3M2NhYWVlNGE0LnNldENvbnRlbnQoaHRtbF83NDM3OWU1YjdkZmU0YTY0OWI0M2ZkNzU1OWViMTY5Nik7CiAgICAgICAgICAgIAoKICAgICAgICAgICAgY2lyY2xlX21hcmtlcl9lYTQ2MGE5NGY5YWU0ODM2YTE3NjBmZTAwZjEzZjU2ZC5iaW5kUG9wdXAocG9wdXBfYjY0ZGQxNTEyZmNlNDExOTg2YzQ3ZjczY2FhZWU0YTQpCiAgICAgICAgICAgIDsKCiAgICAgICAgICAgIAogICAgICAgIAogICAgCiAgICAgICAgICAgIHZhciBjaXJjbGVfbWFya2VyX2VmZmVjZDg3NDk2OTRlNjBhODYxNjM4ZmM4ZjFhZTg4ID0gTC5jaXJjbGVNYXJrZXIoCiAgICAgICAgICAgICAgICBbNDguMTMzNzgyMiwgMTEuNTQxMDU2Nl0sCiAgICAgICAgICAgICAgICB7CiAgImJ1YmJsaW5nTW91c2VFdmVudHMiOiB0cnVlLAogICJjb2xvciI6ICJyZWQiLAogICJkYXNoQXJyYXkiOiBudWxsLAogICJkYXNoT2Zmc2V0IjogbnVsbCwKICAiZmlsbCI6IHRydWUsCiAgImZpbGxDb2xvciI6ICJyZWQiLAogICJmaWxsT3BhY2l0eSI6IDAuNywKICAiZmlsbFJ1bGUiOiAiZXZlbm9kZCIsCiAgImxpbmVDYXAiOiAicm91bmQiLAogICJsaW5lSm9pbiI6ICJyb3VuZCIsCiAgIm9wYWNpdHkiOiAxLjAsCiAgInJhZGl1cyI6IDcuNDY2NDIyMjE0MjIwMDUyLAogICJzdHJva2UiOiB0cnVlLAogICJ3ZWlnaHQiOiAzCn0KICAgICAgICAgICAgICAgICkKICAgICAgICAgICAgICAgIC5hZGRUbyhtYXBfNGQ0ZDAwZDU0N2M4NDI0NWE2ODE4NmNjOGRjNjhhNWQpOwogICAgICAgICAgICAKICAgIAogICAgICAgICAgICB2YXIgcG9wdXBfZTczMDQ5NWM3YjBkNDU3ZWJkN2RlZGEyYWE1NTk1ODYgPSBMLnBvcHVwKHttYXhXaWR0aDogJzEwMCUnCiAgICAgICAgICAgIAogICAgICAgICAgICB9KTsKCiAgICAgICAgICAgIAogICAgICAgICAgICAgICAgdmFyIGh0bWxfOTYzMzM4ODkzZTczNDAwNjkxZWI2Y2Y3YWVlMGFiNDMgPSAkKGA8ZGl2IGlkPSJodG1sXzk2MzMzODg5M2U3MzQwMDY5MWViNmNmN2FlZTBhYjQzIiBzdHlsZT0id2lkdGg6IDEwMC4wJTsgaGVpZ2h0OiAxMDAuMCU7Ij5TY2h3YW50aGFsZXJow7ZoZSBDbHVzdGVyIDA8L2Rpdj5gKVswXTsKICAgICAgICAgICAgICAgIHBvcHVwX2U3MzA0OTVjN2IwZDQ1N2ViZDdkZWRhMmFhNTU5NTg2LnNldENvbnRlbnQoaHRtbF85NjMzMzg4OTNlNzM0MDA2OTFlYjZjZjdhZWUwYWI0Myk7CiAgICAgICAgICAgIAoKICAgICAgICAgICAgY2lyY2xlX21hcmtlcl9lZmZlY2Q4NzQ5Njk0ZTYwYTg2MTYzOGZjOGYxYWU4OC5iaW5kUG9wdXAocG9wdXBfZTczMDQ5NWM3YjBkNDU3ZWJkN2RlZGEyYWE1NTk1ODYpCiAgICAgICAgICAgIDsKCiAgICAgICAgICAgIAogICAgICAgIAogICAgCiAgICAgICAgICAgIHZhciBjaXJjbGVfbWFya2VyXzIxNWYwZTZlNTA5ZjRjMGU4ZDgwMmQ0Yjg0MjVkMWViID0gTC5jaXJjbGVNYXJrZXIoCiAgICAgICAgICAgICAgICBbNDguMTE4MDEyNSwgMTEuNTM5MDgzMl0sCiAgICAgICAgICAgICAgICB7CiAgImJ1YmJsaW5nTW91c2VFdmVudHMiOiB0cnVlLAogICJjb2xvciI6ICJyZWQiLAogICJkYXNoQXJyYXkiOiBudWxsLAogICJkYXNoT2Zmc2V0IjogbnVsbCwKICAiZmlsbCI6IHRydWUsCiAgImZpbGxDb2xvciI6ICJyZWQiLAogICJmaWxsT3BhY2l0eSI6IDAuNywKICAiZmlsbFJ1bGUiOiAiZXZlbm9kZCIsCiAgImxpbmVDYXAiOiAicm91bmQiLAogICJsaW5lSm9pbiI6ICJyb3VuZCIsCiAgIm9wYWNpdHkiOiAxLjAsCiAgInJhZGl1cyI6IDkuNzE4ODIwNzEwNjMyOTI2LAogICJzdHJva2UiOiB0cnVlLAogICJ3ZWlnaHQiOiAzCn0KICAgICAgICAgICAgICAgICkKICAgICAgICAgICAgICAgIC5hZGRUbyhtYXBfNGQ0ZDAwZDU0N2M4NDI0NWE2ODE4NmNjOGRjNjhhNWQpOwogICAgICAgICAgICAKICAgIAogICAgICAgICAgICB2YXIgcG9wdXBfZTg1Y2FkY2UxNTk5NDQ3YTg4YjdiMDJjNTRjZDljNDMgPSBMLnBvcHVwKHttYXhXaWR0aDogJzEwMCUnCiAgICAgICAgICAgIAogICAgICAgICAgICB9KTsKCiAgICAgICAgICAgIAogICAgICAgICAgICAgICAgdmFyIGh0bWxfNDA4YWE0OWE0NTQ2NGVkNDgzOTc2MGNhN2M3OTFjNmUgPSAkKGA8ZGl2IGlkPSJodG1sXzQwOGFhNDlhNDU0NjRlZDQ4Mzk3NjBjYTdjNzkxYzZlIiBzdHlsZT0id2lkdGg6IDEwMC4wJTsgaGVpZ2h0OiAxMDAuMCU7Ij5TZW5kbGluZyBDbHVzdGVyIDA8L2Rpdj5gKVswXTsKICAgICAgICAgICAgICAgIHBvcHVwX2U4NWNhZGNlMTU5OTQ0N2E4OGI3YjAyYzU0Y2Q5YzQzLnNldENvbnRlbnQoaHRtbF80MDhhYTQ5YTQ1NDY0ZWQ0ODM5NzYwY2E3Yzc5MWM2ZSk7CiAgICAgICAgICAgIAoKICAgICAgICAgICAgY2lyY2xlX21hcmtlcl8yMTVmMGU2ZTUwOWY0YzBlOGQ4MDJkNGI4NDI1ZDFlYi5iaW5kUG9wdXAocG9wdXBfZTg1Y2FkY2UxNTk5NDQ3YTg4YjdiMDJjNTRjZDljNDMpCiAgICAgICAgICAgIDsKCiAgICAgICAgICAgIAogICAgICAgIAogICAgCiAgICAgICAgICAgIHZhciBjaXJjbGVfbWFya2VyXzI1OTYwZjgxMTliZjQzZDNiMDYzZDY0MWY3NDQwM2JlID0gTC5jaXJjbGVNYXJrZXIoCiAgICAgICAgICAgICAgICBbNDguMTE4MDMwODUsIDExLjUxOTMzMjc3MDI4NDEyOF0sCiAgICAgICAgICAgICAgICB7CiAgImJ1YmJsaW5nTW91c2VFdmVudHMiOiB0cnVlLAogICJjb2xvciI6ICJibGFjayIsCiAgImRhc2hBcnJheSI6IG51bGwsCiAgImRhc2hPZmZzZXQiOiBudWxsLAogICJmaWxsIjogdHJ1ZSwKICAiZmlsbENvbG9yIjogImJsYWNrIiwKICAiZmlsbE9wYWNpdHkiOiAwLjcsCiAgImZpbGxSdWxlIjogImV2ZW5vZGQiLAogICJsaW5lQ2FwIjogInJvdW5kIiwKICAibGluZUpvaW4iOiAicm91bmQiLAogICJvcGFjaXR5IjogMS4wLAogICJyYWRpdXMiOiAxMy4zNjE1ODg2NDkyNzU5NywKICAic3Ryb2tlIjogdHJ1ZSwKICAid2VpZ2h0IjogMwp9CiAgICAgICAgICAgICAgICApCiAgICAgICAgICAgICAgICAuYWRkVG8obWFwXzRkNGQwMGQ1NDdjODQyNDVhNjgxODZjYzhkYzY4YTVkKTsKICAgICAgICAgICAgCiAgICAKICAgICAgICAgICAgdmFyIHBvcHVwX2JiMDY4YmE1ZGI2NTRhYjE5MDUyYTdkZTg1ZGMxZmQzID0gTC5wb3B1cCh7bWF4V2lkdGg6ICcxMDAlJwogICAgICAgICAgICAKICAgICAgICAgICAgfSk7CgogICAgICAgICAgICAKICAgICAgICAgICAgICAgIHZhciBodG1sX2MxYzI0YTU1MGIzMjQ3ZjliM2I3YTk3NmRjMzU3MDI2ID0gJChgPGRpdiBpZD0iaHRtbF9jMWMyNGE1NTBiMzI0N2Y5YjNiN2E5NzZkYzM1NzAyNiIgc3R5bGU9IndpZHRoOiAxMDAuMCU7IGhlaWdodDogMTAwLjAlOyI+U2VuZGxpbmcgLSBXZXN0cGFyayBDbHVzdGVyIDE8L2Rpdj5gKVswXTsKICAgICAgICAgICAgICAgIHBvcHVwX2JiMDY4YmE1ZGI2NTRhYjE5MDUyYTdkZTg1ZGMxZmQzLnNldENvbnRlbnQoaHRtbF9jMWMyNGE1NTBiMzI0N2Y5YjNiN2E5NzZkYzM1NzAyNik7CiAgICAgICAgICAgIAoKICAgICAgICAgICAgY2lyY2xlX21hcmtlcl8yNTk2MGY4MTE5YmY0M2QzYjA2M2Q2NDFmNzQ0MDNiZS5iaW5kUG9wdXAocG9wdXBfYmIwNjhiYTVkYjY1NGFiMTkwNTJhN2RlODVkYzFmZDMpCiAgICAgICAgICAgIDsKCiAgICAgICAgICAgIAogICAgICAgIAogICAgCiAgICAgICAgICAgIHZhciBjaXJjbGVfbWFya2VyX2U2YWRlZDgzMDFiODQ3NWNhOGZlNTIxYmQzZmY2YjE1ID0gTC5jaXJjbGVNYXJrZXIoCiAgICAgICAgICAgICAgICBbNDguMDg0MjEzMywgMTEuNTA4MDUwOTkzNDk2MDEyXSwKICAgICAgICAgICAgICAgIHsKICAiYnViYmxpbmdNb3VzZUV2ZW50cyI6IHRydWUsCiAgImNvbG9yIjogImJsdWUiLAogICJkYXNoQXJyYXkiOiBudWxsLAogICJkYXNoT2Zmc2V0IjogbnVsbCwKICAiZmlsbCI6IHRydWUsCiAgImZpbGxDb2xvciI6ICJibHVlIiwKICAiZmlsbE9wYWNpdHkiOiAwLjcsCiAgImZpbGxSdWxlIjogImV2ZW5vZGQiLAogICJsaW5lQ2FwIjogInJvdW5kIiwKICAibGluZUpvaW4iOiAicm91bmQiLAogICJvcGFjaXR5IjogMS4wLAogICJyYWRpdXMiOiAyNS42NTI0NTQ1MTg1OTA2NjYsCiAgInN0cm9rZSI6IHRydWUsCiAgIndlaWdodCI6IDMKfQogICAgICAgICAgICAgICAgKQogICAgICAgICAgICAgICAgLmFkZFRvKG1hcF80ZDRkMDBkNTQ3Yzg0MjQ1YTY4MTg2Y2M4ZGM2OGE1ZCk7CiAgICAgICAgICAgIAogICAgCiAgICAgICAgICAgIHZhciBwb3B1cF9iNTMwYjUyMDk2MDM0NGNkYmMwNmQxNDg0M2RiNDRmNyA9IEwucG9wdXAoe21heFdpZHRoOiAnMTAwJScKICAgICAgICAgICAgCiAgICAgICAgICAgIH0pOwoKICAgICAgICAgICAgCiAgICAgICAgICAgICAgICB2YXIgaHRtbF8xNzE0OGNjYTgyOGQ0MmFkYjNjMDIxMGIwNTU1MDNhYyA9ICQoYDxkaXYgaWQ9Imh0bWxfMTcxNDhjY2E4MjhkNDJhZGIzYzAyMTBiMDU1NTAzYWMiIHN0eWxlPSJ3aWR0aDogMTAwLjAlOyBoZWlnaHQ6IDEwMC4wJTsiPlRoYWxraXJjaGVuIC0gT2JlcnNlbmRsaW5nIC0gRm9yc3RlbnJpZWQgLSBGw7xyc3RlbnJpZWQgLSBTb2xsbiBDbHVzdGVyIDI8L2Rpdj5gKVswXTsKICAgICAgICAgICAgICAgIHBvcHVwX2I1MzBiNTIwOTYwMzQ0Y2RiYzA2ZDE0ODQzZGI0NGY3LnNldENvbnRlbnQoaHRtbF8xNzE0OGNjYTgyOGQ0MmFkYjNjMDIxMGIwNTU1MDNhYyk7CiAgICAgICAgICAgIAoKICAgICAgICAgICAgY2lyY2xlX21hcmtlcl9lNmFkZWQ4MzAxYjg0NzVjYThmZTUyMWJkM2ZmNmIxNS5iaW5kUG9wdXAocG9wdXBfYjUzMGI1MjA5NjAzNDRjZGJjMDZkMTQ4NDNkYjQ0ZjcpCiAgICAgICAgICAgIDsKCiAgICAgICAgICAgIAogICAgICAgIAogICAgCiAgICAgICAgICAgIHZhciBjaXJjbGVfbWFya2VyXzAwYmU4NjNjZTQ4MDRjYTViODhlYzdiYjBiYjlkMGE1ID0gTC5jaXJjbGVNYXJrZXIoCiAgICAgICAgICAgICAgICBbNDguMTIzMTc0OSwgMTEuNjY0MDc4Ml0sCiAgICAgICAgICAgICAgICB7CiAgImJ1YmJsaW5nTW91c2VFdmVudHMiOiB0cnVlLAogICJjb2xvciI6ICJibHVlIiwKICAiZGFzaEFycmF5IjogbnVsbCwKICAiZGFzaE9mZnNldCI6IG51bGwsCiAgImZpbGwiOiB0cnVlLAogICJmaWxsQ29sb3IiOiAiYmx1ZSIsCiAgImZpbGxPcGFjaXR5IjogMC43LAogICJmaWxsUnVsZSI6ICJldmVub2RkIiwKICAibGluZUNhcCI6ICJyb3VuZCIsCiAgImxpbmVKb2luIjogInJvdW5kIiwKICAib3BhY2l0eSI6IDEuMCwKICAicmFkaXVzIjogMjMuMDUyNDYzNjYxNjIwMjQ4LAogICJzdHJva2UiOiB0cnVlLAogICJ3ZWlnaHQiOiAzCn0KICAgICAgICAgICAgICAgICkKICAgICAgICAgICAgICAgIC5hZGRUbyhtYXBfNGQ0ZDAwZDU0N2M4NDI0NWE2ODE4NmNjOGRjNjhhNWQpOwogICAgICAgICAgICAKICAgIAogICAgICAgICAgICB2YXIgcG9wdXBfNmMyNTEyMDIzOTVhNDJhNWE5ZTIzZjFhNWViN2RiZjEgPSBMLnBvcHVwKHttYXhXaWR0aDogJzEwMCUnCiAgICAgICAgICAgIAogICAgICAgICAgICB9KTsKCiAgICAgICAgICAgIAogICAgICAgICAgICAgICAgdmFyIGh0bWxfMzY2YWY5YjcyNDEzNDk3NDhiYmE5YjkwNjFiZGNkNDUgPSAkKGA8ZGl2IGlkPSJodG1sXzM2NmFmOWI3MjQxMzQ5NzQ4YmJhOWI5MDYxYmRjZDQ1IiBzdHlsZT0id2lkdGg6IDEwMC4wJTsgaGVpZ2h0OiAxMDAuMCU7Ij5UcnVkZXJpbmcgLSBSaWVtIENsdXN0ZXIgMjwvZGl2PmApWzBdOwogICAgICAgICAgICAgICAgcG9wdXBfNmMyNTEyMDIzOTVhNDJhNWE5ZTIzZjFhNWViN2RiZjEuc2V0Q29udGVudChodG1sXzM2NmFmOWI3MjQxMzQ5NzQ4YmJhOWI5MDYxYmRjZDQ1KTsKICAgICAgICAgICAgCgogICAgICAgICAgICBjaXJjbGVfbWFya2VyXzAwYmU4NjNjZTQ4MDRjYTViODhlYzdiYjBiYjlkMGE1LmJpbmRQb3B1cChwb3B1cF82YzI1MTIwMjM5NWE0MmE1YTllMjNmMWE1ZWI3ZGJmMSkKICAgICAgICAgICAgOwoKICAgICAgICAgICAgCiAgICAgICAgCiAgICAKICAgICAgICAgICAgdmFyIGNpcmNsZV9tYXJrZXJfMmEzMWQ2NjUyYjJhNDRmMjhlMjNlYzYzNjE2YmZlMTAgPSBMLmNpcmNsZU1hcmtlcigKICAgICAgICAgICAgICAgIFs0OC4xMTQ5NjMyLCAxMS41NzAxODk0XSwKICAgICAgICAgICAgICAgIHsKICAiYnViYmxpbmdNb3VzZUV2ZW50cyI6IHRydWUsCiAgImNvbG9yIjogInJlZCIsCiAgImRhc2hBcnJheSI6IG51bGwsCiAgImRhc2hPZmZzZXQiOiBudWxsLAogICJmaWxsIjogdHJ1ZSwKICAiZmlsbENvbG9yIjogInJlZCIsCiAgImZpbGxPcGFjaXR5IjogMC43LAogICJmaWxsUnVsZSI6ICJldmVub2RkIiwKICAibGluZUNhcCI6ICJyb3VuZCIsCiAgImxpbmVKb2luIjogInJvdW5kIiwKICAib3BhY2l0eSI6IDEuMCwKICAicmFkaXVzIjogMTMuODYyMTIxNjQ4NDc4ODMsCiAgInN0cm9rZSI6IHRydWUsCiAgIndlaWdodCI6IDMKfQogICAgICAgICAgICAgICAgKQogICAgICAgICAgICAgICAgLmFkZFRvKG1hcF80ZDRkMDBkNTQ3Yzg0MjQ1YTY4MTg2Y2M4ZGM2OGE1ZCk7CiAgICAgICAgICAgIAogICAgCiAgICAgICAgICAgIHZhciBwb3B1cF8wYjZhMTViMWM3NjE0YzY0OGRiNGI1YzdiNDFiYmY2YSA9IEwucG9wdXAoe21heFdpZHRoOiAnMTAwJScKICAgICAgICAgICAgCiAgICAgICAgICAgIH0pOwoKICAgICAgICAgICAgCiAgICAgICAgICAgICAgICB2YXIgaHRtbF9jZmE0Yjc4MjA1NWU0YmM5YTZlOTQ5Mjc0OWM1Y2YyNyA9ICQoYDxkaXYgaWQ9Imh0bWxfY2ZhNGI3ODIwNTVlNGJjOWE2ZTk0OTI3NDljNWNmMjciIHN0eWxlPSJ3aWR0aDogMTAwLjAlOyBoZWlnaHQ6IDEwMC4wJTsiPlVudGVyZ2llc2luZyAtIEhhcmxhY2hpbmcgQ2x1c3RlciAwPC9kaXY+YClbMF07CiAgICAgICAgICAgICAgICBwb3B1cF8wYjZhMTViMWM3NjE0YzY0OGRiNGI1YzdiNDFiYmY2YS5zZXRDb250ZW50KGh0bWxfY2ZhNGI3ODIwNTVlNGJjOWE2ZTk0OTI3NDljNWNmMjcpOwogICAgICAgICAgICAKCiAgICAgICAgICAgIGNpcmNsZV9tYXJrZXJfMmEzMWQ2NjUyYjJhNDRmMjhlMjNlYzYzNjE2YmZlMTAuYmluZFBvcHVwKHBvcHVwXzBiNmExNWIxYzc2MTRjNjQ4ZGI0YjVjN2I0MWJiZjZhKQogICAgICAgICAgICA7CgogICAgICAgICAgICAKICAgICAgICAKPC9zY3JpcHQ+ onload=\"this.contentDocument.open();this.contentDocument.write(atob(this.getAttribute('data-html')));this.contentDocument.close();\" allowfullscreen webkitallowfullscreen mozallowfullscreen></iframe></div></div>"
            ],
            "text/plain": [
              "<folium.folium.Map at 0x7faa0525d320>"
            ]
          },
          "metadata": {
            "tags": []
          },
          "execution_count": 326
        }
      ]
    },
    {
      "cell_type": "markdown",
      "metadata": {
        "id": "Czv43m8N58m5",
        "colab_type": "text"
      },
      "source": [
        "# Scatter-plot between  vehicles regestered and venues the vehicle insurance tie up in each region of Munich"
      ]
    },
    {
      "cell_type": "code",
      "metadata": {
        "id": "VH55wzsXox-t",
        "colab_type": "code",
        "colab": {
          "base_uri": "https://localhost:8080/",
          "height": 279
        },
        "outputId": "91c32c6a-0ded-49a6-c351-c5d2002f26ca"
      },
      "source": [
        "y_kmeans = kmeans.predict(clusters_df)\n",
        "plt.scatter(clusters_df[:, 0], clusters_df[:, 2], c=y_kmeans, s=50, cmap='viridis')\n",
        "\n",
        "centers = kmeans.cluster_centers_\n",
        "plt.scatter(centers[:, 0], centers[:, 2], c='black', s=200, alpha=0.5);\n",
        "plt.xlabel('Number of vehicels registered')\n",
        "plt.ylabel('Number of venues')\n",
        "plt.show()"
      ],
      "execution_count": null,
      "outputs": [
        {
          "output_type": "display_data",
          "data": {
            "image/png": "[encoded data removed]",
            "text/plain": [
              "<Figure size 432x288 with 1 Axes>"
            ]
          },
          "metadata": {
            "tags": [],
            "needs_background": "light"
          }
        }
      ]
    },
    {
      "cell_type": "markdown",
      "metadata": {
        "id": "LFOSYz-a6RSg",
        "colab_type": "text"
      },
      "source": [
        "# Cluster 0"
      ]
    },
    {
      "cell_type": "code",
      "metadata": {
        "id": "_dw01iLupWk3",
        "colab_type": "code",
        "colab": {
          "base_uri": "https://localhost:8080/",
          "height": 340
        },
        "outputId": "d8a09632-705a-4162-8a02-0f25c8d4b27f"
      },
      "source": [
        "final_df[(final_df['cluster_labels'] == 0)]"
      ],
      "execution_count": null,
      "outputs": [
        {
          "output_type": "execute_result",
          "data": {
            "text/html": [
              "<div>\n",
              "<style scoped>\n",
              "    .dataframe tbody tr th:only-of-type {\n",
              "        vertical-align: middle;\n",
              "    }\n",
              "\n",
              "    .dataframe tbody tr th {\n",
              "        vertical-align: top;\n",
              "    }\n",
              "\n",
              "    .dataframe thead th {\n",
              "        text-align: right;\n",
              "    }\n",
              "</style>\n",
              "<table border=\"1\" class=\"dataframe\">\n",
              "  <thead>\n",
              "    <tr style=\"text-align: right;\">\n",
              "      <th></th>\n",
              "      <th>cluster_labels</th>\n",
              "      <th>borough</th>\n",
              "      <th>residents</th>\n",
              "      <th>surface</th>\n",
              "      <th>population density</th>\n",
              "      <th>share_total_population</th>\n",
              "      <th>latitude</th>\n",
              "      <th>longitude</th>\n",
              "      <th>old-not-working-percentage</th>\n",
              "      <th>no_old_not_working_professionals</th>\n",
              "      <th>total_residents(above 18years)</th>\n",
              "      <th>total_work_professionals</th>\n",
              "      <th>total_work_professionals_percent</th>\n",
              "      <th>car_category</th>\n",
              "      <th>year</th>\n",
              "      <th>percentage_car_registered</th>\n",
              "      <th>no_cars_registered</th>\n",
              "      <th>total_cars_registered</th>\n",
              "      <th>number_places</th>\n",
              "    </tr>\n",
              "  </thead>\n",
              "  <tbody>\n",
              "    <tr>\n",
              "      <th>1</th>\n",
              "      <td>0</td>\n",
              "      <td>Altstadt - Lehel</td>\n",
              "      <td>20422</td>\n",
              "      <td>314.57</td>\n",
              "      <td>65.0</td>\n",
              "      <td>1.39</td>\n",
              "      <td>48.137828</td>\n",
              "      <td>11.574582</td>\n",
              "      <td>22.5</td>\n",
              "      <td>3450</td>\n",
              "      <td>15337</td>\n",
              "      <td>11887</td>\n",
              "      <td>58.21</td>\n",
              "      <td>privat</td>\n",
              "      <td>2017</td>\n",
              "      <td>6.1</td>\n",
              "      <td>454</td>\n",
              "      <td>7382.8</td>\n",
              "      <td>5.0</td>\n",
              "    </tr>\n",
              "    <tr>\n",
              "      <th>11</th>\n",
              "      <td>0</td>\n",
              "      <td>Milbertshofen - Am Hart</td>\n",
              "      <td>73617</td>\n",
              "      <td>1341.64</td>\n",
              "      <td>55.0</td>\n",
              "      <td>5.03</td>\n",
              "      <td>48.182385</td>\n",
              "      <td>11.575043</td>\n",
              "      <td>21.6</td>\n",
              "      <td>11597</td>\n",
              "      <td>53666</td>\n",
              "      <td>42069</td>\n",
              "      <td>57.15</td>\n",
              "      <td>privat</td>\n",
              "      <td>2017</td>\n",
              "      <td>2.6</td>\n",
              "      <td>556</td>\n",
              "      <td>21180.4</td>\n",
              "      <td>7.0</td>\n",
              "    </tr>\n",
              "    <tr>\n",
              "      <th>14</th>\n",
              "      <td>0</td>\n",
              "      <td>Obergiesing - Fasangarten</td>\n",
              "      <td>51499</td>\n",
              "      <td>572.04</td>\n",
              "      <td>90.0</td>\n",
              "      <td>3.52</td>\n",
              "      <td>48.111156</td>\n",
              "      <td>11.588909</td>\n",
              "      <td>20.8</td>\n",
              "      <td>8131</td>\n",
              "      <td>39182</td>\n",
              "      <td>31051</td>\n",
              "      <td>60.29</td>\n",
              "      <td>privat</td>\n",
              "      <td>2017</td>\n",
              "      <td>3.6</td>\n",
              "      <td>579</td>\n",
              "      <td>15992.3</td>\n",
              "      <td>6.0</td>\n",
              "    </tr>\n",
              "    <tr>\n",
              "      <th>19</th>\n",
              "      <td>0</td>\n",
              "      <td>Schwanthalerhöhe</td>\n",
              "      <td>29663</td>\n",
              "      <td>207.02</td>\n",
              "      <td>143.0</td>\n",
              "      <td>2.02</td>\n",
              "      <td>48.133782</td>\n",
              "      <td>11.541057</td>\n",
              "      <td>16.4</td>\n",
              "      <td>3649</td>\n",
              "      <td>22291</td>\n",
              "      <td>18642</td>\n",
              "      <td>62.85</td>\n",
              "      <td>privat</td>\n",
              "      <td>2017</td>\n",
              "      <td>3.4</td>\n",
              "      <td>257</td>\n",
              "      <td>7595.4</td>\n",
              "      <td>12.0</td>\n",
              "    </tr>\n",
              "    <tr>\n",
              "      <th>20</th>\n",
              "      <td>0</td>\n",
              "      <td>Sendling</td>\n",
              "      <td>39953</td>\n",
              "      <td>393.87</td>\n",
              "      <td>101.0</td>\n",
              "      <td>2.73</td>\n",
              "      <td>48.118012</td>\n",
              "      <td>11.539083</td>\n",
              "      <td>19.2</td>\n",
              "      <td>5829</td>\n",
              "      <td>30292</td>\n",
              "      <td>24463</td>\n",
              "      <td>61.23</td>\n",
              "      <td>privat</td>\n",
              "      <td>2017</td>\n",
              "      <td>3.4</td>\n",
              "      <td>419</td>\n",
              "      <td>12347.2</td>\n",
              "      <td>6.0</td>\n",
              "    </tr>\n",
              "    <tr>\n",
              "      <th>24</th>\n",
              "      <td>0</td>\n",
              "      <td>Untergiesing - Harlaching</td>\n",
              "      <td>51937</td>\n",
              "      <td>805.67</td>\n",
              "      <td>64.0</td>\n",
              "      <td>3.55</td>\n",
              "      <td>48.114963</td>\n",
              "      <td>11.570189</td>\n",
              "      <td>27.9</td>\n",
              "      <td>10112</td>\n",
              "      <td>36244</td>\n",
              "      <td>26132</td>\n",
              "      <td>50.31</td>\n",
              "      <td>privat</td>\n",
              "      <td>2017</td>\n",
              "      <td>3.8</td>\n",
              "      <td>717</td>\n",
              "      <td>18650.4</td>\n",
              "      <td>5.0</td>\n",
              "    </tr>\n",
              "  </tbody>\n",
              "</table>\n",
              "</div>"
            ],
            "text/plain": [
              "    cluster_labels  ... number_places\n",
              "1                0  ...           5.0\n",
              "11               0  ...           7.0\n",
              "14               0  ...           6.0\n",
              "19               0  ...          12.0\n",
              "20               0  ...           6.0\n",
              "24               0  ...           5.0\n",
              "\n",
              "[6 rows x 19 columns]"
            ]
          },
          "metadata": {
            "tags": []
          },
          "execution_count": 329
        }
      ]
    },
    {
      "cell_type": "markdown",
      "metadata": {
        "id": "ahZrMfE56Upa",
        "colab_type": "text"
      },
      "source": [
        "# Cluster 1"
      ]
    },
    {
      "cell_type": "code",
      "metadata": {
        "id": "Wzt1sEWtpojM",
        "colab_type": "code",
        "colab": {
          "base_uri": "https://localhost:8080/",
          "height": 611
        },
        "outputId": "263af696-c415-410a-8979-6c32284f8d22"
      },
      "source": [
        "final_df[(final_df['cluster_labels'] == 1)]"
      ],
      "execution_count": null,
      "outputs": [
        {
          "output_type": "execute_result",
          "data": {
            "text/html": [
              "<div>\n",
              "<style scoped>\n",
              "    .dataframe tbody tr th:only-of-type {\n",
              "        vertical-align: middle;\n",
              "    }\n",
              "\n",
              "    .dataframe tbody tr th {\n",
              "        vertical-align: top;\n",
              "    }\n",
              "\n",
              "    .dataframe thead th {\n",
              "        text-align: right;\n",
              "    }\n",
              "</style>\n",
              "<table border=\"1\" class=\"dataframe\">\n",
              "  <thead>\n",
              "    <tr style=\"text-align: right;\">\n",
              "      <th></th>\n",
              "      <th>cluster_labels</th>\n",
              "      <th>borough</th>\n",
              "      <th>residents</th>\n",
              "      <th>surface</th>\n",
              "      <th>population density</th>\n",
              "      <th>share_total_population</th>\n",
              "      <th>latitude</th>\n",
              "      <th>longitude</th>\n",
              "      <th>old-not-working-percentage</th>\n",
              "      <th>no_old_not_working_professionals</th>\n",
              "      <th>total_residents(above 18years)</th>\n",
              "      <th>total_work_professionals</th>\n",
              "      <th>total_work_professionals_percent</th>\n",
              "      <th>car_category</th>\n",
              "      <th>year</th>\n",
              "      <th>percentage_car_registered</th>\n",
              "      <th>no_cars_registered</th>\n",
              "      <th>total_cars_registered</th>\n",
              "      <th>number_places</th>\n",
              "    </tr>\n",
              "  </thead>\n",
              "  <tbody>\n",
              "    <tr>\n",
              "      <th>0</th>\n",
              "      <td>1</td>\n",
              "      <td>Allach - Untermenzing</td>\n",
              "      <td>30737</td>\n",
              "      <td>1545.17</td>\n",
              "      <td>20.0</td>\n",
              "      <td>2.10</td>\n",
              "      <td>48.195157</td>\n",
              "      <td>11.462973</td>\n",
              "      <td>28.4</td>\n",
              "      <td>6167</td>\n",
              "      <td>21710</td>\n",
              "      <td>15543</td>\n",
              "      <td>50.57</td>\n",
              "      <td>privat</td>\n",
              "      <td>2017</td>\n",
              "      <td>3.9</td>\n",
              "      <td>565</td>\n",
              "      <td>14672.4</td>\n",
              "      <td>3.0</td>\n",
              "    </tr>\n",
              "    <tr>\n",
              "      <th>2</th>\n",
              "      <td>1</td>\n",
              "      <td>Au - Haidhausen</td>\n",
              "      <td>59752</td>\n",
              "      <td>421.96</td>\n",
              "      <td>142.0</td>\n",
              "      <td>4.08</td>\n",
              "      <td>48.128753</td>\n",
              "      <td>11.590536</td>\n",
              "      <td>19.0</td>\n",
              "      <td>8514</td>\n",
              "      <td>44828</td>\n",
              "      <td>36314</td>\n",
              "      <td>60.77</td>\n",
              "      <td>privat</td>\n",
              "      <td>2017</td>\n",
              "      <td>4.2</td>\n",
              "      <td>710</td>\n",
              "      <td>16793.1</td>\n",
              "      <td>2.0</td>\n",
              "    </tr>\n",
              "    <tr>\n",
              "      <th>3</th>\n",
              "      <td>1</td>\n",
              "      <td>Aubing - Lochhausen - Langwied</td>\n",
              "      <td>42305</td>\n",
              "      <td>3406.02</td>\n",
              "      <td>12.0</td>\n",
              "      <td>2.89</td>\n",
              "      <td>48.165059</td>\n",
              "      <td>11.400221</td>\n",
              "      <td>29.9</td>\n",
              "      <td>9068</td>\n",
              "      <td>30312</td>\n",
              "      <td>21244</td>\n",
              "      <td>50.22</td>\n",
              "      <td>privat</td>\n",
              "      <td>2017</td>\n",
              "      <td>3.4</td>\n",
              "      <td>604</td>\n",
              "      <td>17819.1</td>\n",
              "      <td>1.0</td>\n",
              "    </tr>\n",
              "    <tr>\n",
              "      <th>4</th>\n",
              "      <td>1</td>\n",
              "      <td>Berg am Laim</td>\n",
              "      <td>43068</td>\n",
              "      <td>631.46</td>\n",
              "      <td>68.0</td>\n",
              "      <td>2.94</td>\n",
              "      <td>48.123483</td>\n",
              "      <td>11.633451</td>\n",
              "      <td>25.0</td>\n",
              "      <td>7865</td>\n",
              "      <td>31500</td>\n",
              "      <td>23635</td>\n",
              "      <td>54.88</td>\n",
              "      <td>privat</td>\n",
              "      <td>2017</td>\n",
              "      <td>3.7</td>\n",
              "      <td>544</td>\n",
              "      <td>14881.8</td>\n",
              "      <td>3.0</td>\n",
              "    </tr>\n",
              "    <tr>\n",
              "      <th>6</th>\n",
              "      <td>1</td>\n",
              "      <td>Feldmoching - Hasenbergl</td>\n",
              "      <td>59391</td>\n",
              "      <td>2893.78</td>\n",
              "      <td>21.0</td>\n",
              "      <td>4.05</td>\n",
              "      <td>48.218462</td>\n",
              "      <td>11.520409</td>\n",
              "      <td>27.8</td>\n",
              "      <td>11263</td>\n",
              "      <td>40481</td>\n",
              "      <td>29218</td>\n",
              "      <td>49.20</td>\n",
              "      <td>privat</td>\n",
              "      <td>2017</td>\n",
              "      <td>3.5</td>\n",
              "      <td>777</td>\n",
              "      <td>22302.2</td>\n",
              "      <td>0.0</td>\n",
              "    </tr>\n",
              "    <tr>\n",
              "      <th>7</th>\n",
              "      <td>1</td>\n",
              "      <td>Hadern</td>\n",
              "      <td>48945</td>\n",
              "      <td>922.37</td>\n",
              "      <td>53.0</td>\n",
              "      <td>3.34</td>\n",
              "      <td>48.118064</td>\n",
              "      <td>11.481842</td>\n",
              "      <td>33.3</td>\n",
              "      <td>10865</td>\n",
              "      <td>32602</td>\n",
              "      <td>21737</td>\n",
              "      <td>44.41</td>\n",
              "      <td>privat</td>\n",
              "      <td>2017</td>\n",
              "      <td>3.5</td>\n",
              "      <td>647</td>\n",
              "      <td>18413.3</td>\n",
              "      <td>1.0</td>\n",
              "    </tr>\n",
              "    <tr>\n",
              "      <th>8</th>\n",
              "      <td>1</td>\n",
              "      <td>Laim</td>\n",
              "      <td>54030</td>\n",
              "      <td>528.59</td>\n",
              "      <td>102.0</td>\n",
              "      <td>3.69</td>\n",
              "      <td>40.739978</td>\n",
              "      <td>-84.105006</td>\n",
              "      <td>27.0</td>\n",
              "      <td>10645</td>\n",
              "      <td>39465</td>\n",
              "      <td>28820</td>\n",
              "      <td>53.34</td>\n",
              "      <td>privat</td>\n",
              "      <td>2017</td>\n",
              "      <td>3.3</td>\n",
              "      <td>592</td>\n",
              "      <td>18123.4</td>\n",
              "      <td>2.0</td>\n",
              "    </tr>\n",
              "    <tr>\n",
              "      <th>9</th>\n",
              "      <td>1</td>\n",
              "      <td>Ludwigsvorstadt - Isarvorstadt</td>\n",
              "      <td>50620</td>\n",
              "      <td>440.14</td>\n",
              "      <td>115.0</td>\n",
              "      <td>3.46</td>\n",
              "      <td>48.130340</td>\n",
              "      <td>11.573366</td>\n",
              "      <td>14.3</td>\n",
              "      <td>5790</td>\n",
              "      <td>40440</td>\n",
              "      <td>34650</td>\n",
              "      <td>68.45</td>\n",
              "      <td>privat</td>\n",
              "      <td>2017</td>\n",
              "      <td>4.2</td>\n",
              "      <td>556</td>\n",
              "      <td>13288.2</td>\n",
              "      <td>1.0</td>\n",
              "    </tr>\n",
              "    <tr>\n",
              "      <th>10</th>\n",
              "      <td>1</td>\n",
              "      <td>Maxvorstadt</td>\n",
              "      <td>51642</td>\n",
              "      <td>429.79</td>\n",
              "      <td>120.0</td>\n",
              "      <td>3.53</td>\n",
              "      <td>48.151092</td>\n",
              "      <td>11.562418</td>\n",
              "      <td>15.1</td>\n",
              "      <td>6137</td>\n",
              "      <td>40749</td>\n",
              "      <td>34612</td>\n",
              "      <td>67.02</td>\n",
              "      <td>privat</td>\n",
              "      <td>2017</td>\n",
              "      <td>4.6</td>\n",
              "      <td>654</td>\n",
              "      <td>14123.6</td>\n",
              "      <td>3.0</td>\n",
              "    </tr>\n",
              "    <tr>\n",
              "      <th>12</th>\n",
              "      <td>1</td>\n",
              "      <td>Moosach</td>\n",
              "      <td>51537</td>\n",
              "      <td>1109.36</td>\n",
              "      <td>46.0</td>\n",
              "      <td>3.52</td>\n",
              "      <td>48.031726</td>\n",
              "      <td>11.875678</td>\n",
              "      <td>26.5</td>\n",
              "      <td>9757</td>\n",
              "      <td>36838</td>\n",
              "      <td>27081</td>\n",
              "      <td>52.55</td>\n",
              "      <td>privat</td>\n",
              "      <td>2017</td>\n",
              "      <td>3.4</td>\n",
              "      <td>644</td>\n",
              "      <td>18828.8</td>\n",
              "      <td>0.0</td>\n",
              "    </tr>\n",
              "    <tr>\n",
              "      <th>18</th>\n",
              "      <td>1</td>\n",
              "      <td>Schwabing - West</td>\n",
              "      <td>65892</td>\n",
              "      <td>436.30</td>\n",
              "      <td>151.0</td>\n",
              "      <td>4.50</td>\n",
              "      <td>48.168271</td>\n",
              "      <td>11.569873</td>\n",
              "      <td>23.3</td>\n",
              "      <td>11439</td>\n",
              "      <td>49129</td>\n",
              "      <td>37690</td>\n",
              "      <td>57.20</td>\n",
              "      <td>privat</td>\n",
              "      <td>2017</td>\n",
              "      <td>3.5</td>\n",
              "      <td>718</td>\n",
              "      <td>20413.3</td>\n",
              "      <td>1.0</td>\n",
              "    </tr>\n",
              "    <tr>\n",
              "      <th>21</th>\n",
              "      <td>1</td>\n",
              "      <td>Sendling - Westpark</td>\n",
              "      <td>55405</td>\n",
              "      <td>781.45</td>\n",
              "      <td>71.0</td>\n",
              "      <td>3.78</td>\n",
              "      <td>48.118031</td>\n",
              "      <td>11.519333</td>\n",
              "      <td>26.4</td>\n",
              "      <td>10795</td>\n",
              "      <td>40967</td>\n",
              "      <td>30172</td>\n",
              "      <td>54.46</td>\n",
              "      <td>privat</td>\n",
              "      <td>2017</td>\n",
              "      <td>3.5</td>\n",
              "      <td>681</td>\n",
              "      <td>19618.1</td>\n",
              "      <td>1.0</td>\n",
              "    </tr>\n",
              "  </tbody>\n",
              "</table>\n",
              "</div>"
            ],
            "text/plain": [
              "    cluster_labels  ... number_places\n",
              "0                1  ...           3.0\n",
              "2                1  ...           2.0\n",
              "3                1  ...           1.0\n",
              "4                1  ...           3.0\n",
              "6                1  ...           0.0\n",
              "7                1  ...           1.0\n",
              "8                1  ...           2.0\n",
              "9                1  ...           1.0\n",
              "10               1  ...           3.0\n",
              "12               1  ...           0.0\n",
              "18               1  ...           1.0\n",
              "21               1  ...           1.0\n",
              "\n",
              "[12 rows x 19 columns]"
            ]
          },
          "metadata": {
            "tags": []
          },
          "execution_count": 330
        }
      ]
    },
    {
      "cell_type": "markdown",
      "metadata": {
        "id": "l2GydUAT6XHF",
        "colab_type": "text"
      },
      "source": [
        "# Cluster 2"
      ]
    },
    {
      "cell_type": "code",
      "metadata": {
        "id": "cZfTp0uRpwWo",
        "colab_type": "code",
        "colab": {
          "base_uri": "https://localhost:8080/",
          "height": 456
        },
        "outputId": "de3f574b-5a33-45d0-8662-850b62650eb7"
      },
      "source": [
        "final_df[(final_df['cluster_labels'] == 2)]"
      ],
      "execution_count": null,
      "outputs": [
        {
          "output_type": "execute_result",
          "data": {
            "text/html": [
              "<div>\n",
              "<style scoped>\n",
              "    .dataframe tbody tr th:only-of-type {\n",
              "        vertical-align: middle;\n",
              "    }\n",
              "\n",
              "    .dataframe tbody tr th {\n",
              "        vertical-align: top;\n",
              "    }\n",
              "\n",
              "    .dataframe thead th {\n",
              "        text-align: right;\n",
              "    }\n",
              "</style>\n",
              "<table border=\"1\" class=\"dataframe\">\n",
              "  <thead>\n",
              "    <tr style=\"text-align: right;\">\n",
              "      <th></th>\n",
              "      <th>cluster_labels</th>\n",
              "      <th>borough</th>\n",
              "      <th>residents</th>\n",
              "      <th>surface</th>\n",
              "      <th>population density</th>\n",
              "      <th>share_total_population</th>\n",
              "      <th>latitude</th>\n",
              "      <th>longitude</th>\n",
              "      <th>old-not-working-percentage</th>\n",
              "      <th>no_old_not_working_professionals</th>\n",
              "      <th>total_residents(above 18years)</th>\n",
              "      <th>total_work_professionals</th>\n",
              "      <th>total_work_professionals_percent</th>\n",
              "      <th>car_category</th>\n",
              "      <th>year</th>\n",
              "      <th>percentage_car_registered</th>\n",
              "      <th>no_cars_registered</th>\n",
              "      <th>total_cars_registered</th>\n",
              "      <th>number_places</th>\n",
              "    </tr>\n",
              "  </thead>\n",
              "  <tbody>\n",
              "    <tr>\n",
              "      <th>5</th>\n",
              "      <td>2</td>\n",
              "      <td>Bogenhausen</td>\n",
              "      <td>82138</td>\n",
              "      <td>2370.97</td>\n",
              "      <td>35.0</td>\n",
              "      <td>5.61</td>\n",
              "      <td>48.154782</td>\n",
              "      <td>11.633484</td>\n",
              "      <td>31.3</td>\n",
              "      <td>17773</td>\n",
              "      <td>56793</td>\n",
              "      <td>39020</td>\n",
              "      <td>47.51</td>\n",
              "      <td>privat</td>\n",
              "      <td>2017</td>\n",
              "      <td>4.4</td>\n",
              "      <td>1539</td>\n",
              "      <td>35320.7</td>\n",
              "      <td>2.0</td>\n",
              "    </tr>\n",
              "    <tr>\n",
              "      <th>13</th>\n",
              "      <td>2</td>\n",
              "      <td>Neuhausen - Nymphenburg</td>\n",
              "      <td>95906</td>\n",
              "      <td>1291.45</td>\n",
              "      <td>74.0</td>\n",
              "      <td>6.55</td>\n",
              "      <td>48.154222</td>\n",
              "      <td>11.531517</td>\n",
              "      <td>23.5</td>\n",
              "      <td>16412</td>\n",
              "      <td>69938</td>\n",
              "      <td>53526</td>\n",
              "      <td>55.81</td>\n",
              "      <td>privat</td>\n",
              "      <td>2017</td>\n",
              "      <td>3.8</td>\n",
              "      <td>1203</td>\n",
              "      <td>31707.3</td>\n",
              "      <td>1.0</td>\n",
              "    </tr>\n",
              "    <tr>\n",
              "      <th>15</th>\n",
              "      <td>2</td>\n",
              "      <td>Pasing - Obermenzing</td>\n",
              "      <td>70783</td>\n",
              "      <td>1649.78</td>\n",
              "      <td>43.0</td>\n",
              "      <td>4.83</td>\n",
              "      <td>48.152363</td>\n",
              "      <td>11.468434</td>\n",
              "      <td>29.1</td>\n",
              "      <td>14315</td>\n",
              "      <td>49160</td>\n",
              "      <td>34845</td>\n",
              "      <td>49.23</td>\n",
              "      <td>privat</td>\n",
              "      <td>2017</td>\n",
              "      <td>3.9</td>\n",
              "      <td>1128</td>\n",
              "      <td>29016.7</td>\n",
              "      <td>4.0</td>\n",
              "    </tr>\n",
              "    <tr>\n",
              "      <th>16</th>\n",
              "      <td>2</td>\n",
              "      <td>Ramersdorf - Perlach</td>\n",
              "      <td>108244</td>\n",
              "      <td>1989.50</td>\n",
              "      <td>54.0</td>\n",
              "      <td>7.39</td>\n",
              "      <td>48.100894</td>\n",
              "      <td>11.633371</td>\n",
              "      <td>30.2</td>\n",
              "      <td>22811</td>\n",
              "      <td>75525</td>\n",
              "      <td>52714</td>\n",
              "      <td>48.70</td>\n",
              "      <td>privat</td>\n",
              "      <td>2017</td>\n",
              "      <td>3.7</td>\n",
              "      <td>1431</td>\n",
              "      <td>38825.3</td>\n",
              "      <td>5.0</td>\n",
              "    </tr>\n",
              "    <tr>\n",
              "      <th>17</th>\n",
              "      <td>2</td>\n",
              "      <td>Schwabing - Freimann</td>\n",
              "      <td>69676</td>\n",
              "      <td>2567.22</td>\n",
              "      <td>27.0</td>\n",
              "      <td>4.76</td>\n",
              "      <td>48.189278</td>\n",
              "      <td>11.608583</td>\n",
              "      <td>20.8</td>\n",
              "      <td>11471</td>\n",
              "      <td>55181</td>\n",
              "      <td>43710</td>\n",
              "      <td>62.73</td>\n",
              "      <td>privat</td>\n",
              "      <td>2017</td>\n",
              "      <td>4.3</td>\n",
              "      <td>1053</td>\n",
              "      <td>24619.8</td>\n",
              "      <td>2.0</td>\n",
              "    </tr>\n",
              "    <tr>\n",
              "      <th>22</th>\n",
              "      <td>2</td>\n",
              "      <td>Thalkirchen - Obersendling - Forstenried - Für...</td>\n",
              "      <td>90790</td>\n",
              "      <td>1776.31</td>\n",
              "      <td>51.0</td>\n",
              "      <td>6.20</td>\n",
              "      <td>48.084213</td>\n",
              "      <td>11.508051</td>\n",
              "      <td>32.1</td>\n",
              "      <td>20199</td>\n",
              "      <td>62927</td>\n",
              "      <td>42728</td>\n",
              "      <td>47.06</td>\n",
              "      <td>privat</td>\n",
              "      <td>2017</td>\n",
              "      <td>4.2</td>\n",
              "      <td>1565</td>\n",
              "      <td>37156.9</td>\n",
              "      <td>3.0</td>\n",
              "    </tr>\n",
              "    <tr>\n",
              "      <th>23</th>\n",
              "      <td>2</td>\n",
              "      <td>Trudering - Riem</td>\n",
              "      <td>67009</td>\n",
              "      <td>2245.05</td>\n",
              "      <td>30.0</td>\n",
              "      <td>4.57</td>\n",
              "      <td>48.123175</td>\n",
              "      <td>11.664078</td>\n",
              "      <td>23.0</td>\n",
              "      <td>11079</td>\n",
              "      <td>48249</td>\n",
              "      <td>37170</td>\n",
              "      <td>55.47</td>\n",
              "      <td>privat</td>\n",
              "      <td>2017</td>\n",
              "      <td>4.7</td>\n",
              "      <td>1378</td>\n",
              "      <td>29526.4</td>\n",
              "      <td>3.0</td>\n",
              "    </tr>\n",
              "  </tbody>\n",
              "</table>\n",
              "</div>"
            ],
            "text/plain": [
              "    cluster_labels  ... number_places\n",
              "5                2  ...           2.0\n",
              "13               2  ...           1.0\n",
              "15               2  ...           4.0\n",
              "16               2  ...           5.0\n",
              "17               2  ...           2.0\n",
              "22               2  ...           3.0\n",
              "23               2  ...           3.0\n",
              "\n",
              "[7 rows x 19 columns]"
            ]
          },
          "metadata": {
            "tags": []
          },
          "execution_count": 331
        }
      ]
    },
    {
      "cell_type": "markdown",
      "metadata": {
        "id": "Qmvsq5ias5RJ",
        "colab_type": "text"
      },
      "source": [
        "# Results and discussion"
      ]
    },
    {
      "cell_type": "markdown",
      "metadata": {
        "id": "abdy-_qRs2fm",
        "colab_type": "text"
      },
      "source": [
        "From the clusters we can observe\n",
        "cluster 0 - Have high number_venues where advertisement can be triggered \n",
        "\n",
        "Cluster 2 - Have medium number venues where advertisement can be triggered\n",
        "\n",
        "Cluster 1 - Have low number of venues where advertisement can be triggered\n",
        "\n",
        "So we have to give different set of offers/promotions for different clusters as the vehicles registered is high for cluster 0, medium for cluster 2 and low for cluster 1.\n",
        "Based on the above clusters, Vehicle insurance company can try for different offers and they can use this initial clusters for promoting their company and see if the number of people opting for vehicle insurance or not.\n",
        "\n",
        "However, one can perform further analysis of this particular cluster with additional features like net_income, how_freuqent people are visiting a venue category in borough, number of accidents happening in borough. With that we will get more accurate clusters for advertising vehicle insurance. "
      ]
    },
    {
      "cell_type": "markdown",
      "metadata": {
        "id": "jY5TnYM_wxcq",
        "colab_type": "text"
      },
      "source": [
        "# Conclusion \n",
        "To conclude, the basic data analysis was performed to identify different clusters for different kind of offers and advertisements for vehicle insurance in the city of Munich. During the analysis, several important statistical features of the boroughs were explored and visualized. Furthermore, clustering helped us to highlight the group of optimal areas. \n",
        "Finally we have three clusters based on number_venues present in the borough, number_vehicles registered and number_working_people in each borough. I hope the clusters have approximately similar characteristics which can be used by vehicle insurance company for their promotion activities"
      ]
    },
    {
      "cell_type": "code",
      "metadata": {
        "id": "zQJR3q7XyUWZ",
        "colab_type": "code",
        "colab": {}
      },
      "source": [
        ""
      ],
      "execution_count": null,
      "outputs": []
    }
  ]
}